{
  "cells": [
    {
      "cell_type": "code",
      "execution_count": null,
      "metadata": {
        "id": "1J1HYIsiUUUn"
      },
      "outputs": [],
      "source": []
    },
    {
      "cell_type": "code",
      "execution_count": null,
      "metadata": {
        "colab": {
          "base_uri": "https://localhost:8080/"
        },
        "id": "as9SOlPHUU_q",
        "outputId": "230965a5-c55c-489f-9adc-783125e4fec3"
      },
      "outputs": [],
      "source": [
        "# from google.colab import drive\n",
        "# drive.mount('/content/drive')"
      ]
    },
    {
      "cell_type": "code",
      "execution_count": null,
      "metadata": {
        "id": "F1fQbD56H3Zn"
      },
      "outputs": [],
      "source": [
        "import pandas as pd\n",
        "from sklearn.model_selection import train_test_split\n",
        "from sklearn.preprocessing import StandardScaler\n",
        "from sklearn.impute import SimpleImputer\n",
        "from sklearn.preprocessing import OneHotEncoder\n",
        "from sklearn.compose import ColumnTransformer\n",
        "from sklearn.pipeline import Pipeline\n",
        "from sklearn.linear_model import LogisticRegression\n",
        "from sklearn.metrics import accuracy_score, confusion_matrix, classification_report\n",
        "from imblearn.over_sampling import SMOTE\n",
        "\n",
        "from sklearn.linear_model import LogisticRegression\n",
        "from sklearn.preprocessing import StandardScaler, PolynomialFeatures\n",
        "\n",
        "from sklearn.model_selection import GridSearchCV\n",
        "from imblearn.over_sampling import SMOTE\n",
        "\n",
        "import numpy as np\n",
        "import matplotlib.pyplot as plt\n",
        "import seaborn as sns"
      ]
    },
    {
      "cell_type": "code",
      "execution_count": null,
      "metadata": {
        "id": "xiy0uhlYH3Zo"
      },
      "outputs": [],
      "source": [
        "pd.set_option('display.max_rows', None)\n",
        "pd.set_option('display.float_format', lambda x: '%.5f' % x)\n",
        "pd.set_option('display.max_columns', None)"
      ]
    },
    {
      "cell_type": "code",
      "execution_count": null,
      "metadata": {
        "colab": {
          "base_uri": "https://localhost:8080/",
          "height": 278
        },
        "id": "zvQA4mGiH3Zo",
        "outputId": "3674d7eb-2cda-4d06-e4da-a1b2946b6f2a"
      },
      "outputs": [],
      "source": [
        "df = pd.read_csv('../files/playground-series-s4e6/train.csv')\n",
        "df.head()"
      ]
    },
    {
      "cell_type": "code",
      "execution_count": null,
      "metadata": {
        "colab": {
          "base_uri": "https://localhost:8080/",
          "height": 226
        },
        "id": "HYH53HcanMbX",
        "outputId": "030e7106-6375-4a7a-d8fb-0fea027c27cf"
      },
      "outputs": [],
      "source": [
        "df.drop('id',axis=1, inplace=True)\n",
        "\n",
        "df.columns = df.columns.str.replace(' ', '_')\n",
        "df.columns = df.columns.str.replace('(', '')\n",
        "df.columns = df.columns.str.replace(')', '')\n",
        "\n",
        "df.columns = df.columns.str.replace('/', '_')\n",
        "df.columns = df.columns.str.replace('-', '_')\n",
        "df.columns = df.columns.str.replace(\"'\", '_')\n",
        "\n",
        "df.head()"
      ]
    },
    {
      "cell_type": "code",
      "execution_count": null,
      "metadata": {
        "colab": {
          "base_uri": "https://localhost:8080/"
        },
        "id": "OFUVvWJOVvd0",
        "outputId": "89a00c19-e48a-4653-9cf2-6dfe43858b7a"
      },
      "outputs": [],
      "source": [
        "df.info(verbose=True)"
      ]
    },
    {
      "cell_type": "code",
      "execution_count": null,
      "metadata": {
        "colab": {
          "base_uri": "https://localhost:8080/"
        },
        "id": "MlHNK6iOYeVw",
        "outputId": "65fb7e9d-8c5f-40f0-a311-e6f8395c6eab"
      },
      "outputs": [],
      "source": [
        "df.columns"
      ]
    },
    {
      "cell_type": "code",
      "execution_count": null,
      "metadata": {
        "colab": {
          "base_uri": "https://localhost:8080/",
          "height": 53
        },
        "id": "3sQCVrP3WI-T",
        "outputId": "3e4f4469-bb51-45aa-c88d-cb642a60ed6b"
      },
      "outputs": [],
      "source": [
        "# prompt: Gerar codigo usando plottly para gerar um boxplot e um histograma das variaveis do dataframe df, destacando a coluna Target. Colocar em um loop para testar todas as variaveis\n",
        "'''\n",
        "for col in df.columns:\n",
        "  print(df[col].describe())\n",
        "  print(df[col].value_counts())\n",
        "  X = df[[col,'Target']]\n",
        "  fig1 = px.box(X, x = col, color = 'Target')\n",
        "  fig2 = px.histogram(df, x = col, text_auto = True, color = 'Target', barmode = 'group')\n",
        "  fig1.show()\n",
        "  fig2.show()\n",
        "'''"
      ]
    },
    {
      "cell_type": "code",
      "execution_count": null,
      "metadata": {
        "id": "5BsXkZvTY6ut"
      },
      "outputs": [],
      "source": [
        "x = df.drop('Target', axis = 1)\n",
        "y = df['Target']"
      ]
    },
    {
      "cell_type": "code",
      "execution_count": null,
      "metadata": {},
      "outputs": [],
      "source": [
        "one_hot = make_column_transformer((\n",
        "    OneHotEncoder(drop = 'if_binary'),\n",
        "    ['Marital_status', 'Application_mode', 'Application_order', 'Course',\n",
        "       'Daytime_evening_attendance', 'Previous_qualification',\n",
        "       'Previous_qualification_grade', 'Nacionality', 'Mother_s_qualification',\n",
        "       'Father_s_qualification', 'Mother_s_occupation', 'Father_s_occupation',\n",
        "       'Admission_grade', 'Displaced', 'Educational_special_needs', 'Debtor',\n",
        "       'Tuition_fees_up_to_date', 'Gender', 'Scholarship_holder',\n",
        "       'Age_at_enrollment', 'International',\n",
        "       'Curricular_units_1st_sem_credited',\n",
        "       'Curricular_units_1st_sem_enrolled',\n",
        "       'Curricular_units_1st_sem_evaluations',\n",
        "       'Curricular_units_1st_sem_approved', 'Curricular_units_1st_sem_grade',\n",
        "       'Curricular_units_1st_sem_without_evaluations',\n",
        "       'Curricular_units_2nd_sem_credited',\n",
        "       'Curricular_units_2nd_sem_enrolled',\n",
        "       'Curricular_units_2nd_sem_evaluations',\n",
        "       'Curricular_units_2nd_sem_approved', 'Curricular_units_2nd_sem_grade',\n",
        "       'Curricular_units_2nd_sem_without_evaluations', 'Unemployment_rate',\n",
        "       'Inflation_rate', 'GDP']\n",
        "),\n",
        "    remainder = 'passthrough',\n",
        "    sparse_threshold=0)"
      ]
    },
    {
      "cell_type": "code",
      "execution_count": null,
      "metadata": {},
      "outputs": [],
      "source": [
        "x = one_hot.fit_transform(x)"
      ]
    },
    {
      "cell_type": "code",
      "execution_count": null,
      "metadata": {},
      "outputs": [],
      "source": [
        "y_train_lbl = label_encoder.fit_transform(y_train)\n",
        "y_train_lbl"
      ]
    },
    {
      "cell_type": "code",
      "execution_count": null,
      "metadata": {
        "id": "Xx6M2zaixDj9"
      },
      "outputs": [],
      "source": [
        "from sklearn.compose import make_column_transformer\n",
        "from sklearn.preprocessing import OneHotEncoder"
      ]
    },
    {
      "cell_type": "code",
      "execution_count": null,
      "metadata": {
        "id": "i9MAr_YLzPs5"
      },
      "outputs": [],
      "source": [
        "colunas = x.columns\n",
        "colunas"
      ]
    },
    {
      "cell_type": "code",
      "execution_count": null,
      "metadata": {},
      "outputs": [],
      "source": [
        "# Dividir os dados em conjuntos de treinamento e teste\n",
        "x, x_test, y, y_test = train_test_split(x, y, test_size=0.2, random_state=42)"
      ]
    },
    {
      "cell_type": "code",
      "execution_count": null,
      "metadata": {},
      "outputs": [],
      "source": [
        "x"
      ]
    },
    {
      "cell_type": "code",
      "execution_count": null,
      "metadata": {},
      "outputs": [],
      "source": [
        "y"
      ]
    },
    {
      "cell_type": "code",
      "execution_count": null,
      "metadata": {},
      "outputs": [],
      "source": [
        "# Dividir os dados em conjuntos de treinamento e teste\n",
        "X_train, X_Val, y_train, y_Val = train_test_split(x, y, test_size=0.2, random_state=42)"
      ]
    },
    {
      "cell_type": "code",
      "execution_count": null,
      "metadata": {},
      "outputs": [],
      "source": [
        "X_train"
      ]
    },
    {
      "cell_type": "code",
      "execution_count": null,
      "metadata": {},
      "outputs": [],
      "source": [
        "y_train"
      ]
    },
    {
      "cell_type": "code",
      "execution_count": null,
      "metadata": {
        "id": "KtlcF0lMzVR3"
      },
      "outputs": [],
      "source": []
    },
    {
      "cell_type": "code",
      "execution_count": null,
      "metadata": {
        "id": "XSA-dwhezoX2"
      },
      "outputs": [],
      "source": [
        "X_train_One = one_hot.fit_transform(X_train)"
      ]
    },
    {
      "cell_type": "code",
      "execution_count": null,
      "metadata": {
        "colab": {
          "base_uri": "https://localhost:8080/"
        },
        "id": "Bpb3ZOD4Yxz_",
        "outputId": "8780f7f5-b6ae-4dbe-95d8-ddf6cdbd0d4d"
      },
      "outputs": [],
      "source": [
        "one_hot.get_feature_names_out(colunas)"
      ]
    },
    {
      "cell_type": "code",
      "execution_count": null,
      "metadata": {},
      "outputs": [],
      "source": [
        "X_train_One"
      ]
    },
    {
      "cell_type": "code",
      "execution_count": null,
      "metadata": {
        "id": "dZwy9MyQaCbZ"
      },
      "outputs": [],
      "source": [
        "from sklearn.preprocessing import LabelEncoder"
      ]
    },
    {
      "cell_type": "code",
      "execution_count": null,
      "metadata": {
        "id": "QpTwInx71-A6"
      },
      "outputs": [],
      "source": [
        "label_encoder = LabelEncoder()"
      ]
    },
    {
      "cell_type": "code",
      "execution_count": null,
      "metadata": {
        "id": "dCXJaEE12Cfi"
      },
      "outputs": [],
      "source": [
        "y_train_lbl = label_encoder.fit_transform(y_train)"
      ]
    },
    {
      "cell_type": "code",
      "execution_count": null,
      "metadata": {
        "colab": {
          "base_uri": "https://localhost:8080/"
        },
        "id": "CqRzkNb1aZgx",
        "outputId": "e3b8197d-3a6a-440c-af3e-3b627e5da460"
      },
      "outputs": [],
      "source": [
        "y_train_lbl"
      ]
    },
    {
      "cell_type": "markdown",
      "metadata": {
        "id": "MYausJTRXLSY"
      },
      "source": [
        "colums = [ 'Marital status' ,'Application mode' ,'Application order' ,'Course'\n",
        "        ,'Previous qualification' , 'Debtor',\n",
        "        'Tuition fees up to date', 'Gender', 'Scholarship holder',\n",
        "        'Age at enrollment', 'International','Inflation rate', 'GDP',\n",
        "        \"Mother's qualification\", \"Father's qualification\",'Displaced',\n",
        "        'Educational special needs', 'Debtor']"
      ]
    },
    {
      "cell_type": "code",
      "execution_count": null,
      "metadata": {
        "id": "RZcpAACGWFt8"
      },
      "outputs": [],
      "source": [
        "from sklearn.linear_model import LogisticRegressionCV\n",
        "\n",
        "# Define the LogisticRegressionCV model\n",
        "model = LogisticRegressionCV(cv=5, random_state=42)\n",
        "\n",
        "model.fit(X_train_One, y_train_lbl)\n",
        "\n",
        "# Print the best parameters and best score\n",
        "print(\"Best score:\", model.score)\n",
        "\n",
        "\n"
      ]
    },
    {
      "cell_type": "code",
      "execution_count": null,
      "metadata": {},
      "outputs": [],
      "source": []
    },
    {
      "cell_type": "markdown",
      "metadata": {
        "id": "zeQk5tjWH3Zp"
      },
      "source": [
        "numerical_features = ['Previous qualification (grade)',\"Admission grade\",\"Displaced\",\"Educational special needs\",\"Debtor\"\n",
        " ,\"Gender\",\"Tuition fees up to date\",\"Scholarship holder\",\"International\"\n",
        " ,\"Curricular units 1st sem (credited)\", \"Curricular units 1st sem (enrolled)\"\n",
        " ,\"Curricular units 1st sem (evaluations)\", \"Curricular units 1st sem (approved)\"\n",
        " ,\"Curricular units 1st sem (grade)\", \"Curricular units 1st sem (without evaluations)\"\n",
        " ,\"Curricular units 2nd sem (credited)\", \"Curricular units 2nd sem (enrolled)\"\n",
        " ,\"Curricular units 2nd sem (evaluations)\", \"Curricular units 2nd sem (approved)\"\n",
        " ,\"Curricular units 2nd sem (grade)\", \"Curricular units 2nd sem (without evaluations)\"\n",
        " ,\"Unemployment rate\", \"Inflation rate\",\"GDP\"]\n",
        "\n",
        "categorical_features = ['Marital status'\n",
        " ,'Application mode'\n",
        " ,'Application order'\n",
        " ,'Course'\n",
        " ,'Previous qualification'\n",
        " ,'Nacionality'\n",
        " ,\"Mother's qualification\"\n",
        " ,\"Father's qualification\"\n",
        " ,\"Mother's occupation\"\n",
        " ,\"Father's occupation\"\n",
        " ,\"Age at enrollment\"\n",
        " ]\n",
        "\n",
        "print(numerical_features)\n",
        "print(categorical_features)\n"
      ]
    },
    {
      "cell_type": "code",
      "execution_count": null,
      "metadata": {
        "id": "C8aAricK1wpR"
      },
      "outputs": [],
      "source": [
        "# prompt: Gerar codigo para treinamento utilizando o gridsearch baseado em LogisticRegressionCV, buscando melhor acurácia\n",
        "\n",
        "from sklearn.model_selection import GridSearchCV\n",
        "from sklearn.linear_model import LogisticRegressionCV\n",
        "\n",
        "# Define the LogisticRegressionCV model\n",
        "clf = LogisticRegressionCV(cv=5, random_state=42)\n",
        "\n",
        "# Define the parameter grid\n",
        "param_grid = {\n",
        "    'penalty': ['l1', 'l2', 'elasticnet', 'none'],\n",
        "    'Cs': [0.001, 0.01, 0.1, 1, 10, 100],\n",
        "    'solver': ['newton-cg', 'lbfgs', 'liblinear', 'sag', 'saga'],\n",
        "    'max_iter': [1, 3, 5, 10]\n",
        "}\n",
        "\n",
        "# Perform GridSearchCV\n",
        "grid_search = GridSearchCV(clf, param_grid, scoring='accuracy', cv=5)\n",
        "grid_search.fit(X_train_One, y_train_lbl)\n",
        "\n",
        "# Print the best parameters and best score\n",
        "print(\"Best parameters:\", grid_search.best_params_)\n",
        "print(\"Best score:\", grid_search.best_score_)\n",
        "\n",
        "\n"
      ]
    },
    {
      "cell_type": "code",
      "execution_count": null,
      "metadata": {},
      "outputs": [],
      "source": [
        "# Train the model with the best parameters\n",
        "clf = LogisticRegressionCV(cv=5, **grid_search.best_params_)\n",
        "clf.fit(X_train_One, y_train_lbl)\n",
        "\n",
        "# Evaluate the model on the test set\n",
        "y_pred = clf.predict(X_test)\n",
        "accuracy = accuracy_score(y_train_lbl, y_pred)\n",
        "print(\"Test accuracy:\", accuracy)"
      ]
    },
    {
      "cell_type": "code",
      "execution_count": null,
      "metadata": {
        "colab": {
          "background_save": true
        },
        "id": "4yhtUzGyH3Zr",
        "outputId": "a10fcfbe-011a-42dd-fa84-4255d232a68e"
      },
      "outputs": [],
      "source": [
        "import joblib\n",
        "\n",
        "joblib.dump(model, 'model_logistic.joblib')"
      ]
    },
    {
      "cell_type": "code",
      "execution_count": null,
      "metadata": {
        "colab": {
          "background_save": true
        },
        "id": "ReSa2RtFPwzZ",
        "outputId": "ab92f27b-7f29-45a4-cc33-f6816b04be3e"
      },
      "outputs": [],
      "source": [
        "# Exemplo de novos dados para previsão\n",
        "df_test = pd.read_csv('/content/test.csv')\n",
        "\n",
        "df_test.head()"
      ]
    },
    {
      "cell_type": "code",
      "execution_count": null,
      "metadata": {
        "colab": {
          "background_save": true
        },
        "id": "SBF3bhMkQB3t",
        "outputId": "6ed6086f-4d01-4c12-9d14-4915930f9e67"
      },
      "outputs": [],
      "source": [
        "df_test.isnull().sum()"
      ]
    },
    {
      "cell_type": "code",
      "execution_count": null,
      "metadata": {
        "colab": {
          "background_save": true
        },
        "id": "XRxzw-9CQ0H9"
      },
      "outputs": [],
      "source": [
        "df_test.fillna(df_test.median(), inplace=True)"
      ]
    },
    {
      "cell_type": "code",
      "execution_count": null,
      "metadata": {
        "colab": {
          "background_save": true
        },
        "id": "yfSaQgWDQ5dz"
      },
      "outputs": [],
      "source": [
        "X = df_test.copy()"
      ]
    },
    {
      "cell_type": "code",
      "execution_count": null,
      "metadata": {
        "colab": {
          "background_save": true
        },
        "id": "Q1Fiby3GTq2n"
      },
      "outputs": [],
      "source": []
    },
    {
      "cell_type": "code",
      "execution_count": null,
      "metadata": {
        "colab": {
          "background_save": true
        },
        "id": "liQJXoUBH3Zr"
      },
      "outputs": [],
      "source": [
        "# Carregar o modelo salvo\n",
        "model = joblib.load('model_logistic.joblib')\n",
        "\n"
      ]
    },
    {
      "cell_type": "code",
      "execution_count": null,
      "metadata": {
        "colab": {
          "background_save": true
        },
        "id": "beAEt1l_T6lr"
      },
      "outputs": [],
      "source": [
        "X['Ind_Target'] = None"
      ]
    },
    {
      "cell_type": "code",
      "execution_count": null,
      "metadata": {
        "colab": {
          "background_save": true
        },
        "id": "aElNO245H3Zr",
        "outputId": "17ecd41f-e3b9-4e1c-fcce-81d0d37ca0ef"
      },
      "outputs": [],
      "source": [
        "\n",
        "# Fazer previsões com o modelo carregado\n",
        "X['Ind_Target'] = model.predict(X)\n",
        "\n"
      ]
    },
    {
      "cell_type": "code",
      "execution_count": null,
      "metadata": {
        "colab": {
          "background_save": true
        },
        "id": "PV1606SgH3Zr"
      },
      "outputs": [],
      "source": []
    }
  ],
  "metadata": {
    "colab": {
      "machine_shape": "hm",
      "provenance": []
    },
    "kernelspec": {
      "display_name": "Python 3",
      "name": "python3"
    },
    "language_info": {
      "codemirror_mode": {
        "name": "ipython",
        "version": 3
      },
      "file_extension": ".py",
      "mimetype": "text/x-python",
      "name": "python",
      "nbconvert_exporter": "python",
      "pygments_lexer": "ipython3",
      "version": "3.10.12"
    }
  },
  "nbformat": 4,
  "nbformat_minor": 0
}
