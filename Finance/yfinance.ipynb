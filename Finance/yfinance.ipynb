{
 "cells": [
  {
   "cell_type": "code",
   "execution_count": 94,
   "metadata": {},
   "outputs": [],
   "source": [
    "import yfinance as yf\n",
    "import pandas as pd\n",
    "\n",
    "import pandas as pd \n",
    "import numpy as np \n",
    "import math\n",
    "import matplotlib. pyplot as plt \n",
    "import seaborn as sns \n",
    "from scipy import stats\n"
   ]
  },
  {
   "cell_type": "code",
   "execution_count": 95,
   "metadata": {},
   "outputs": [
    {
     "name": "stderr",
     "output_type": "stream",
     "text": [
      "[*********************100%%**********************]  6 of 6 completed\n"
     ]
    },
    {
     "data": {
      "text/html": [
       "<div>\n",
       "<style scoped>\n",
       "    .dataframe tbody tr th:only-of-type {\n",
       "        vertical-align: middle;\n",
       "    }\n",
       "\n",
       "    .dataframe tbody tr th {\n",
       "        vertical-align: top;\n",
       "    }\n",
       "\n",
       "    .dataframe thead th {\n",
       "        text-align: right;\n",
       "    }\n",
       "</style>\n",
       "<table border=\"1\" class=\"dataframe\">\n",
       "  <thead>\n",
       "    <tr style=\"text-align: right;\">\n",
       "      <th>Ticker</th>\n",
       "      <th>Date</th>\n",
       "      <th>AMER3.SA</th>\n",
       "      <th>BHIA3.SA</th>\n",
       "      <th>CVCB3.SA</th>\n",
       "      <th>MGLU3.SA</th>\n",
       "      <th>SBSP3.SA</th>\n",
       "      <th>WEGE3.SA</th>\n",
       "    </tr>\n",
       "  </thead>\n",
       "  <tbody>\n",
       "    <tr>\n",
       "      <th>0</th>\n",
       "      <td>2015-01-02</td>\n",
       "      <td>20.953732</td>\n",
       "      <td>148.737137</td>\n",
       "      <td>12.527681</td>\n",
       "      <td>2.177549</td>\n",
       "      <td>16.799999</td>\n",
       "      <td>5.923076</td>\n",
       "    </tr>\n",
       "    <tr>\n",
       "      <th>1</th>\n",
       "      <td>2015-01-05</td>\n",
       "      <td>20.283978</td>\n",
       "      <td>148.737137</td>\n",
       "      <td>12.362843</td>\n",
       "      <td>2.218470</td>\n",
       "      <td>16.799999</td>\n",
       "      <td>5.963461</td>\n",
       "    </tr>\n",
       "    <tr>\n",
       "      <th>2</th>\n",
       "      <td>2015-01-06</td>\n",
       "      <td>20.341387</td>\n",
       "      <td>148.737137</td>\n",
       "      <td>12.198006</td>\n",
       "      <td>2.189241</td>\n",
       "      <td>16.750000</td>\n",
       "      <td>5.875000</td>\n",
       "    </tr>\n",
       "    <tr>\n",
       "      <th>3</th>\n",
       "      <td>2015-01-07</td>\n",
       "      <td>20.140459</td>\n",
       "      <td>160.986069</td>\n",
       "      <td>12.090861</td>\n",
       "      <td>2.262313</td>\n",
       "      <td>17.100000</td>\n",
       "      <td>5.807692</td>\n",
       "    </tr>\n",
       "    <tr>\n",
       "      <th>4</th>\n",
       "      <td>2015-01-08</td>\n",
       "      <td>19.480272</td>\n",
       "      <td>160.986069</td>\n",
       "      <td>11.662282</td>\n",
       "      <td>2.244776</td>\n",
       "      <td>17.160000</td>\n",
       "      <td>5.905769</td>\n",
       "    </tr>\n",
       "    <tr>\n",
       "      <th>...</th>\n",
       "      <td>...</td>\n",
       "      <td>...</td>\n",
       "      <td>...</td>\n",
       "      <td>...</td>\n",
       "      <td>...</td>\n",
       "      <td>...</td>\n",
       "      <td>...</td>\n",
       "    </tr>\n",
       "    <tr>\n",
       "      <th>1733</th>\n",
       "      <td>2021-12-23</td>\n",
       "      <td>30.561735</td>\n",
       "      <td>98.428986</td>\n",
       "      <td>12.555728</td>\n",
       "      <td>57.990047</td>\n",
       "      <td>39.889999</td>\n",
       "      <td>33.470001</td>\n",
       "    </tr>\n",
       "    <tr>\n",
       "      <th>1734</th>\n",
       "      <td>2021-12-27</td>\n",
       "      <td>31.725330</td>\n",
       "      <td>106.303307</td>\n",
       "      <td>12.528393</td>\n",
       "      <td>63.414921</td>\n",
       "      <td>40.049999</td>\n",
       "      <td>33.169998</td>\n",
       "    </tr>\n",
       "    <tr>\n",
       "      <th>1735</th>\n",
       "      <td>2021-12-28</td>\n",
       "      <td>30.860094</td>\n",
       "      <td>108.271889</td>\n",
       "      <td>12.920190</td>\n",
       "      <td>63.882584</td>\n",
       "      <td>40.040001</td>\n",
       "      <td>33.290001</td>\n",
       "    </tr>\n",
       "    <tr>\n",
       "      <th>1736</th>\n",
       "      <td>2021-12-29</td>\n",
       "      <td>30.850147</td>\n",
       "      <td>109.803001</td>\n",
       "      <td>11.972588</td>\n",
       "      <td>63.227856</td>\n",
       "      <td>39.849998</td>\n",
       "      <td>32.740002</td>\n",
       "    </tr>\n",
       "    <tr>\n",
       "      <th>1737</th>\n",
       "      <td>2021-12-30</td>\n",
       "      <td>31.407082</td>\n",
       "      <td>114.833817</td>\n",
       "      <td>12.227712</td>\n",
       "      <td>67.530342</td>\n",
       "      <td>40.180000</td>\n",
       "      <td>32.980000</td>\n",
       "    </tr>\n",
       "  </tbody>\n",
       "</table>\n",
       "<p>1738 rows × 7 columns</p>\n",
       "</div>"
      ],
      "text/plain": [
       "Ticker       Date   AMER3.SA    BHIA3.SA   CVCB3.SA   MGLU3.SA   SBSP3.SA  \\\n",
       "0      2015-01-02  20.953732  148.737137  12.527681   2.177549  16.799999   \n",
       "1      2015-01-05  20.283978  148.737137  12.362843   2.218470  16.799999   \n",
       "2      2015-01-06  20.341387  148.737137  12.198006   2.189241  16.750000   \n",
       "3      2015-01-07  20.140459  160.986069  12.090861   2.262313  17.100000   \n",
       "4      2015-01-08  19.480272  160.986069  11.662282   2.244776  17.160000   \n",
       "...           ...        ...         ...        ...        ...        ...   \n",
       "1733   2021-12-23  30.561735   98.428986  12.555728  57.990047  39.889999   \n",
       "1734   2021-12-27  31.725330  106.303307  12.528393  63.414921  40.049999   \n",
       "1735   2021-12-28  30.860094  108.271889  12.920190  63.882584  40.040001   \n",
       "1736   2021-12-29  30.850147  109.803001  11.972588  63.227856  39.849998   \n",
       "1737   2021-12-30  31.407082  114.833817  12.227712  67.530342  40.180000   \n",
       "\n",
       "Ticker   WEGE3.SA  \n",
       "0        5.923076  \n",
       "1        5.963461  \n",
       "2        5.875000  \n",
       "3        5.807692  \n",
       "4        5.905769  \n",
       "...           ...  \n",
       "1733    33.470001  \n",
       "1734    33.169998  \n",
       "1735    33.290001  \n",
       "1736    32.740002  \n",
       "1737    32.980000  \n",
       "\n",
       "[1738 rows x 7 columns]"
      ]
     },
     "execution_count": 95,
     "metadata": {},
     "output_type": "execute_result"
    }
   ],
   "source": [
    "tickers = ['AMER3.SA','MGLU3.SA','CVCB3.SA','WEGE3.SA','BHIA3.SA','SBSP3.SA']\n",
    "\n",
    "stocks = yf.download(tickers,start='2015-01-01', end='2021-12-31', interval='1d')\n",
    "\n",
    "df = pd.DataFrame(stocks['Close']).reset_index()\n",
    "\n",
    "df.set_index('Date')\n",
    "\n",
    "#df.rename(columns={'AMER3.SA':'AMERICANAS','MGLU3.SA':'MAGALU'}, inplace=True)\n",
    "\n",
    "#df.columns.droplevel(1)\n",
    "\n",
    "df"
   ]
  },
  {
   "cell_type": "code",
   "execution_count": 96,
   "metadata": {},
   "outputs": [
    {
     "data": {
      "text/plain": [
       "Ticker\n",
       "AMER3.SA    3.784613\n",
       "BHIA3.SA    4.529593\n",
       "CVCB3.SA    3.514922\n",
       "MGLU3.SA    4.097814\n",
       "SBSP3.SA    2.492678\n",
       "WEGE3.SA    2.198040\n",
       "dtype: float64"
      ]
     },
     "execution_count": 96,
     "metadata": {},
     "output_type": "execute_result"
    }
   ],
   "source": [
    "\n",
    "dataset = df.copy()\n",
    "dataset.drop(labels=['Date'], axis=1, inplace=True)\n",
    "taxas_retorno = (dataset/dataset.shift(1))-1\n",
    "taxas_retorno.std()*100"
   ]
  },
  {
   "cell_type": "code",
   "execution_count": 97,
   "metadata": {},
   "outputs": [
    {
     "data": {
      "text/plain": [
       "Ticker\n",
       "AMER3.SA     9.537224\n",
       "BHIA3.SA    11.414575\n",
       "CVCB3.SA     8.857603\n",
       "MGLU3.SA    10.326490\n",
       "SBSP3.SA     6.281548\n",
       "WEGE3.SA     5.539060\n",
       "dtype: float64"
      ]
     },
     "execution_count": 97,
     "metadata": {},
     "output_type": "execute_result"
    }
   ],
   "source": [
    "taxas_retorno.std()*252\n"
   ]
  },
  {
   "cell_type": "code",
   "execution_count": 98,
   "metadata": {},
   "outputs": [
    {
     "data": {
      "text/html": [
       "<div>\n",
       "<style scoped>\n",
       "    .dataframe tbody tr th:only-of-type {\n",
       "        vertical-align: middle;\n",
       "    }\n",
       "\n",
       "    .dataframe tbody tr th {\n",
       "        vertical-align: top;\n",
       "    }\n",
       "\n",
       "    .dataframe thead th {\n",
       "        text-align: right;\n",
       "    }\n",
       "</style>\n",
       "<table border=\"1\" class=\"dataframe\">\n",
       "  <thead>\n",
       "    <tr style=\"text-align: right;\">\n",
       "      <th>Ticker</th>\n",
       "      <th>AMER3.SA</th>\n",
       "      <th>BHIA3.SA</th>\n",
       "      <th>CVCB3.SA</th>\n",
       "      <th>MGLU3.SA</th>\n",
       "      <th>SBSP3.SA</th>\n",
       "      <th>WEGE3.SA</th>\n",
       "    </tr>\n",
       "    <tr>\n",
       "      <th>Ticker</th>\n",
       "      <th></th>\n",
       "      <th></th>\n",
       "      <th></th>\n",
       "      <th></th>\n",
       "      <th></th>\n",
       "      <th></th>\n",
       "    </tr>\n",
       "  </thead>\n",
       "  <tbody>\n",
       "    <tr>\n",
       "      <th>AMER3.SA</th>\n",
       "      <td>0.001432</td>\n",
       "      <td>0.000634</td>\n",
       "      <td>0.000398</td>\n",
       "      <td>0.000593</td>\n",
       "      <td>0.000310</td>\n",
       "      <td>0.000259</td>\n",
       "    </tr>\n",
       "    <tr>\n",
       "      <th>BHIA3.SA</th>\n",
       "      <td>0.000634</td>\n",
       "      <td>0.002052</td>\n",
       "      <td>0.000538</td>\n",
       "      <td>0.000648</td>\n",
       "      <td>0.000345</td>\n",
       "      <td>0.000249</td>\n",
       "    </tr>\n",
       "    <tr>\n",
       "      <th>CVCB3.SA</th>\n",
       "      <td>0.000398</td>\n",
       "      <td>0.000538</td>\n",
       "      <td>0.001235</td>\n",
       "      <td>0.000459</td>\n",
       "      <td>0.000369</td>\n",
       "      <td>0.000234</td>\n",
       "    </tr>\n",
       "    <tr>\n",
       "      <th>MGLU3.SA</th>\n",
       "      <td>0.000593</td>\n",
       "      <td>0.000648</td>\n",
       "      <td>0.000459</td>\n",
       "      <td>0.001679</td>\n",
       "      <td>0.000318</td>\n",
       "      <td>0.000262</td>\n",
       "    </tr>\n",
       "    <tr>\n",
       "      <th>SBSP3.SA</th>\n",
       "      <td>0.000310</td>\n",
       "      <td>0.000345</td>\n",
       "      <td>0.000369</td>\n",
       "      <td>0.000318</td>\n",
       "      <td>0.000621</td>\n",
       "      <td>0.000173</td>\n",
       "    </tr>\n",
       "    <tr>\n",
       "      <th>WEGE3.SA</th>\n",
       "      <td>0.000259</td>\n",
       "      <td>0.000249</td>\n",
       "      <td>0.000234</td>\n",
       "      <td>0.000262</td>\n",
       "      <td>0.000173</td>\n",
       "      <td>0.000483</td>\n",
       "    </tr>\n",
       "  </tbody>\n",
       "</table>\n",
       "</div>"
      ],
      "text/plain": [
       "Ticker    AMER3.SA  BHIA3.SA  CVCB3.SA  MGLU3.SA  SBSP3.SA  WEGE3.SA\n",
       "Ticker                                                              \n",
       "AMER3.SA  0.001432  0.000634  0.000398  0.000593  0.000310  0.000259\n",
       "BHIA3.SA  0.000634  0.002052  0.000538  0.000648  0.000345  0.000249\n",
       "CVCB3.SA  0.000398  0.000538  0.001235  0.000459  0.000369  0.000234\n",
       "MGLU3.SA  0.000593  0.000648  0.000459  0.001679  0.000318  0.000262\n",
       "SBSP3.SA  0.000310  0.000345  0.000369  0.000318  0.000621  0.000173\n",
       "WEGE3.SA  0.000259  0.000249  0.000234  0.000262  0.000173  0.000483"
      ]
     },
     "execution_count": 98,
     "metadata": {},
     "output_type": "execute_result"
    }
   ],
   "source": [
    "taxas_retorno.cov()"
   ]
  },
  {
   "cell_type": "code",
   "execution_count": 99,
   "metadata": {},
   "outputs": [
    {
     "data": {
      "text/html": [
       "<div>\n",
       "<style scoped>\n",
       "    .dataframe tbody tr th:only-of-type {\n",
       "        vertical-align: middle;\n",
       "    }\n",
       "\n",
       "    .dataframe tbody tr th {\n",
       "        vertical-align: top;\n",
       "    }\n",
       "\n",
       "    .dataframe thead th {\n",
       "        text-align: right;\n",
       "    }\n",
       "</style>\n",
       "<table border=\"1\" class=\"dataframe\">\n",
       "  <thead>\n",
       "    <tr style=\"text-align: right;\">\n",
       "      <th>Ticker</th>\n",
       "      <th>AMER3.SA</th>\n",
       "      <th>BHIA3.SA</th>\n",
       "      <th>CVCB3.SA</th>\n",
       "      <th>MGLU3.SA</th>\n",
       "      <th>SBSP3.SA</th>\n",
       "      <th>WEGE3.SA</th>\n",
       "    </tr>\n",
       "    <tr>\n",
       "      <th>Ticker</th>\n",
       "      <th></th>\n",
       "      <th></th>\n",
       "      <th></th>\n",
       "      <th></th>\n",
       "      <th></th>\n",
       "      <th></th>\n",
       "    </tr>\n",
       "  </thead>\n",
       "  <tbody>\n",
       "    <tr>\n",
       "      <th>AMER3.SA</th>\n",
       "      <td>1.000000</td>\n",
       "      <td>0.369730</td>\n",
       "      <td>0.299163</td>\n",
       "      <td>0.382121</td>\n",
       "      <td>0.328416</td>\n",
       "      <td>0.311618</td>\n",
       "    </tr>\n",
       "    <tr>\n",
       "      <th>BHIA3.SA</th>\n",
       "      <td>0.369730</td>\n",
       "      <td>1.000000</td>\n",
       "      <td>0.337862</td>\n",
       "      <td>0.348867</td>\n",
       "      <td>0.305354</td>\n",
       "      <td>0.249734</td>\n",
       "    </tr>\n",
       "    <tr>\n",
       "      <th>CVCB3.SA</th>\n",
       "      <td>0.299163</td>\n",
       "      <td>0.337862</td>\n",
       "      <td>1.000000</td>\n",
       "      <td>0.318717</td>\n",
       "      <td>0.421291</td>\n",
       "      <td>0.302247</td>\n",
       "    </tr>\n",
       "    <tr>\n",
       "      <th>MGLU3.SA</th>\n",
       "      <td>0.382121</td>\n",
       "      <td>0.348867</td>\n",
       "      <td>0.318717</td>\n",
       "      <td>1.000000</td>\n",
       "      <td>0.310859</td>\n",
       "      <td>0.291318</td>\n",
       "    </tr>\n",
       "    <tr>\n",
       "      <th>SBSP3.SA</th>\n",
       "      <td>0.328416</td>\n",
       "      <td>0.305354</td>\n",
       "      <td>0.421291</td>\n",
       "      <td>0.310859</td>\n",
       "      <td>1.000000</td>\n",
       "      <td>0.316129</td>\n",
       "    </tr>\n",
       "    <tr>\n",
       "      <th>WEGE3.SA</th>\n",
       "      <td>0.311618</td>\n",
       "      <td>0.249734</td>\n",
       "      <td>0.302247</td>\n",
       "      <td>0.291318</td>\n",
       "      <td>0.316129</td>\n",
       "      <td>1.000000</td>\n",
       "    </tr>\n",
       "  </tbody>\n",
       "</table>\n",
       "</div>"
      ],
      "text/plain": [
       "Ticker    AMER3.SA  BHIA3.SA  CVCB3.SA  MGLU3.SA  SBSP3.SA  WEGE3.SA\n",
       "Ticker                                                              \n",
       "AMER3.SA  1.000000  0.369730  0.299163  0.382121  0.328416  0.311618\n",
       "BHIA3.SA  0.369730  1.000000  0.337862  0.348867  0.305354  0.249734\n",
       "CVCB3.SA  0.299163  0.337862  1.000000  0.318717  0.421291  0.302247\n",
       "MGLU3.SA  0.382121  0.348867  0.318717  1.000000  0.310859  0.291318\n",
       "SBSP3.SA  0.328416  0.305354  0.421291  0.310859  1.000000  0.316129\n",
       "WEGE3.SA  0.311618  0.249734  0.302247  0.291318  0.316129  1.000000"
      ]
     },
     "execution_count": 99,
     "metadata": {},
     "output_type": "execute_result"
    }
   ],
   "source": [
    "taxas_retorno.corr()"
   ]
  },
  {
   "cell_type": "code",
   "execution_count": 100,
   "metadata": {},
   "outputs": [],
   "source": [
    "taxas_retorno_ame_cvc = taxas_retorno[['AMER3.SA','CVCB3.SA']]"
   ]
  },
  {
   "cell_type": "code",
   "execution_count": 101,
   "metadata": {},
   "outputs": [
    {
     "data": {
      "text/html": [
       "<div>\n",
       "<style scoped>\n",
       "    .dataframe tbody tr th:only-of-type {\n",
       "        vertical-align: middle;\n",
       "    }\n",
       "\n",
       "    .dataframe tbody tr th {\n",
       "        vertical-align: top;\n",
       "    }\n",
       "\n",
       "    .dataframe thead th {\n",
       "        text-align: right;\n",
       "    }\n",
       "</style>\n",
       "<table border=\"1\" class=\"dataframe\">\n",
       "  <thead>\n",
       "    <tr style=\"text-align: right;\">\n",
       "      <th>Ticker</th>\n",
       "      <th>AMER3.SA</th>\n",
       "      <th>CVCB3.SA</th>\n",
       "    </tr>\n",
       "    <tr>\n",
       "      <th>Ticker</th>\n",
       "      <th></th>\n",
       "      <th></th>\n",
       "    </tr>\n",
       "  </thead>\n",
       "  <tbody>\n",
       "    <tr>\n",
       "      <th>AMER3.SA</th>\n",
       "      <td>0.143233</td>\n",
       "      <td>0.039796</td>\n",
       "    </tr>\n",
       "    <tr>\n",
       "      <th>CVCB3.SA</th>\n",
       "      <td>0.039796</td>\n",
       "      <td>0.123547</td>\n",
       "    </tr>\n",
       "  </tbody>\n",
       "</table>\n",
       "</div>"
      ],
      "text/plain": [
       "Ticker    AMER3.SA  CVCB3.SA\n",
       "Ticker                      \n",
       "AMER3.SA  0.143233  0.039796\n",
       "CVCB3.SA  0.039796  0.123547"
      ]
     },
     "execution_count": 101,
     "metadata": {},
     "output_type": "execute_result"
    }
   ],
   "source": [
    "taxas_retorno_ame_cvc.cov()*100"
   ]
  },
  {
   "cell_type": "code",
   "execution_count": 102,
   "metadata": {},
   "outputs": [],
   "source": [
    "pesos = np.array([0.5, 0.5])"
   ]
  },
  {
   "cell_type": "code",
   "execution_count": 103,
   "metadata": {},
   "outputs": [
    {
     "data": {
      "text/plain": [
       "0.42603836913333626"
      ]
     },
     "execution_count": 103,
     "metadata": {},
     "output_type": "execute_result"
    }
   ],
   "source": [
    "np.dot(pesos,taxas_retorno_ame_cvc.cov()*246,pesos).sum()\n"
   ]
  },
  {
   "cell_type": "code",
   "execution_count": 104,
   "metadata": {},
   "outputs": [
    {
     "data": {
      "text/plain": [
       "0.4267259191064454"
      ]
     },
     "execution_count": 104,
     "metadata": {},
     "output_type": "execute_result"
    }
   ],
   "source": [
    "math.sqrt(np.dot(pesos,taxas_retorno_ame_cvc.cov()*246,pesos).sum())\n"
   ]
  },
  {
   "cell_type": "code",
   "execution_count": 106,
   "metadata": {},
   "outputs": [],
   "source": [
    "pesos = np.array([0.2, 0.2, 0.2, 0.2, 0.1, 0.1])"
   ]
  },
  {
   "cell_type": "code",
   "execution_count": 105,
   "metadata": {},
   "outputs": [
    {
     "data": {
      "text/html": [
       "<div>\n",
       "<style scoped>\n",
       "    .dataframe tbody tr th:only-of-type {\n",
       "        vertical-align: middle;\n",
       "    }\n",
       "\n",
       "    .dataframe tbody tr th {\n",
       "        vertical-align: top;\n",
       "    }\n",
       "\n",
       "    .dataframe thead th {\n",
       "        text-align: right;\n",
       "    }\n",
       "</style>\n",
       "<table border=\"1\" class=\"dataframe\">\n",
       "  <thead>\n",
       "    <tr style=\"text-align: right;\">\n",
       "      <th>Ticker</th>\n",
       "      <th>AMER3.SA</th>\n",
       "      <th>BHIA3.SA</th>\n",
       "      <th>CVCB3.SA</th>\n",
       "      <th>MGLU3.SA</th>\n",
       "      <th>SBSP3.SA</th>\n",
       "      <th>WEGE3.SA</th>\n",
       "    </tr>\n",
       "    <tr>\n",
       "      <th>Ticker</th>\n",
       "      <th></th>\n",
       "      <th></th>\n",
       "      <th></th>\n",
       "      <th></th>\n",
       "      <th></th>\n",
       "      <th></th>\n",
       "    </tr>\n",
       "  </thead>\n",
       "  <tbody>\n",
       "    <tr>\n",
       "      <th>AMER3.SA</th>\n",
       "      <td>0.352353</td>\n",
       "      <td>0.155919</td>\n",
       "      <td>0.097899</td>\n",
       "      <td>0.145784</td>\n",
       "      <td>0.076216</td>\n",
       "      <td>0.063770</td>\n",
       "    </tr>\n",
       "    <tr>\n",
       "      <th>BHIA3.SA</th>\n",
       "      <td>0.155919</td>\n",
       "      <td>0.504723</td>\n",
       "      <td>0.132327</td>\n",
       "      <td>0.159297</td>\n",
       "      <td>0.084813</td>\n",
       "      <td>0.061166</td>\n",
       "    </tr>\n",
       "    <tr>\n",
       "      <th>CVCB3.SA</th>\n",
       "      <td>0.097899</td>\n",
       "      <td>0.132327</td>\n",
       "      <td>0.303925</td>\n",
       "      <td>0.112930</td>\n",
       "      <td>0.090803</td>\n",
       "      <td>0.057445</td>\n",
       "    </tr>\n",
       "    <tr>\n",
       "      <th>MGLU3.SA</th>\n",
       "      <td>0.145784</td>\n",
       "      <td>0.159297</td>\n",
       "      <td>0.112930</td>\n",
       "      <td>0.413085</td>\n",
       "      <td>0.078112</td>\n",
       "      <td>0.064549</td>\n",
       "    </tr>\n",
       "    <tr>\n",
       "      <th>SBSP3.SA</th>\n",
       "      <td>0.076216</td>\n",
       "      <td>0.084813</td>\n",
       "      <td>0.090803</td>\n",
       "      <td>0.078112</td>\n",
       "      <td>0.152851</td>\n",
       "      <td>0.042609</td>\n",
       "    </tr>\n",
       "    <tr>\n",
       "      <th>WEGE3.SA</th>\n",
       "      <td>0.063770</td>\n",
       "      <td>0.061166</td>\n",
       "      <td>0.057445</td>\n",
       "      <td>0.064549</td>\n",
       "      <td>0.042609</td>\n",
       "      <td>0.118852</td>\n",
       "    </tr>\n",
       "  </tbody>\n",
       "</table>\n",
       "</div>"
      ],
      "text/plain": [
       "Ticker    AMER3.SA  BHIA3.SA  CVCB3.SA  MGLU3.SA  SBSP3.SA  WEGE3.SA\n",
       "Ticker                                                              \n",
       "AMER3.SA  0.352353  0.155919  0.097899  0.145784  0.076216  0.063770\n",
       "BHIA3.SA  0.155919  0.504723  0.132327  0.159297  0.084813  0.061166\n",
       "CVCB3.SA  0.097899  0.132327  0.303925  0.112930  0.090803  0.057445\n",
       "MGLU3.SA  0.145784  0.159297  0.112930  0.413085  0.078112  0.064549\n",
       "SBSP3.SA  0.076216  0.084813  0.090803  0.078112  0.152851  0.042609\n",
       "WEGE3.SA  0.063770  0.061166  0.057445  0.064549  0.042609  0.118852"
      ]
     },
     "execution_count": 105,
     "metadata": {},
     "output_type": "execute_result"
    }
   ],
   "source": [
    "taxas_retorno.cov()*246"
   ]
  },
  {
   "cell_type": "code",
   "execution_count": 109,
   "metadata": {},
   "outputs": [
    {
     "data": {
      "text/plain": [
       "array([0.14045239, 0.18746109, 0.1184957 , 0.15774161, 0.0726854 ,\n",
       "       0.05417323])"
      ]
     },
     "execution_count": 109,
     "metadata": {},
     "output_type": "execute_result"
    }
   ],
   "source": [
    "np.dot(taxas_retorno.cov()*246,pesos)"
   ]
  },
  {
   "cell_type": "code",
   "execution_count": 113,
   "metadata": {},
   "outputs": [
    {
     "data": {
      "text/plain": [
       "0.4912406029709287"
      ]
     },
     "execution_count": 113,
     "metadata": {},
     "output_type": "execute_result"
    }
   ],
   "source": [
    "np.dot(pesos,taxas_retorno.cov()*246,pesos).sum()"
   ]
  },
  {
   "cell_type": "code",
   "execution_count": 112,
   "metadata": {},
   "outputs": [
    {
     "data": {
      "text/plain": [
       "0.7484919474041757"
      ]
     },
     "execution_count": 112,
     "metadata": {},
     "output_type": "execute_result"
    }
   ],
   "source": [
    "math.sqrt(np.dot(pesos,taxas_retorno.cov()*246,pesos).sum())"
   ]
  },
  {
   "cell_type": "code",
   "execution_count": null,
   "metadata": {},
   "outputs": [],
   "source": []
  }
 ],
 "metadata": {
  "kernelspec": {
   "display_name": "Python 3",
   "language": "python",
   "name": "python3"
  },
  "language_info": {
   "codemirror_mode": {
    "name": "ipython",
    "version": 3
   },
   "file_extension": ".py",
   "mimetype": "text/x-python",
   "name": "python",
   "nbconvert_exporter": "python",
   "pygments_lexer": "ipython3",
   "version": "3.11.4"
  }
 },
 "nbformat": 4,
 "nbformat_minor": 2
}
