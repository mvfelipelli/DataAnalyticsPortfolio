{
 "cells": [
  {
   "cell_type": "code",
   "execution_count": null,
   "metadata": {},
   "outputs": [],
   "source": [
    "!pip install quantecon"
   ]
  },
  {
   "cell_type": "code",
   "execution_count": null,
   "metadata": {},
   "outputs": [],
   "source": [
    "import pandas as pd\n",
    "import matplotlib.pyplot as plt\n",
    "import matplotlib.cm as cm\n",
    "import numpy as np\n",
    "from collections import namedtuple"
   ]
  },
  {
   "cell_type": "code",
   "execution_count": null,
   "metadata": {},
   "outputs": [],
   "source": [
    "data_url = \"https://github.com/QuantEcon/lecture-python-intro/raw/main/lectures/datasets/mpd2020.xlsx\"\n",
    "data = pd.read_excel(data_url, \n",
    "                     sheet_name='Full data')\n",
    "data.head()"
   ]
  },
  {
   "cell_type": "code",
   "execution_count": null,
   "metadata": {},
   "outputs": [],
   "source": [
    "countries = data.country.unique()\n",
    "len(countries)"
   ]
  },
  {
   "cell_type": "code",
   "execution_count": null,
   "metadata": {},
   "outputs": [],
   "source": [
    "country_years = []\n",
    "for country in countries:\n",
    "    cy_data = data[data.country == country]['year']\n",
    "    ymin, ymax = cy_data.min(), cy_data.max()\n",
    "    country_years.append((country, ymin, ymax))\n",
    "country_years = pd.DataFrame(country_years,\n",
    "                    columns=['country', 'min_year', 'max_year']).set_index('country')\n",
    "country_years.head()"
   ]
  },
  {
   "cell_type": "code",
   "execution_count": null,
   "metadata": {},
   "outputs": [],
   "source": [
    "code_to_name = data[\n",
    "    ['countrycode', 'country']].drop_duplicates().reset_index(drop=True).set_index(['countrycode'])"
   ]
  },
  {
   "cell_type": "code",
   "execution_count": null,
   "metadata": {},
   "outputs": [],
   "source": [
    "gdp_pc = data.set_index(['countrycode', 'year'])['gdppc']\n",
    "gdp_pc = gdp_pc.unstack('countrycode')\n",
    "\n",
    "gdp_pc.tail()"
   ]
  },
  {
   "cell_type": "code",
   "execution_count": null,
   "metadata": {},
   "outputs": [],
   "source": [
    "country_names = data['countrycode']\n",
    "\n",
    "# Generate a colormap with the number of colors matching the number of countries\n",
    "colors = cm.tab20(np.linspace(0, 0.95, len(country_names)))\n",
    "\n",
    "# Create a dictionary to map each country to its corresponding color\n",
    "color_mapping = {country: color for \n",
    "                 country, color in zip(country_names, colors)}"
   ]
  },
  {
   "cell_type": "code",
   "execution_count": null,
   "metadata": {},
   "outputs": [],
   "source": [
    "fig, ax = plt.subplots(dpi=150)\n",
    "country = 'GBR'\n",
    "gdp_pc[country].plot(\n",
    "        ax=ax,\n",
    "        ylabel='international dollars',\n",
    "        xlabel='year',\n",
    "        color=color_mapping[country]\n",
    "    );"
   ]
  },
  {
   "cell_type": "code",
   "execution_count": null,
   "metadata": {},
   "outputs": [],
   "source": [
    "fig, ax = plt.subplots(dpi=150)\n",
    "country = 'GBR'\n",
    "ax.plot(gdp_pc[country].interpolate(),\n",
    "        linestyle='--',\n",
    "        lw=2,\n",
    "        color=color_mapping[country])\n",
    "\n",
    "ax.plot(gdp_pc[country],\n",
    "        lw=2,\n",
    "        color=color_mapping[country])\n",
    "ax.set_ylabel('international dollars')\n",
    "ax.set_xlabel('year')\n",
    "plt.show()"
   ]
  },
  {
   "cell_type": "code",
   "execution_count": null,
   "metadata": {},
   "outputs": [],
   "source": [
    "def draw_interp_plots(series,        # pandas series\n",
    "                      country,       # list of country codes\n",
    "                      ylabel,        # label for y-axis\n",
    "                      xlabel,        # label for x-axis\n",
    "                      color_mapping, # code-color mapping\n",
    "                      code_to_name,  # code-name mapping\n",
    "                      lw,            # line width\n",
    "                      logscale,      # log scale for y-axis\n",
    "                      ax             # matplolib axis\n",
    "                     ):\n",
    "\n",
    "    for c in country:\n",
    "        # Get the interpolated data\n",
    "        df_interpolated = series[c].interpolate(limit_area='inside')\n",
    "        interpolated_data = df_interpolated[series[c].isnull()]\n",
    "\n",
    "        # Plot the interpolated data with dashed lines\n",
    "        ax.plot(interpolated_data,\n",
    "                linestyle='--',\n",
    "                lw=lw,\n",
    "                alpha=0.7,\n",
    "                color=color_mapping[c])\n",
    "\n",
    "        # Plot the non-interpolated data with solid lines\n",
    "        ax.plot(series[c],\n",
    "                lw=lw,\n",
    "                color=color_mapping[c],\n",
    "                alpha=0.8,\n",
    "                label=code_to_name.loc[c]['country'])\n",
    "        \n",
    "        if logscale:\n",
    "            ax.set_yscale('log')\n",
    "    \n",
    "    # Draw the legend outside the plot\n",
    "    ax.legend(loc='upper left', frameon=False)\n",
    "    ax.set_ylabel(ylabel)\n",
    "    ax.set_xlabel(xlabel)"
   ]
  },
  {
   "cell_type": "code",
   "execution_count": null,
   "metadata": {},
   "outputs": [],
   "source": [
    "# Define the namedtuple for the events\n",
    "Event = namedtuple('Event', ['year_range', 'y_text', 'text', 'color', 'ymax'])\n",
    "\n",
    "fig, ax = plt.subplots(dpi=300, figsize=(10, 6))\n",
    "\n",
    "country = ['CHN', 'GBR', 'USA']\n",
    "draw_interp_plots(gdp_pc[country].loc[1500:], \n",
    "                  country,\n",
    "                  'international dollars','year',\n",
    "                  color_mapping, code_to_name, 2, False, ax)\n",
    "\n",
    "# Define the parameters for the events and the text\n",
    "ylim = ax.get_ylim()[1]\n",
    "b_params = {'color':'grey', 'alpha': 0.2}\n",
    "t_params = {'fontsize': 9, \n",
    "            'va':'center', 'ha':'center'}\n",
    "\n",
    "# Create a list of events to annotate\n",
    "events = [\n",
    "    Event((1650, 1652), ylim + ylim*0.04, \n",
    "          'the Navigation Act\\n(1651)',\n",
    "          color_mapping['GBR'], 1),\n",
    "    Event((1655, 1684), ylim + ylim*0.13, \n",
    "          'Closed-door Policy\\n(1655-1684)', \n",
    "          color_mapping['CHN'], 1.1),\n",
    "    Event((1848, 1850), ylim + ylim*0.22,\n",
    "          'the Repeal of Navigation Act\\n(1849)', \n",
    "          color_mapping['GBR'], 1.18),\n",
    "    Event((1765, 1791), ylim + ylim*0.04, \n",
    "          'American Revolution\\n(1765-1791)', \n",
    "          color_mapping['USA'], 1),\n",
    "    Event((1760, 1840), ylim + ylim*0.13, \n",
    "          'Industrial Revolution\\n(1760-1840)', \n",
    "          'grey', 1.1),\n",
    "    Event((1929, 1939), ylim + ylim*0.04, \n",
    "          'the Great Depression\\n(1929–1939)', \n",
    "          'grey', 1),\n",
    "    Event((1978, 1979), ylim + ylim*0.13, \n",
    "          'Reform and Opening-up\\n(1978-1979)', \n",
    "          color_mapping['CHN'], 1.1)\n",
    "]\n",
    "\n",
    "def draw_events(events, ax):\n",
    "    # Iterate over events and add annotations and vertical lines\n",
    "    for event in events:\n",
    "        event_mid = sum(event.year_range)/2\n",
    "        ax.text(event_mid, \n",
    "                event.y_text, event.text, \n",
    "                color=event.color, **t_params)\n",
    "        ax.axvspan(*event.year_range, color=event.color, alpha=0.2)\n",
    "        ax.axvline(event_mid, ymin=1, ymax=event.ymax, color=event.color,\n",
    "                   clip_on=False, alpha=0.15)\n",
    "\n",
    "# Draw events\n",
    "draw_events(events, ax)\n",
    "plt.show()"
   ]
  },
  {
   "cell_type": "code",
   "execution_count": null,
   "metadata": {},
   "outputs": [],
   "source": [
    "fig, ax = plt.subplots(dpi=300, figsize=(10, 6))\n",
    "\n",
    "country = ['CHN']\n",
    "draw_interp_plots(gdp_pc[country].loc[1600:2000], \n",
    "                  country,\n",
    "                  'international dollars','year',\n",
    "                  color_mapping, code_to_name, 2, True, ax)\n",
    "\n",
    "ylim = ax.get_ylim()[1]\n",
    "\n",
    "events = [\n",
    "Event((1655, 1684), ylim + ylim*0.06, \n",
    "      'Closed-door Policy\\n(1655-1684)', \n",
    "      'tab:orange', 1),\n",
    "Event((1760, 1840), ylim + ylim*0.06, \n",
    "      'Industrial Revolution\\n(1760-1840)', \n",
    "      'grey', 1),\n",
    "Event((1839, 1842), ylim + ylim*0.2, \n",
    "      'First Opium War\\n(1839–1842)', \n",
    "      'tab:red', 1.07),\n",
    "Event((1861, 1895), ylim + ylim*0.4, \n",
    "      'Self-Strengthening Movement\\n(1861–1895)', \n",
    "      'tab:blue', 1.14),\n",
    "Event((1939, 1945), ylim + ylim*0.06, \n",
    "      'WW 2\\n(1939-1945)', \n",
    "      'tab:red', 1),\n",
    "Event((1948, 1950), ylim + ylim*0.23, \n",
    "      'Founding of PRC\\n(1949)', \n",
    "      color_mapping['CHN'], 1.08),\n",
    "Event((1958, 1962), ylim + ylim*0.5, \n",
    "      'Great Leap Forward\\n(1958-1962)', \n",
    "      'tab:orange', 1.18),\n",
    "Event((1978, 1979), ylim + ylim*0.7, \n",
    "      'Reform and Opening-up\\n(1978-1979)', \n",
    "      'tab:blue', 1.24)\n",
    "]\n",
    "\n",
    "# Draw events\n",
    "draw_events(events, ax)\n",
    "plt.show()"
   ]
  },
  {
   "cell_type": "code",
   "execution_count": null,
   "metadata": {},
   "outputs": [],
   "source": [
    "fig, ax = plt.subplots(dpi=300, figsize=(10, 6))\n",
    "\n",
    "country = ['GBR', 'USA']\n",
    "draw_interp_plots(gdp_pc[country].loc[1500:2000],\n",
    "                  country,\n",
    "                  'international dollars','year',\n",
    "                  color_mapping, code_to_name, 2, True, ax)\n",
    "\n",
    "ylim = ax.get_ylim()[1]\n",
    "\n",
    "# Create a list of data points\n",
    "events = [\n",
    "    Event((1651, 1651), ylim + ylim*0.15, \n",
    "          'Navigation Act (UK)\\n(1651)', \n",
    "          'tab:orange', 1),\n",
    "    Event((1765, 1791), ylim + ylim*0.15, \n",
    "          'American Revolution\\n(1765-1791)',\n",
    "          color_mapping['USA'], 1),\n",
    "    Event((1760, 1840), ylim + ylim*0.6, \n",
    "          'Industrial Revolution\\n(1760-1840)', \n",
    "          'grey', 1.08),\n",
    "    Event((1848, 1850), ylim + ylim*1.1, \n",
    "          'Repeal of Navigation Act (UK)\\n(1849)', \n",
    "          'tab:blue', 1.14),\n",
    "    Event((1861, 1865), ylim + ylim*1.8, \n",
    "          'American Civil War\\n(1861-1865)', \n",
    "          color_mapping['USA'], 1.21),\n",
    "    Event((1914, 1918), ylim + ylim*0.15, \n",
    "          'WW 1\\n(1914-1918)', \n",
    "          'tab:red', 1),\n",
    "    Event((1929, 1939), ylim + ylim*0.6, \n",
    "          'the Great Depression\\n(1929–1939)', \n",
    "          'grey', 1.08),\n",
    "    Event((1939, 1945), ylim + ylim*1.1, \n",
    "          'WW 2\\n(1939-1945)', \n",
    "          'tab:red', 1.14)\n",
    "]\n",
    "\n",
    "# Draw events\n",
    "draw_events(events, ax)\n",
    "plt.show()"
   ]
  },
  {
   "cell_type": "code",
   "execution_count": null,
   "metadata": {},
   "outputs": [],
   "source": [
    "data = pd.read_excel(data_url, sheet_name='Full data')\n",
    "data.set_index(['countrycode', 'year'], inplace=True)\n",
    "data['gdp'] = data['gdppc'] * data['pop']\n",
    "gdp = data['gdp'].unstack('countrycode')"
   ]
  },
  {
   "cell_type": "code",
   "execution_count": null,
   "metadata": {},
   "outputs": [],
   "source": [
    "fig, ax = plt.subplots(dpi=150)\n",
    "country = ['CHN', 'SUN', 'JPN', 'GBR', 'USA']\n",
    "start_year, end_year = (1820, 1945)\n",
    "draw_interp_plots(gdp[country].loc[start_year:end_year], \n",
    "                  country,\n",
    "                  'international dollars', 'year',\n",
    "                  color_mapping, code_to_name, 2, False, ax)"
   ]
  },
  {
   "cell_type": "code",
   "execution_count": null,
   "metadata": {},
   "outputs": [],
   "source": [
    "BEM = ['GBR', 'IND', 'AUS', 'NZL', 'CAN', 'ZAF']\n",
    "# Interpolate incomplete time-series\n",
    "gdp['BEM'] = gdp[BEM].loc[start_year-1:end_year].interpolate(method='index').sum(axis=1)"
   ]
  },
  {
   "cell_type": "code",
   "execution_count": null,
   "metadata": {},
   "outputs": [],
   "source": [
    "# Define colour mapping and name for BEM\n",
    "color_mapping['BEM'] = color_mapping['GBR']  # Set the color to be the same as Great Britain\n",
    "# Add British Empire to code_to_name\n",
    "bem = pd.DataFrame([\"British Empire\"], index=[\"BEM\"], columns=['country'])\n",
    "bem.index.name = 'countrycode'\n",
    "code_to_name = pd.concat([code_to_name, bem])"
   ]
  },
  {
   "cell_type": "code",
   "execution_count": null,
   "metadata": {},
   "outputs": [],
   "source": [
    "fig, ax = plt.subplots(dpi=150)\n",
    "country = ['DEU', 'USA', 'SUN', 'BEM', 'FRA', 'JPN']\n",
    "start_year, end_year = (1821, 1945)\n",
    "draw_interp_plots(gdp[country].loc[start_year:end_year], \n",
    "                  country,\n",
    "                  'international dollars', 'year',\n",
    "                  color_mapping, code_to_name, 2, False, ax)\n",
    "\n",
    "plt.savefig(\"./tooze_ch1_graph.png\", dpi=300,\n",
    "            bbox_inches='tight')\n",
    "plt.show()"
   ]
  },
  {
   "cell_type": "code",
   "execution_count": null,
   "metadata": {},
   "outputs": [],
   "source": [
    "fig, ax = plt.subplots(dpi=150)\n",
    "country = ['CHN', 'SUN', 'JPN', 'GBR', 'USA']\n",
    "start_year, end_year = (1950, 2020)\n",
    "draw_interp_plots(gdp[country].loc[start_year:end_year], \n",
    "                  country,\n",
    "                  'international dollars', 'year',\n",
    "                  color_mapping, code_to_name, 2, False, ax)"
   ]
  },
  {
   "cell_type": "code",
   "execution_count": null,
   "metadata": {},
   "outputs": [],
   "source": [
    "data = pd.read_excel(data_url, \n",
    "                     sheet_name='Regional data', \n",
    "                     header=(0,1,2),\n",
    "                     index_col=0)\n",
    "data.columns = data.columns.droplevel(level=2)"
   ]
  },
  {
   "cell_type": "code",
   "execution_count": null,
   "metadata": {},
   "outputs": [],
   "source": [
    "regionalgdp_pc = data['gdppc_2011'].copy()\n",
    "regionalgdp_pc.index = pd.to_datetime(regionalgdp_pc.index, format='%Y')"
   ]
  },
  {
   "cell_type": "code",
   "execution_count": null,
   "metadata": {},
   "outputs": [],
   "source": [
    "regionalgdp_pc.interpolate(method='time', inplace=True)"
   ]
  },
  {
   "cell_type": "code",
   "execution_count": null,
   "metadata": {},
   "outputs": [],
   "source": [
    "fig, ax = plt.subplots(dpi=150)\n",
    "regionalgdp_pc.plot(ax=ax, xlabel='year',\n",
    "                    lw=2,\n",
    "                    ylabel='international dollars')\n",
    "ax.set_yscale('log')\n",
    "plt.legend(loc='lower center',\n",
    "           ncol=3, bbox_to_anchor=[0.5, -0.5])\n",
    "plt.show()"
   ]
  },
  {
   "cell_type": "code",
   "execution_count": null,
   "metadata": {},
   "outputs": [],
   "source": []
  }
 ],
 "metadata": {
  "kernelspec": {
   "display_name": "Python 3",
   "language": "python",
   "name": "python3"
  },
  "language_info": {
   "codemirror_mode": {
    "name": "ipython",
    "version": 3
   },
   "file_extension": ".py",
   "mimetype": "text/x-python",
   "name": "python",
   "nbconvert_exporter": "python",
   "pygments_lexer": "ipython3",
   "version": "3.11.4"
  }
 },
 "nbformat": 4,
 "nbformat_minor": 2
}
