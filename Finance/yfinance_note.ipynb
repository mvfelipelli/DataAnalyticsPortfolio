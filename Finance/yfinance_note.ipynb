{
 "cells": [
  {
   "cell_type": "code",
   "execution_count": null,
   "metadata": {},
   "outputs": [],
   "source": []
  },
  {
   "cell_type": "markdown",
   "metadata": {},
   "source": [
    "# Introdução"
   ]
  },
  {
   "cell_type": "code",
   "execution_count": null,
   "metadata": {},
   "outputs": [],
   "source": [
    "import yfinance as yf\n",
    "import pandas as pd\n",
    "\n",
    "import pandas as pd \n",
    "import numpy as np \n",
    "import math\n",
    "import matplotlib. pyplot as plt \n",
    "import seaborn as sns \n",
    "from scipy import stats\n"
   ]
  },
  {
   "cell_type": "code",
   "execution_count": null,
   "metadata": {},
   "outputs": [],
   "source": [
    "pd.set_option('display.max_rows', None)\n",
    "pd.options.display.float_format = \"{:,.2f}\".format\n",
    "pd.set_option('display.max_columns', None)"
   ]
  },
  {
   "cell_type": "code",
   "execution_count": null,
   "metadata": {},
   "outputs": [],
   "source": [
    "tickers = ['WEGE3.SA','AURE3.SA','LEVE3.sa','CSMG3.SA'\n",
    "           ,'PETR4.SA','PETR3.SA','MTRE3.SA','BRAP4.SA','BRAP3.SA'\n",
    "           ,'GOAU4.SA','AGRO3.SA','SLCE3.SA'\n",
    "           ,'VALE3.SA','CPFE3.SA','SBSP3.SA'\n",
    "           ,'ITUB3.SA','ITUB4.SA','BMGB4.SA']\n",
    "\n",
    "stocks = yf.download(tickers,period='2y', interval='1d')\n",
    "\n",
    "df = pd.DataFrame(stocks['Adj Close']).reset_index()\n",
    "\n",
    "df.set_index('Date')\n",
    "\n",
    "#df.rename(columns={'AMER3.SA':'AMERICANAS','MGLU3.SA':'MAGALU'}, inplace=True)\n",
    "\n",
    "#df.columns.droplevel(1)\n",
    "\n",
    "df.tail()"
   ]
  },
  {
   "cell_type": "code",
   "execution_count": null,
   "metadata": {},
   "outputs": [],
   "source": [
    "\n",
    "dataset = df.copy()\n",
    "dataset.drop(labels=['Date'], axis=1, inplace=True)\n",
    "taxas_retorno = (dataset/dataset.shift(1))-1\n",
    "taxas_retorno.std()*100"
   ]
  },
  {
   "cell_type": "code",
   "execution_count": null,
   "metadata": {},
   "outputs": [],
   "source": [
    "taxas_retorno.std()*252\n"
   ]
  },
  {
   "cell_type": "code",
   "execution_count": null,
   "metadata": {},
   "outputs": [],
   "source": [
    "taxas_retorno.cov()"
   ]
  },
  {
   "cell_type": "code",
   "execution_count": null,
   "metadata": {},
   "outputs": [],
   "source": [
    "taxas_retorno.corr()"
   ]
  },
  {
   "cell_type": "code",
   "execution_count": null,
   "metadata": {},
   "outputs": [],
   "source": [
    "#taxas_retorno_ame_cvc = taxas_retorno[['AMER3.SA','CVCB3.SA']]"
   ]
  },
  {
   "cell_type": "code",
   "execution_count": null,
   "metadata": {},
   "outputs": [],
   "source": [
    "#taxas_retorno_ame_cvc.cov()*100"
   ]
  },
  {
   "cell_type": "code",
   "execution_count": null,
   "metadata": {},
   "outputs": [],
   "source": [
    "pesos = np.array([0.5, 0.5])"
   ]
  },
  {
   "cell_type": "code",
   "execution_count": null,
   "metadata": {},
   "outputs": [],
   "source": [
    "#np.dot(pesos,taxas_retorno_ame_cvc.cov()*246,pesos).sum()\n"
   ]
  },
  {
   "cell_type": "code",
   "execution_count": null,
   "metadata": {},
   "outputs": [],
   "source": [
    "# math.sqrt(np.dot(pesos,taxas_retorno_ame_cvc.cov()*246,pesos).sum())\n"
   ]
  },
  {
   "cell_type": "code",
   "execution_count": null,
   "metadata": {},
   "outputs": [],
   "source": [
    "# pesos = np.array([0.2, 0.2, 0.2, 0.2, 0.1, 0.1])"
   ]
  },
  {
   "cell_type": "code",
   "execution_count": null,
   "metadata": {},
   "outputs": [],
   "source": [
    "# taxas_retorno.cov()*246"
   ]
  },
  {
   "cell_type": "code",
   "execution_count": null,
   "metadata": {},
   "outputs": [],
   "source": [
    "# np.dot(taxas_retorno.cov()*246,pesos)"
   ]
  },
  {
   "cell_type": "code",
   "execution_count": null,
   "metadata": {},
   "outputs": [],
   "source": [
    "# np.dot(pesos,taxas_retorno.cov()*246,pesos).sum()"
   ]
  },
  {
   "cell_type": "code",
   "execution_count": null,
   "metadata": {},
   "outputs": [],
   "source": [
    "#math.sqrt(np.dot(pesos,taxas_retorno.cov()*246,pesos).sum())"
   ]
  },
  {
   "cell_type": "markdown",
   "metadata": {},
   "source": [
    "# Analise Técnica"
   ]
  },
  {
   "cell_type": "code",
   "execution_count": null,
   "metadata": {},
   "outputs": [],
   "source": [
    "ticker = tickers[0]  # Exemplo com a Wege\n",
    "stock = yf.download(ticker,period='2y', interval='1d')\n",
    "\n",
    "stock.head()\n",
    "\n"
   ]
  },
  {
   "cell_type": "code",
   "execution_count": null,
   "metadata": {},
   "outputs": [],
   "source": [
    "stock = yf.Ticker(tickers[0])\n",
    "df = stock.history(period=\"5y\")\n",
    "df['Close'].plot(title=\"{}'s stock price\".format(tickers[0]))"
   ]
  },
  {
   "cell_type": "code",
   "execution_count": null,
   "metadata": {},
   "outputs": [],
   "source": [
    "dir(stock)"
   ]
  },
  {
   "cell_type": "code",
   "execution_count": null,
   "metadata": {},
   "outputs": [],
   "source": [
    "for k,v in stock.info.items():\n",
    "    print (k, '\\t', v, '\\n')"
   ]
  },
  {
   "cell_type": "code",
   "execution_count": null,
   "metadata": {},
   "outputs": [],
   "source": [
    "stock.recommendations"
   ]
  },
  {
   "cell_type": "code",
   "execution_count": null,
   "metadata": {},
   "outputs": [],
   "source": [
    "# stock.sustainability"
   ]
  },
  {
   "cell_type": "code",
   "execution_count": null,
   "metadata": {},
   "outputs": [],
   "source": [
    "stock.actions"
   ]
  },
  {
   "cell_type": "code",
   "execution_count": null,
   "metadata": {},
   "outputs": [],
   "source": [
    "stock.dividends"
   ]
  },
  {
   "cell_type": "code",
   "execution_count": null,
   "metadata": {},
   "outputs": [],
   "source": [
    "stock.info"
   ]
  },
  {
   "cell_type": "code",
   "execution_count": null,
   "metadata": {},
   "outputs": [],
   "source": [
    "stock.info['dividendYield']"
   ]
  },
  {
   "cell_type": "code",
   "execution_count": null,
   "metadata": {},
   "outputs": [],
   "source": [
    "stock.info['beta']"
   ]
  },
  {
   "cell_type": "code",
   "execution_count": null,
   "metadata": {},
   "outputs": [],
   "source": [
    "list(map(lambda x: stock.info[x], \n",
    "         ['targetLowPrice', 'targetMeanPrice','targetMedianPrice','targetHighPrice']))"
   ]
  },
  {
   "cell_type": "code",
   "execution_count": null,
   "metadata": {},
   "outputs": [],
   "source": [
    "stock.info['industry']"
   ]
  },
  {
   "cell_type": "code",
   "execution_count": null,
   "metadata": {},
   "outputs": [],
   "source": [
    "stock.major_holders"
   ]
  },
  {
   "cell_type": "code",
   "execution_count": null,
   "metadata": {},
   "outputs": [],
   "source": [
    "stock.institutional_holders"
   ]
  },
  {
   "cell_type": "code",
   "execution_count": null,
   "metadata": {},
   "outputs": [],
   "source": [
    "\n",
    "# Obter histórico de preços\n",
    "hist = stock.history(period=\"5y\")\n",
    "hist.tail()"
   ]
  },
  {
   "cell_type": "code",
   "execution_count": null,
   "metadata": {},
   "outputs": [],
   "source": [
    "stock.get_cashflow()"
   ]
  },
  {
   "cell_type": "code",
   "execution_count": null,
   "metadata": {},
   "outputs": [],
   "source": [
    "pd.DataFrame(stock.calendar)\n"
   ]
  },
  {
   "cell_type": "code",
   "execution_count": null,
   "metadata": {},
   "outputs": [],
   "source": [
    "financials = stock.financials\n",
    "\n",
    "financials"
   ]
  },
  {
   "cell_type": "code",
   "execution_count": null,
   "metadata": {},
   "outputs": [],
   "source": [
    "stock.cashflow"
   ]
  },
  {
   "cell_type": "code",
   "execution_count": null,
   "metadata": {},
   "outputs": [],
   "source": [
    "stock.cash_flow"
   ]
  },
  {
   "cell_type": "code",
   "execution_count": null,
   "metadata": {},
   "outputs": [],
   "source": [
    "from selenium import webdriver\n",
    "from selenium.webdriver.common.by import By\n",
    "from selenium.webdriver.chrome.options import Options\n",
    "import pandas as pd\n",
    "\n",
    "def fetch_earnings_data(ticker):\n",
    "    # Set up Selenium to run headlessly\n",
    "    options = Options()\n",
    "    options.headless = True\n",
    "    options.add_argument(\"--headless\")\n",
    "    options.add_argument(\"--disable-gpu\")\n",
    "    options.add_argument(\"--window-size=1920x1080\")\n",
    "\n",
    "    driver = webdriver.Chrome(options=options)\n",
    "    url = f\"https://finance.yahoo.com/calendar/earnings?symbol={ticker}\"\n",
    "    driver.get(url)\n",
    "\n",
    "    # Find the rows of the earnings table\n",
    "    rows = driver.find_elements(By.CSS_SELECTOR, 'table tbody tr')\n",
    "\n",
    "    data = []\n",
    "\n",
    "    for row in rows:\n",
    "        cols = row.find_elements(By.TAG_NAME, 'td')\n",
    "        cols = [elem.text for elem in cols]\n",
    "        data.append(cols)\n",
    "\n",
    "    # Close the WebDriver\n",
    "    driver.quit()\n",
    "\n",
    "    # Assuming the data structure is as expected, create a DataFrame\n",
    "    columns = ['Symbol', 'Company', 'Earnings Date', 'EPS Estimate', 'Reported EPS', 'Surprise(%)']\n",
    "    df = pd.DataFrame(data, columns=columns)\n",
    "\n",
    "    return df\n",
    "\n",
    "# Example usage:\n",
    "ticker = tickers[0]\n",
    "earnings_data = fetch_earnings_data(ticker)\n",
    "\n",
    "# Extract the time and timezone information into a new column\n",
    "earnings_data['Earnings Time'] = earnings_data['Earnings Date']\n",
    "\n",
    "earnings_data['EPS Estimate'] = earnings_data['EPS Estimate'].replace('+', '').replace('-', None).astype(float)\n",
    "earnings_data['Reported EPS'] = earnings_data['Reported EPS'].replace('+', '').replace('-', None).astype(float)\n",
    "\n",
    "\n",
    "# Extract just the date part from the \"Earnings Date\" column\n",
    "earnings_data['Earnings Date'] = earnings_data['Earnings Date'].str.extract(r'(\\b\\w+ \\d{1,2}, \\d{4})')\n",
    "\n",
    "# Convert string date to datetime\n",
    "earnings_data['Earnings Date'] = pd.to_datetime(earnings_data['Earnings Date'])\n",
    "\n",
    "earnings_data['Surprise(%)'] = earnings_data['Surprise(%)'].str.replace('+', '').replace('-', None).astype(float)\n",
    "\n",
    "earnings_data"
   ]
  },
  {
   "cell_type": "code",
   "execution_count": null,
   "metadata": {},
   "outputs": [],
   "source": [
    "earnings = earnings_data.dropna().sort_values(by='Earnings Date',ascending=False)\n",
    "\n",
    "earnings"
   ]
  },
  {
   "cell_type": "markdown",
   "metadata": {},
   "source": [
    "## P/L"
   ]
  },
  {
   "cell_type": "code",
   "execution_count": null,
   "metadata": {},
   "outputs": [],
   "source": [
    "import yfinance as yf\n",
    "import pandas as pd\n",
    "import numpy as np\n",
    "\n",
    "\n",
    "\n",
    "# Obtenha o preço de fechamento mais recente\n",
    "latest_price = hist['Close'].iloc[-1]\n",
    "\n",
    "# Obtenha o lucro por ação (Earnings Per Share - EPS)\n",
    "# Aqui estamos assumindo que os dados de lucros (earnings) estão em milhares\n",
    "eps = earnings['Reported EPS'].iloc[0]\n",
    "print(f\"Latest closing price per share for {ticker}: ${latest_price:.4f}\")\n",
    "print(f\"Earnings per share (EPS) for {ticker}: ${eps:.2f}\")\n",
    "\n"
   ]
  },
  {
   "cell_type": "code",
   "execution_count": null,
   "metadata": {},
   "outputs": [],
   "source": [
    "# Calcule o P/L\n",
    "pl_ratio = latest_price / eps\n",
    "\n",
    "print(f\"P/L ratio for {ticker}: {pl_ratio:.2f}\")"
   ]
  },
  {
   "cell_type": "code",
   "execution_count": null,
   "metadata": {},
   "outputs": [],
   "source": [
    "balance_sheet = stock.balance_sheet\n",
    "\n",
    "balance_sheet"
   ]
  },
  {
   "cell_type": "code",
   "execution_count": null,
   "metadata": {},
   "outputs": [],
   "source": []
  },
  {
   "cell_type": "code",
   "execution_count": null,
   "metadata": {},
   "outputs": [],
   "source": [
    "closing_prices = hist['Close']\n",
    "closing_prices"
   ]
  },
  {
   "cell_type": "code",
   "execution_count": null,
   "metadata": {},
   "outputs": [],
   "source": [
    "balance_sheet.loc['Stockholders Equity', :]"
   ]
  },
  {
   "cell_type": "code",
   "execution_count": null,
   "metadata": {},
   "outputs": [],
   "source": [
    "financials.loc['Net Income', :]"
   ]
  },
  {
   "cell_type": "code",
   "execution_count": null,
   "metadata": {},
   "outputs": [],
   "source": [
    "financials.head()"
   ]
  },
  {
   "cell_type": "code",
   "execution_count": null,
   "metadata": {},
   "outputs": [],
   "source": [
    "from datetime import datetime\n",
    "\n",
    "dt = financials.columns[0]\n",
    "dt = datetime.strftime(dt, \"%Y-%m-%d\")\n",
    "\n",
    "dt"
   ]
  },
  {
   "cell_type": "code",
   "execution_count": null,
   "metadata": {},
   "outputs": [],
   "source": [
    "type(dt)"
   ]
  },
  {
   "cell_type": "code",
   "execution_count": null,
   "metadata": {},
   "outputs": [],
   "source": [
    "closing_prices = pd.DataFrame(hist['Close']).reset_index()\n",
    "\n",
    "closing_prices['DateStr'] = pd.to_datetime(closing_prices['Date']).dt.date\n",
    "\n",
    "closing_prices['Year'] = pd.to_datetime(closing_prices['Date']).dt.year\n",
    "\n",
    "\n",
    "closing_prices.sort_values(by='Date', ascending=False, inplace=True)\n",
    "\n",
    "closing_prices['Date'] = pd.to_datetime(closing_prices['DateStr'])\n",
    "\n",
    "closing_prices.head()\n",
    "\n",
    "\n"
   ]
  },
  {
   "cell_type": "code",
   "execution_count": null,
   "metadata": {},
   "outputs": [],
   "source": [
    "closing_prices.info()"
   ]
  },
  {
   "cell_type": "code",
   "execution_count": null,
   "metadata": {},
   "outputs": [],
   "source": [
    "closing_prices.tail()"
   ]
  },
  {
   "cell_type": "code",
   "execution_count": null,
   "metadata": {},
   "outputs": [],
   "source": [
    "last_prices = pd.DataFrame(closing_prices.groupby(by='Year')['Date'].max())\n",
    "last_prices"
   ]
  },
  {
   "cell_type": "code",
   "execution_count": null,
   "metadata": {},
   "outputs": [],
   "source": [
    "prices = pd.merge(closing_prices , last_prices).sort_values(by='Date',ascending=False)"
   ]
  },
  {
   "cell_type": "code",
   "execution_count": null,
   "metadata": {},
   "outputs": [],
   "source": [
    "closing_price = closing_prices[(closing_prices['Date'] == '2023-12-28')]['Close']"
   ]
  },
  {
   "cell_type": "code",
   "execution_count": null,
   "metadata": {},
   "outputs": [],
   "source": [
    "prices"
   ]
  },
  {
   "cell_type": "code",
   "execution_count": null,
   "metadata": {},
   "outputs": [],
   "source": [
    "prices1 = prices.loc[1:]\n",
    "prices1"
   ]
  },
  {
   "cell_type": "code",
   "execution_count": null,
   "metadata": {},
   "outputs": [],
   "source": [
    "\n",
    "# Exemplo de cálculo de P/L com dados do Yahoo Finance\n",
    "df_eps = pd.DataFrame(financials.loc['Net Income', :] / balance_sheet.loc['Stockholders Equity', :]).reset_index()\n",
    "\n",
    "df_eps"
   ]
  },
  {
   "cell_type": "code",
   "execution_count": null,
   "metadata": {},
   "outputs": [],
   "source": [
    "financials.loc['Basic EPS', :]"
   ]
  },
  {
   "cell_type": "code",
   "execution_count": null,
   "metadata": {},
   "outputs": [],
   "source": [
    "\n",
    "df_eps.columns = ['Date','eps']\n",
    "\n"
   ]
  },
  {
   "cell_type": "code",
   "execution_count": null,
   "metadata": {},
   "outputs": [],
   "source": [
    "df_eps['Year'] = pd.to_datetime(df_eps['Date']).dt.year"
   ]
  },
  {
   "cell_type": "code",
   "execution_count": null,
   "metadata": {},
   "outputs": [],
   "source": [
    "df_eps"
   ]
  },
  {
   "cell_type": "code",
   "execution_count": null,
   "metadata": {},
   "outputs": [],
   "source": [
    "type(df_eps)"
   ]
  },
  {
   "cell_type": "code",
   "execution_count": null,
   "metadata": {},
   "outputs": [],
   "source": [
    "prices"
   ]
  },
  {
   "cell_type": "code",
   "execution_count": null,
   "metadata": {},
   "outputs": [],
   "source": [
    "df_eps"
   ]
  },
  {
   "cell_type": "code",
   "execution_count": null,
   "metadata": {},
   "outputs": [],
   "source": [
    "eps_prices = pd.merge(df_eps , prices, on='Year')\n",
    "eps_prices"
   ]
  },
  {
   "cell_type": "code",
   "execution_count": null,
   "metadata": {},
   "outputs": [],
   "source": [
    "prices\n",
    "\n",
    "#balance_sheet"
   ]
  },
  {
   "cell_type": "code",
   "execution_count": null,
   "metadata": {},
   "outputs": [],
   "source": [
    "df_pl_ratio = eps_prices.copy()\n",
    "df_pl_ratio"
   ]
  },
  {
   "cell_type": "code",
   "execution_count": null,
   "metadata": {},
   "outputs": [],
   "source": [
    "df_pl_ratio['pl_ratio'] = df_pl_ratio['Close']/df_pl_ratio['eps']"
   ]
  },
  {
   "cell_type": "code",
   "execution_count": null,
   "metadata": {},
   "outputs": [],
   "source": [
    "df_pl_ratio"
   ]
  },
  {
   "cell_type": "code",
   "execution_count": null,
   "metadata": {},
   "outputs": [],
   "source": [
    "# prices/eps"
   ]
  },
  {
   "cell_type": "code",
   "execution_count": null,
   "metadata": {},
   "outputs": [],
   "source": [
    "#\n",
    "# stock.info"
   ]
  },
  {
   "cell_type": "markdown",
   "metadata": {},
   "source": [
    "\n",
    "Calculando P/L (Preço/Lucro)\n",
    "df['P/L'] = df['price_per_share'] / df['earnings_per_share']\n",
    "\n",
    "Calculando P/VP (Preço/Valor Patrimonial)\n",
    "df['P/VP'] = df['price_per_share'] / df['book_value_per_share']\n",
    "\n",
    "Calculando P/S (Preço/Vendas)\n",
    "df['P/S'] = df['price_per_share'] / df['sales_per_share']\n",
    "\n",
    "Calculando PEG (Price to Earnings Growth)\n",
    "df['PEG'] = df['P/L'] / df['growth_rate']\n",
    "\n",
    "Calculando ROE (Retorno sobre o Patrimônio Líquido)\n",
    "df['ROE'] = df['earnings_per_share'] / df['book_value_per_share']\n",
    "\n"
   ]
  },
  {
   "cell_type": "markdown",
   "metadata": {},
   "source": []
  }
 ],
 "metadata": {
  "kernelspec": {
   "display_name": "Python 3",
   "language": "python",
   "name": "python3"
  },
  "language_info": {
   "codemirror_mode": {
    "name": "ipython",
    "version": 3
   },
   "file_extension": ".py",
   "mimetype": "text/x-python",
   "name": "python",
   "nbconvert_exporter": "python",
   "pygments_lexer": "ipython3",
   "version": "3.10.12"
  }
 },
 "nbformat": 4,
 "nbformat_minor": 2
}
