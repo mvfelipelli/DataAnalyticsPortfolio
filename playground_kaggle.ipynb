{
  "cells": [
    {
      "cell_type": "code",
      "execution_count": null,
      "metadata": {},
      "outputs": [],
      "source": [
        "# !pip install imblearn"
      ]
    },
    {
      "cell_type": "code",
      "execution_count": null,
      "metadata": {
        "id": "CwuF9nfOxEWB"
      },
      "outputs": [],
      "source": [
        "import pandas as pd\n",
        "from sklearn.model_selection import train_test_split\n",
        "from sklearn.preprocessing import StandardScaler\n",
        "from sklearn.impute import SimpleImputer\n",
        "from sklearn.preprocessing import OneHotEncoder\n",
        "from sklearn.compose import ColumnTransformer\n",
        "from sklearn.pipeline import Pipeline\n",
        "from sklearn.linear_model import LogisticRegression\n",
        "from sklearn.metrics import accuracy_score, confusion_matrix, classification_report\n",
        "\n",
        "\n",
        "from sklearn.linear_model import LogisticRegression\n",
        "from sklearn.preprocessing import StandardScaler, PolynomialFeatures\n",
        "\n",
        "from sklearn.model_selection import GridSearchCV\n",
        "from imblearn.over_sampling import SMOTE\n",
        "\n",
        "import numpy as np\n",
        "import matplotlib.pyplot as plt\n",
        "import seaborn as sns"
      ]
    },
    {
      "cell_type": "code",
      "execution_count": null,
      "metadata": {
        "colab": {
          "base_uri": "https://localhost:8080/"
        },
        "id": "Mi9KfNrLxVcI",
        "outputId": "3107238e-3302-4b34-a4a8-7bacdecb664a"
      },
      "outputs": [],
      "source": [
        "#from google.colab import drive\n",
        "#drive.mount('/content/drive')"
      ]
    },
    {
      "cell_type": "code",
      "execution_count": null,
      "metadata": {
        "id": "AQe3p_NKxEWE"
      },
      "outputs": [],
      "source": [
        "df = pd.DataFrame(pd.read_csv('files/playground-series-s4e6/train.csv'))\n",
        "\n"
      ]
    },
    {
      "cell_type": "code",
      "execution_count": null,
      "metadata": {
        "id": "EIkRH1Lq5E7j"
      },
      "outputs": [],
      "source": [
        "categorical_features = ['Marital status' ,'Application mode' ,'Application order' ,'Course'\n",
        "                        ,'Previous qualification' ,'Nacionality' ,\"Mother's qualification\"\n",
        "                        ,\"Father's qualification\" ,\"Mother's occupation\" ,\"Father's occupation\"]\n"
      ]
    },
    {
      "cell_type": "code",
      "execution_count": null,
      "metadata": {},
      "outputs": [],
      "source": [
        "categorical_features = ['Marital status' ,'Application mode' ,'Application order' ,'Course'\n",
        "                        ,'Previous qualification' ,'Nacionality']"
      ]
    },
    {
      "cell_type": "code",
      "execution_count": null,
      "metadata": {},
      "outputs": [],
      "source": [
        "colums = [ 'Marital status' ,'Application mode' ,'Application order' ,'Course'\n",
        "        ,'Previous qualification' ,'Nacionality', 'Debtor',\n",
        "        'Tuition fees up to date', 'Gender', 'Scholarship holder',\n",
        "        'Age at enrollment', 'International','Inflation rate', 'GDP', 'Target']"
      ]
    },
    {
      "cell_type": "code",
      "execution_count": null,
      "metadata": {},
      "outputs": [],
      "source": [
        "df = df[colums]"
      ]
    },
    {
      "cell_type": "code",
      "execution_count": null,
      "metadata": {
        "colab": {
          "base_uri": "https://localhost:8080/",
          "height": 290
        },
        "id": "Fu2zS0vP0IAK",
        "outputId": "1665e88c-96a0-4da3-b0b9-e4c83b812c9f"
      },
      "outputs": [],
      "source": [
        "#categorical_features = df.drop('Target',axis=1).columns\n",
        "for var in categorical_features:\n",
        "    cat_list='var'+'_'+ var\n",
        "    cat_list = pd.get_dummies(df[var], prefix=var)\n",
        "    data1=df.join(cat_list)\n",
        "    df=data1\n",
        "    df.drop(var, axis=1, inplace=True)\n",
        "\n",
        "df.head()"
      ]
    },
    {
      "cell_type": "code",
      "execution_count": null,
      "metadata": {
        "id": "JCtiS_sJ1IrB"
      },
      "outputs": [],
      "source": [
        "pd.options.display.max_columns = None\n",
        "pd.options.display.max_rows = None\n",
        "pd.options.display.max_info_rows = 1000*7\n",
        "pd.options.display.float_format = '{:.6f}'.format"
      ]
    },
    {
      "cell_type": "code",
      "execution_count": null,
      "metadata": {
        "colab": {
          "base_uri": "https://localhost:8080/",
          "height": 278
        },
        "id": "kHveTUxhx6e0",
        "outputId": "0a38b782-06fa-477e-c62e-61f56f7e06b7"
      },
      "outputs": [],
      "source": [
        "df.head()"
      ]
    },
    {
      "cell_type": "code",
      "execution_count": null,
      "metadata": {
        "id": "bK_EoLo-xEWF"
      },
      "outputs": [],
      "source": [
        "# Criar um dicionário de mapeamento\n",
        "target_map = {\n",
        "    'Graduate': 1,\n",
        "    'Dropout': 2,\n",
        "    'Enrolled': 3\n",
        "}\n",
        "\n",
        "df['Target'] = df['Target'].map(target_map)"
      ]
    },
    {
      "cell_type": "code",
      "execution_count": null,
      "metadata": {
        "id": "D-FG95k_yM3N"
      },
      "outputs": [],
      "source": [
        "categorical = df.drop('Target',axis=1)\n",
        "target = df['Target']"
      ]
    },
    {
      "cell_type": "code",
      "execution_count": null,
      "metadata": {
        "id": "Ykd_Hz6ayZ9p"
      },
      "outputs": [],
      "source": [
        "X = categorical.copy()\n",
        "y = target.copy()"
      ]
    },
    {
      "cell_type": "code",
      "execution_count": null,
      "metadata": {
        "colab": {
          "base_uri": "https://localhost:8080/",
          "height": 278
        },
        "id": "cbHLL5t7KY95",
        "outputId": "20e8826d-7998-4a56-bde6-3eb8d0a67a8e"
      },
      "outputs": [],
      "source": [
        "X.head()"
      ]
    },
    {
      "cell_type": "code",
      "execution_count": null,
      "metadata": {
        "colab": {
          "base_uri": "https://localhost:8080/"
        },
        "id": "fVyBr4rbKavQ",
        "outputId": "1acadfdf-470e-4a07-dda4-5ce4d70bee89"
      },
      "outputs": [],
      "source": [
        "y.head()"
      ]
    },
    {
      "cell_type": "code",
      "execution_count": null,
      "metadata": {
        "id": "fXG27bxXxEWH"
      },
      "outputs": [],
      "source": [
        "\n",
        "# Normalização\n",
        "scaler = StandardScaler()\n",
        "X = scaler.fit_transform(X)\n",
        "\n",
        "# Amostragem\n",
        "smote = SMOTE()\n",
        "X, y = smote.fit_resample(X, y)\n",
        "\n",
        "# Adicionar características polinomiais\n",
        "poly = PolynomialFeatures(degree=2)\n",
        "X = poly.fit_transform(X)\n",
        "\n",
        "# Ajuste de hiperparâmetros\n",
        "param_grid = {\n",
        "    'C': [0.1, 1, 10, 100],\n",
        "    'penalty': ['l1', 'l2'],\n",
        "    'solver': ['liblinear']\n",
        "}\n"
      ]
    },
    {
      "cell_type": "code",
      "execution_count": null,
      "metadata": {
        "colab": {
          "base_uri": "https://localhost:8080/",
          "height": 226
        },
        "id": "XjrK54ggxEWI",
        "outputId": "08a9d189-5e9d-4cbc-9600-66de2edb52db"
      },
      "outputs": [],
      "source": [
        "# pd.DataFrame(X).head()"
      ]
    },
    {
      "cell_type": "code",
      "execution_count": null,
      "metadata": {
        "colab": {
          "base_uri": "https://localhost:8080/",
          "height": 206
        },
        "id": "n5hoPkmQKo3a",
        "outputId": "19c158ef-ea21-4b67-a9d3-3ee15c8f833a"
      },
      "outputs": [],
      "source": [
        "# pd.DataFrame(y).head()"
      ]
    },
    {
      "cell_type": "code",
      "execution_count": null,
      "metadata": {
        "id": "FmawjjMYxEWI"
      },
      "outputs": [],
      "source": [
        "# Dividir os dados em conjuntos de treinamento e teste\n",
        "X_train, X_test, y_train, y_test = train_test_split(X, y, test_size=0.3, random_state=42)\n"
      ]
    },
    {
      "cell_type": "code",
      "execution_count": null,
      "metadata": {
        "id": "cDLhulyYxEWI"
      },
      "outputs": [],
      "source": [
        "\n",
        "grid = GridSearchCV(LogisticRegression(), param_grid, cv=5, scoring='accuracy')\n",
        "grid.fit(X_train, y_train)\n"
      ]
    },
    {
      "cell_type": "code",
      "execution_count": null,
      "metadata": {
        "id": "l7_GYiKSxEWI"
      },
      "outputs": [],
      "source": [
        "grid.best_estimator_"
      ]
    },
    {
      "cell_type": "code",
      "execution_count": null,
      "metadata": {
        "id": "VFb6zcZyxEWI"
      },
      "outputs": [],
      "source": [
        "# Treinar o modelo com os melhores parâmetros\n",
        "model = grid.best_estimator_\n",
        "model.fit(X_train, y_train)\n",
        "\n",
        "\n",
        "# Avaliação\n",
        "y_pred = model.predict(X_test)\n",
        "print(confusion_matrix(y_test, y_pred))\n",
        "print(classification_report(y_test, y_pred))\n",
        "\n",
        "print(f\"Melhor acurácia: {grid.best_score_}\")\n"
      ]
    },
    {
      "cell_type": "code",
      "execution_count": null,
      "metadata": {
        "id": "sPbNh0mBxEWI"
      },
      "outputs": [],
      "source": [
        "import joblib\n",
        "\n",
        "joblib.dump(model, 'model_logistic.joblib')"
      ]
    },
    {
      "cell_type": "code",
      "execution_count": null,
      "metadata": {
        "id": "GI9hNt8ZxEWJ"
      },
      "outputs": [],
      "source": [
        "# Carregar o modelo salvo\n",
        "model = joblib.load('model_logistic.joblib')\n",
        "\n",
        "# Exemplo de novos dados para previsão\n",
        "df_test = pd.read_csv('files/playground-series-s4e6/test.csv')\n",
        "\n",
        "df_test.head()"
      ]
    },
    {
      "cell_type": "code",
      "execution_count": null,
      "metadata": {
        "id": "lVMlOf-1xEWJ"
      },
      "outputs": [],
      "source": [
        "\n",
        "# Fazer previsões com o modelo carregado\n",
        "predict = model.predict(df_test)\n",
        "\n",
        "predict"
      ]
    },
    {
      "cell_type": "code",
      "execution_count": null,
      "metadata": {
        "id": "DXIOd6_fxEWJ"
      },
      "outputs": [],
      "source": []
    }
  ],
  "metadata": {
    "colab": {
      "machine_shape": "hm",
      "provenance": []
    },
    "kernelspec": {
      "display_name": "Python 3",
      "name": "python3"
    },
    "language_info": {
      "codemirror_mode": {
        "name": "ipython",
        "version": 3
      },
      "file_extension": ".py",
      "mimetype": "text/x-python",
      "name": "python",
      "nbconvert_exporter": "python",
      "pygments_lexer": "ipython3",
      "version": "3.10.12"
    }
  },
  "nbformat": 4,
  "nbformat_minor": 0
}
