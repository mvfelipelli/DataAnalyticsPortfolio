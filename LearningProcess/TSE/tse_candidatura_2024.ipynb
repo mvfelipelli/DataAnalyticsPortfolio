{
 "cells": [
  {
   "cell_type": "markdown",
   "metadata": {},
   "source": [
    "### Importar Bibliotecas"
   ]
  },
  {
   "cell_type": "code",
   "execution_count": 1,
   "metadata": {},
   "outputs": [],
   "source": [
    "import pandas as pd\n",
    "import numpy as np\n",
    "import matplotlib.pyplot as plt\n",
    "import seaborn as sns\n",
    "\n",
    "import plotly.express as px"
   ]
  },
  {
   "cell_type": "markdown",
   "metadata": {},
   "source": [
    "### Importar Arquivos"
   ]
  },
  {
   "cell_type": "markdown",
   "metadata": {},
   "source": [
    "#### Candidatos"
   ]
  },
  {
   "cell_type": "code",
   "execution_count": 2,
   "metadata": {},
   "outputs": [],
   "source": [
    "candidatos = pd.read_csv('~/Dados/consulta_cand_2024/consulta_cand_2024_BRASIL.csv',sep=';',encoding='latin')"
   ]
  },
  {
   "cell_type": "code",
   "execution_count": null,
   "metadata": {},
   "outputs": [],
   "source": [
    "candidatos.head()"
   ]
  },
  {
   "cell_type": "code",
   "execution_count": null,
   "metadata": {},
   "outputs": [],
   "source": [
    "candidatos.info(verbose=True)"
   ]
  },
  {
   "cell_type": "code",
   "execution_count": 5,
   "metadata": {},
   "outputs": [],
   "source": [
    "for col in [col for col in candidatos.columns if col.startswith('CD_')]:\n",
    "    if col.startswith('CD_'):\n",
    "        candidatos.drop(col, axis=1, inplace=True)\n"
   ]
  },
  {
   "cell_type": "code",
   "execution_count": null,
   "metadata": {},
   "outputs": [],
   "source": [
    "candidatos.info(verbose=True)"
   ]
  },
  {
   "cell_type": "code",
   "execution_count": null,
   "metadata": {},
   "outputs": [],
   "source": [
    "for col in [col for col in candidatos.columns if col.startswith('DT_')]:\n",
    "    candidatos[col] = pd.to_datetime(candidatos[col], format='%d/%m/%Y', errors='coerce')\n",
    "\n",
    "\n",
    "candidatos.info(verbose=True)\n"
   ]
  },
  {
   "cell_type": "code",
   "execution_count": null,
   "metadata": {},
   "outputs": [],
   "source": [
    "candidatos.head()"
   ]
  },
  {
   "cell_type": "code",
   "execution_count": null,
   "metadata": {},
   "outputs": [],
   "source": [
    "candidatos.isna().sum()"
   ]
  },
  {
   "cell_type": "code",
   "execution_count": 10,
   "metadata": {},
   "outputs": [],
   "source": [
    "candidatos.dropna(inplace=True)"
   ]
  },
  {
   "cell_type": "markdown",
   "metadata": {},
   "source": [
    "#### Complemento"
   ]
  },
  {
   "cell_type": "code",
   "execution_count": 11,
   "metadata": {},
   "outputs": [],
   "source": [
    "complementos = pd.read_csv('~/Dados/consulta_cand_complementar_2024/consulta_cand_complementar_2024_BRASIL.csv',sep=';',encoding='latin')"
   ]
  },
  {
   "cell_type": "code",
   "execution_count": null,
   "metadata": {},
   "outputs": [],
   "source": [
    "complementos.head()"
   ]
  },
  {
   "cell_type": "code",
   "execution_count": 13,
   "metadata": {},
   "outputs": [],
   "source": [
    "for col in [col for col in complementos.columns if col.startswith('CD_')]:\n",
    "    complementos.drop(col, axis=1, inplace=True)\n"
   ]
  },
  {
   "cell_type": "code",
   "execution_count": 14,
   "metadata": {},
   "outputs": [],
   "source": [
    "for col in [col for col in complementos.columns if col.startswith('DT_')]:\n",
    "    complementos[col] = pd.to_datetime(complementos[col], format='%d/%m/%Y', errors='coerce')\n"
   ]
  },
  {
   "cell_type": "code",
   "execution_count": null,
   "metadata": {},
   "outputs": [],
   "source": [
    "complementos.head()"
   ]
  },
  {
   "cell_type": "markdown",
   "metadata": {},
   "source": [
    "#### Bens"
   ]
  },
  {
   "cell_type": "code",
   "execution_count": 16,
   "metadata": {},
   "outputs": [],
   "source": [
    "bens = pd.read_csv('~/Dados/bem_candidato_2024/bem_candidato_2024_BRASIL.csv',sep=';',encoding='latin')"
   ]
  },
  {
   "cell_type": "code",
   "execution_count": null,
   "metadata": {},
   "outputs": [],
   "source": [
    "bens.head()"
   ]
  },
  {
   "cell_type": "code",
   "execution_count": 18,
   "metadata": {},
   "outputs": [],
   "source": [
    "for col in [col for col in bens.columns if col.startswith('CD_')]:\n",
    "    bens.drop(col, axis=1, inplace=True)\n"
   ]
  },
  {
   "cell_type": "code",
   "execution_count": 19,
   "metadata": {},
   "outputs": [],
   "source": [
    "for col in [col for col in bens.columns if col.startswith('DT_')]:\n",
    "    bens[col] = pd.to_datetime(bens[col], format='%d/%m/%Y', errors='coerce')\n"
   ]
  },
  {
   "cell_type": "code",
   "execution_count": null,
   "metadata": {},
   "outputs": [],
   "source": [
    "bens.head()"
   ]
  },
  {
   "cell_type": "code",
   "execution_count": null,
   "metadata": {},
   "outputs": [],
   "source": [
    "bens.info(verbose=True)"
   ]
  },
  {
   "cell_type": "code",
   "execution_count": null,
   "metadata": {},
   "outputs": [],
   "source": [
    "bens['VR_BEM_CANDIDATO'] = pd.to_numeric(bens['VR_BEM_CANDIDATO'].str.replace(',', '.'))\n",
    "\n",
    "bens['VR_BEM_CANDIDATO']\n",
    "#bens['VR_BEM_CANDIDATO'] = bens['VR_BEM_CANDIDATO'].astype(float)"
   ]
  },
  {
   "cell_type": "code",
   "execution_count": null,
   "metadata": {},
   "outputs": [],
   "source": [
    "bens['VR_BEM_CANDIDATO'].describe()"
   ]
  },
  {
   "cell_type": "markdown",
   "metadata": {},
   "source": [
    "#### EDA"
   ]
  },
  {
   "cell_type": "code",
   "execution_count": null,
   "metadata": {},
   "outputs": [],
   "source": [
    "candidatos.head()"
   ]
  },
  {
   "cell_type": "code",
   "execution_count": null,
   "metadata": {},
   "outputs": [],
   "source": [
    "dados = candidatos.merge(complementos, how='left', on='SQ_CANDIDATO')\n",
    "dados = dados.merge(bens,how='left',on='SQ_CANDIDATO')\n",
    "\n",
    "dados.head()"
   ]
  },
  {
   "cell_type": "code",
   "execution_count": 26,
   "metadata": {},
   "outputs": [],
   "source": [
    "#lista = dados.filter(regex='_x$').columns\n",
    "#dados.drop(lista, axis=1, inplace=True)\n"
   ]
  },
  {
   "cell_type": "code",
   "execution_count": 27,
   "metadata": {},
   "outputs": [],
   "source": [
    "#lista = dados.filter(regex='_y$').columns\n",
    "#dados.drop(lista, axis=1, inplace=True)\n"
   ]
  },
  {
   "cell_type": "code",
   "execution_count": null,
   "metadata": {},
   "outputs": [],
   "source": [
    "dados.sort_values(by=['SQ_CANDIDATO','NR_ORDEM_BEM_CANDIDATO']).head(10)"
   ]
  },
  {
   "cell_type": "code",
   "execution_count": null,
   "metadata": {},
   "outputs": [],
   "source": [
    "dados.columns"
   ]
  },
  {
   "cell_type": "code",
   "execution_count": null,
   "metadata": {},
   "outputs": [],
   "source": [
    "dados = dados[dados['VR_BEM_CANDIDATO'] < 30000000]\n",
    "\n",
    "dados = dados[dados['NR_IDADE_DATA_POSSE'] < 130]\n",
    "\n",
    "#dados = dados[dados['SG_UF_x'].isin(['MG','SP','RJ','ES'])]\n",
    "\n",
    "dados['VR_BEM_CANDIDATO'].describe()"
   ]
  },
  {
   "cell_type": "code",
   "execution_count": null,
   "metadata": {},
   "outputs": [],
   "source": [
    "dados['NR_IDADE_DATA_POSSE'].describe()"
   ]
  },
  {
   "cell_type": "code",
   "execution_count": null,
   "metadata": {},
   "outputs": [],
   "source": [
    "dados_agg = dados.groupby(\n",
    "    [  'DS_CARGO', 'SQ_CANDIDATO',\n",
    "       'NR_CANDIDATO', 'NM_CANDIDATO', 'SG_PARTIDO', 'SG_UF_x',\n",
    "       'NM_PARTIDO', 'SG_UF_NASCIMENTO', 'DT_NASCIMENTO',\n",
    "       'DS_GENERO', 'DS_GRAU_INSTRUCAO',\n",
    "       'DS_ESTADO_CIVIL', 'DS_COR_RACA', 'DS_OCUPACAO',\n",
    "       'NR_IDADE_DATA_POSSE', 'ST_QUILOMBOLA',\n",
    "       'DS_ETNIA_INDIGENA', 'VR_DESPESA_MAX_CAMPANHA', 'ST_REELEICAO']\n",
    ").agg(\n",
    "    TOTAL_BENS=('VR_BEM_CANDIDATO', 'sum'),     # Nome personalizado para soma\n",
    "        QUANT_BENS=('VR_BEM_CANDIDATO', 'count') # Nome personalizado para contagem\n",
    ").reset_index()\n",
    "\n",
    "\n",
    "dados_agg.head()"
   ]
  },
  {
   "cell_type": "markdown",
   "metadata": {},
   "source": [
    "### EDA"
   ]
  },
  {
   "cell_type": "code",
   "execution_count": null,
   "metadata": {},
   "outputs": [],
   "source": [
    "print(dados_agg.isnull().sum())  # Contar os valores nulos em cada coluna\n"
   ]
  },
  {
   "cell_type": "code",
   "execution_count": null,
   "metadata": {},
   "outputs": [],
   "source": [
    "print(dados_agg.duplicated().sum())"
   ]
  },
  {
   "cell_type": "code",
   "execution_count": null,
   "metadata": {},
   "outputs": [],
   "source": [
    "dados_agg.rename(columns={'DS_CARGO':'Cargo', \n",
    "                            'SQ_CANDIDATO':'SQ_CANDIDATO', \n",
    "                            'NR_CANDIDATO':'Num Candidato', \n",
    "                            'NM_CANDIDATO':'Nome Candidato',\n",
    "                            'SG_PARTIDO':'Sigla Partido', \n",
    "                            'SG_UF_x': 'UF', \n",
    "                            'NM_PARTIDO':'Nome Partido', \n",
    "                            'SG_UF_NASCIMENTO':'UF Nascimento',\n",
    "                            'DT_NASCIMENTO':'df Nascimento', \n",
    "                            'DS_GENERO':'Genêro', \n",
    "                            'DS_GRAU_INSTRUCAO':'Grau Instrução', \n",
    "                            'DS_ESTADO_CIVIL':'Estado Civil',\n",
    "                            'DS_COR_RACA':'Cor / Raça', \n",
    "                            'DS_OCUPACAO':'Ocupação', \n",
    "                            'NR_IDADE_df_POSSE':'Idade', \n",
    "                            'ST_QUILOMBOLA':'Quilombola',\n",
    "                            'DS_ETNIA_INDIGENA':'Etnia Indigina', \n",
    "                            'VR_DESPESA_MAX_CAMPANHA':'Despesa de Campanha', \n",
    "                            'ST_REELEICAO':'Releição',\n",
    "                            'TOTAL_BENS': 'Valor Bens', \n",
    "                            'QUANT_BENS': 'Quant Bens',\n",
    "                            'NR_IDADE_DATA_POSSE':'Idade'}, inplace=True)\n",
    "dados_agg.head()"
   ]
  },
  {
   "cell_type": "code",
   "execution_count": null,
   "metadata": {},
   "outputs": [],
   "source": [
    "print(dados_agg.columns)  # Lista os nomes das colunas\n"
   ]
  },
  {
   "cell_type": "markdown",
   "metadata": {},
   "source": [
    "### Análises"
   ]
  },
  {
   "cell_type": "markdown",
   "metadata": {},
   "source": [
    "![Gráficos](/Users/marcellofelipelli/Documents/dfAnalyticsPortfolio/LearningProcess/image.png)\n"
   ]
  },
  {
   "cell_type": "markdown",
   "metadata": {},
   "source": [
    "#### Funcoes para Graficos"
   ]
  },
  {
   "cell_type": "code",
   "execution_count": 37,
   "metadata": {},
   "outputs": [],
   "source": [
    "import plotly.express as px\n",
    "\n",
    "def create_bar_chart(df, x_column, y_column, chart_title, x_axis_title, y_axis_title):\n",
    "    \"\"\"\n",
    "    Função para criar um gráfico de barras com Plotly Express.\n",
    "    \n",
    "    Parâmetros:\n",
    "    - df: dfFrame com os dados.\n",
    "    - x_column: Coluna para o eixo X.\n",
    "    - y_column: Coluna para o eixo Y.\n",
    "    - chart_title: Título do gráfico.\n",
    "    - x_axis_title: Título do eixo X.\n",
    "    - y_axis_title: Título do eixo Y.\n",
    "    \"\"\"\n",
    "    # Criar gráfico de barras\n",
    "    fig = px.bar(\n",
    "        df, \n",
    "        color=x_column, \n",
    "        x=x_column,  # Eixo X\n",
    "        y=y_column,  # Eixo Y\n",
    "        title=chart_title  # Título do gráfico\n",
    "    )\n",
    "\n",
    "    # Atualizar os títulos dos eixos\n",
    "    fig.update_layout(\n",
    "        xaxis_title=x_axis_title,  # Título do eixo X\n",
    "        yaxis_title=y_axis_title,  # Título do eixo Y\n",
    "        width=900,  # Largura do gráfico\n",
    "        height=400  # Altura do gráfico\n",
    "    )\n",
    "\n",
    "    # Mostrar os valores nas barras\n",
    "    fig.update_traces(texttemplate='%{y:,.2f}', textposition='inside')\n",
    "\n",
    "    # Exibir o gráfico\n",
    "    fig.show()\n",
    "\n",
    "# Exemplo de uso\n",
    "# create_bar_chart(data, 'SG_UF_NASCIMENTO', 'proportion', \n",
    "#                  'Candidatos: Valor de Bens > Valor Máximo Despesa', \n",
    "#                  'Estado de Nascimento', 'Quantidade de Candidatos')\n"
   ]
  },
  {
   "cell_type": "code",
   "execution_count": 38,
   "metadata": {},
   "outputs": [],
   "source": [
    "import plotly.express as px\n",
    "import pandas as pd\n",
    "\n",
    "def create_countplot_plotly(data, x_column, chart_title, x_axis_title, y_axis_title):\n",
    "    \"\"\"\n",
    "    Função para criar um gráfico de contagem (countplot) com Plotly Express.\n",
    "    \n",
    "    Parâmetros:\n",
    "    - data: DataFrame com os dados.\n",
    "    - x_column: Coluna para o eixo X (dados categóricos).\n",
    "    - chart_title: Título do gráfico.\n",
    "    - x_axis_title: Título do eixo X.\n",
    "    - y_axis_title: Título do eixo Y.\n",
    "    \"\"\"\n",
    "    # Contagem de valores da coluna categórica\n",
    "    count_data = data[x_column].value_counts().reset_index()\n",
    "    count_data.columns = [x_column, 'count']\n",
    "\n",
    "    # Criar gráfico de barras para a contagem\n",
    "    fig = px.bar(\n",
    "        count_data, \n",
    "        color=x_column,\n",
    "        x=x_column,  # Eixo X\n",
    "        y='count',  # Eixo Y\n",
    "        title=chart_title  # Título do gráfico\n",
    "    )\n",
    "\n",
    "    # Atualizar os títulos dos eixos\n",
    "    fig.update_layout(\n",
    "        xaxis_title=x_axis_title,  # Título do eixo X\n",
    "        yaxis_title=y_axis_title,  # Título do eixo Y\n",
    "        width=900,  # Largura do gráfico\n",
    "        height=400  # Altura do gráfico\n",
    "    )\n",
    "\n",
    "    # Mostrar os valores nas barras\n",
    "    fig.update_traces(texttemplate='%{y}', textposition='inside')\n",
    "\n",
    "    # Exibir o gráfico\n",
    "    fig.show()\n",
    "\n",
    "# Exemplo de uso\n",
    "# create_countplot_plotly(data, 'SG_UF_NASCIMENTO', \n",
    "#                         'Candidatos por Estado de Nascimento', \n",
    "#                         'Estado de Nascimento', 'Quantidade de Candidatos')\n"
   ]
  },
  {
   "cell_type": "code",
   "execution_count": 39,
   "metadata": {},
   "outputs": [],
   "source": [
    "import plotly.express as px\n",
    "\n",
    "def create_boxplot_plotly(data, x_column, y_column, chart_title, x_axis_title, y_axis_title):\n",
    "    \"\"\"\n",
    "    Função para criar um gráfico de boxplot com Plotly Express.\n",
    "    \n",
    "    Parâmetros:\n",
    "    - data: DataFrame com os dados.\n",
    "    - x_column: Coluna para o eixo X (pode ser categórica).\n",
    "    - y_column: Coluna para o eixo Y (numérica).\n",
    "    - chart_title: Título do gráfico.\n",
    "    - x_axis_title: Título do eixo X.\n",
    "    - y_axis_title: Título do eixo Y.\n",
    "    \"\"\"\n",
    "    # Criar boxplot\n",
    "    fig = px.box(\n",
    "        data, \n",
    "        color=x_column,\n",
    "        x=x_column,  # Eixo X (normalmente categórico)\n",
    "        y=y_column,  # Eixo Y (dados numéricos)\n",
    "        title=chart_title  # Título do gráfico\n",
    "    )\n",
    "\n",
    "    # Atualizar os títulos dos eixos\n",
    "    fig.update_layout(\n",
    "        xaxis_title=x_axis_title,  # Título do eixo X\n",
    "        yaxis_title=y_axis_title,  # Título do eixo Y\n",
    "        width=900,  # Largura do gráfico\n",
    "        height=400  # Altura do gráfico\n",
    "    )\n",
    "\n",
    "    # Exibir o gráfico\n",
    "    fig.show()\n",
    "\n",
    "# Exemplo de uso\n",
    "# create_boxplot_plotly(data, 'SG_UF_NASCIMENTO', 'proportion', \n",
    "#                       'Boxplot de Proporção por Estado de Nascimento', \n",
    "#                       'Estado de Nascimento', 'Proporção')\n"
   ]
  },
  {
   "cell_type": "code",
   "execution_count": 40,
   "metadata": {},
   "outputs": [],
   "source": [
    "import plotly.express as px\n",
    "\n",
    "def create_distplot_plotly(data, column, chart_title, x_axis_title, y_axis_title, show_density=True):\n",
    "    \"\"\"\n",
    "    Função para criar um gráfico de distribuição (similar ao distplot) com Plotly Express.\n",
    "    \n",
    "    Parâmetros:\n",
    "    - data: DataFrame com os dados.\n",
    "    - column: Coluna numérica para criar o gráfico de distribuição.\n",
    "    - chart_title: Título do gráfico.\n",
    "    - x_axis_title: Título do eixo X.\n",
    "    - y_axis_title: Título do eixo Y.\n",
    "    - show_density: Booleano para mostrar ou não a curva de densidade.\n",
    "    \"\"\"\n",
    "    # Criar histograma com ou sem curva de densidade\n",
    "    fig = px.histogram(\n",
    "        data, \n",
    "        x=column, \n",
    "        nbins=30,  # Número de bins (intervalos)\n",
    "        histnorm='probability density' if show_density else None,  # Para normalizar como densidade\n",
    "        title=chart_title\n",
    "    )\n",
    "\n",
    "    # Atualizar os títulos dos eixos\n",
    "    fig.update_layout(\n",
    "        xaxis_title=x_axis_title,  # Título do eixo X\n",
    "        yaxis_title=y_axis_title,  # Título do eixo Y\n",
    "        width=900,  # Largura do gráfico\n",
    "        height=400  # Altura do gráfico\n",
    "    )\n",
    "\n",
    "    # Mostrar o gráfico\n",
    "    fig.show()\n",
    "\n",
    "# Exemplo de uso\n",
    "# create_distplot_plotly(df, 'proportion', \n",
    "#                        'Distribuição de Proporção', \n",
    "#                        'Proporção', 'Densidade de Probabilidade')\n"
   ]
  },
  {
   "cell_type": "markdown",
   "metadata": {},
   "source": [
    "#### Candidatos com Valor de Bens maior que a Despesa Máxima para Campanha"
   ]
  },
  {
   "cell_type": "code",
   "execution_count": null,
   "metadata": {},
   "outputs": [],
   "source": [
    "data = dados_agg[dados_agg['Despesa de Campanha']<dados_agg['Valor Bens']]\n",
    "\n",
    "data.head()\n"
   ]
  },
  {
   "cell_type": "code",
   "execution_count": null,
   "metadata": {},
   "outputs": [],
   "source": [
    "data.shape"
   ]
  },
  {
   "cell_type": "code",
   "execution_count": null,
   "metadata": {},
   "outputs": [],
   "source": [
    "estados = pd.DataFrame(data['UF'].value_counts()).head(10).index.tolist()\n",
    "estados"
   ]
  },
  {
   "cell_type": "markdown",
   "metadata": {},
   "source": [
    "##### UF Nascimento"
   ]
  },
  {
   "cell_type": "code",
   "execution_count": null,
   "metadata": {},
   "outputs": [],
   "source": [
    "df = data['UF Nascimento'].value_counts(normalize=True).reset_index()\n",
    "\n",
    "df['proportion'] = df['proportion']*100\n",
    "\n",
    "df = df[df['UF Nascimento'].isin(estados)]\n",
    "\n",
    "create_bar_chart(df, 'UF Nascimento', 'proportion', \n",
    "                 'Candidatos por Origem (UF): Valor de Bens > Valor Máximo Despesa (em %)', \n",
    "                 'Estado de Nascimento', 'Quantidade de Candidatos')\n",
    "\n",
    "\n",
    "df_geral = dados_agg[dados_agg['UF Nascimento'].isin(estados)]['UF Nascimento'].value_counts(normalize=True).reset_index()\n",
    "\n",
    "df_geral['proportion'] = df_geral['proportion']*100\n",
    "\n",
    "create_bar_chart(df_geral, 'UF Nascimento', 'proportion', \n",
    "                 'Candidatos por Origem (UF): Todos os Candidatos (em %)', \n",
    "                 'Estado de Nascimento', 'Quantidade de Candidatos')\n",
    "\n",
    "\n"
   ]
  },
  {
   "cell_type": "code",
   "execution_count": null,
   "metadata": {},
   "outputs": [],
   "source": [
    "df = data[['Valor Bens','UF Nascimento']]\n",
    "\n",
    "df = df[df['UF Nascimento'].isin(estados)]\n",
    "\n",
    "#df = df.groupby('UF Nascimento')['Valor Bens'].sum().reset_index()\n",
    "\n",
    "df = df.sort_values('Valor Bens',ascending=False)\n",
    "\n",
    "df.head()\n",
    "\n",
    "create_bar_chart(df.groupby('UF Nascimento')['Valor Bens'].sum().reset_index().reset_index().sort_values('Valor Bens',ascending=False), 'UF Nascimento', 'Valor Bens', \n",
    "                'Candidatos: Valor de Bens > Valor Máximo Despesa (em R$)', \n",
    "                'Estado de Nascimento', 'Quantidade de Candidatos')\n"
   ]
  },
  {
   "cell_type": "code",
   "execution_count": null,
   "metadata": {},
   "outputs": [],
   "source": [
    "\n",
    "df_geral = dados_agg[['Valor Bens','UF Nascimento']]\n",
    "\n",
    "df_geral = df_geral[df_geral['UF Nascimento'].isin(estados)]\n",
    "\n",
    "#df = df.groupby('UF Nascimento')['Valor Bens'].sum().reset_index()\n",
    "\n",
    "df_geral = df_geral.sort_values('Valor Bens',ascending=False)\n",
    "\n",
    "create_bar_chart(df_geral.groupby('UF Nascimento')['Valor Bens'].sum().reset_index().reset_index().sort_values('Valor Bens',ascending=False), 'UF Nascimento', 'Valor Bens', \n",
    "                 'Candidatos por Origem (UF): Todos os Candidatos (em R$)', \n",
    "                 'Estado de Nascimento', 'Quantidade de Candidatos')\n"
   ]
  },
  {
   "cell_type": "code",
   "execution_count": null,
   "metadata": {},
   "outputs": [],
   "source": [
    "for estado in estados:\n",
    "    create_boxplot_plotly(df[df['UF Nascimento']==estado], 'UF Nascimento', 'Valor Bens', \n",
    "                 'Candidatos: Valor de Bens > Valor Máximo Despesa', \n",
    "                 'Estado de Nascimento', 'Quantidade de Candidatos')\n",
    "    \n"
   ]
  },
  {
   "cell_type": "code",
   "execution_count": null,
   "metadata": {},
   "outputs": [],
   "source": [
    "df = data['UF Nascimento'].value_counts(normalize=True).reset_index()\n",
    "\n",
    "\n",
    "df = df[df['UF Nascimento'].isin(estados)]\n",
    "\n",
    "df['proportion'] = df['proportion']*100\n",
    "\n",
    "create_bar_chart(df, 'UF Nascimento', 'proportion', \n",
    "                 'Candidatos: Valor de Bens > Valor Máximo Despesa (em %)', \n",
    "                 'Estado de Nascimento', 'Quantidade de Candidatos')\n"
   ]
  },
  {
   "cell_type": "code",
   "execution_count": null,
   "metadata": {},
   "outputs": [],
   "source": [
    "df = dados_agg[dados_agg['Despesa de Campanha']<dados_agg['Valor Bens']]['Genêro'].value_counts(normalize=True).reset_index()\n",
    "\n",
    "df['proportion'] = df['proportion']*100\n",
    "\n",
    "create_bar_chart(df, 'Genêro', 'proportion', \n",
    "                 'Candidatos: Valor de Bens > Valor Máximo Despesa', \n",
    "                 'Estado de Nascimento', 'Quantidade de Candidatos')\n"
   ]
  },
  {
   "cell_type": "code",
   "execution_count": null,
   "metadata": {},
   "outputs": [],
   "source": [
    "df = dados_agg[['Valor Bens','Genêro']]\n",
    "\n",
    "create_boxplot_plotly(df, 'Genêro', 'Valor Bens', \n",
    "                 'Candidatos: Valor de Bens > Valor Máximo Despesa', \n",
    "                 'Estado de Nascimento', 'Quantidade de Candidatos')\n",
    "\n"
   ]
  },
  {
   "cell_type": "code",
   "execution_count": null,
   "metadata": {},
   "outputs": [],
   "source": [
    "df = dados_agg['Genêro'].value_counts(normalize=True).reset_index()\n",
    "\n",
    "df['proportion'] = df['proportion']*100\n",
    "\n",
    "create_bar_chart(df, 'Genêro', 'proportion', \n",
    "                 'Candidatos: Valor de Bens > Valor Máximo Despesa', \n",
    "                 'Estado de Nascimento', 'Quantidade de Candidatos')"
   ]
  },
  {
   "cell_type": "code",
   "execution_count": null,
   "metadata": {},
   "outputs": [],
   "source": [
    "df = dados_agg[dados_agg['Despesa de Campanha']<dados_agg['Valor Bens']]['Grau Instrução'].value_counts(normalize=True).reset_index()\n",
    "\n",
    "df['proportion'] = df['proportion']*100\n",
    "\n",
    "create_bar_chart(df, 'Grau Instrução', 'proportion', \n",
    "                 'Candidatos: Por Grau Instrução', \n",
    "                 'Estado de Nascimento', 'Quantidade de Candidatos')\n"
   ]
  },
  {
   "cell_type": "code",
   "execution_count": null,
   "metadata": {},
   "outputs": [],
   "source": [
    "df = dados_agg['Grau Instrução'].value_counts(normalize=True).reset_index()\n",
    "\n",
    "df['proportion'] = df['proportion']*100\n",
    "\n",
    "\n",
    "create_bar_chart(df, 'Grau Instrução', 'proportion', \n",
    "                 'Candidatos: Valor de Bens > Valor Máximo Despesa', \n",
    "                 'Estado de Nascimento', 'Quantidade de Candidatos')"
   ]
  },
  {
   "cell_type": "code",
   "execution_count": null,
   "metadata": {},
   "outputs": [],
   "source": [
    "df = dados_agg[['Sigla Partido']].value_counts(normalize=True).reset_index()\n",
    "\n",
    "df['proportion'] = df['proportion']*100\n",
    "\n",
    "df.head()\n",
    "\n",
    "create_bar_chart(df, 'Sigla Partido', 'proportion', \n",
    "                 'Candidatos: Valor de Bens > Valor Máximo Despesa', \n",
    "                 'Estado de Nascimento', 'Quantidade de Candidatos')\n"
   ]
  },
  {
   "cell_type": "code",
   "execution_count": null,
   "metadata": {},
   "outputs": [],
   "source": [
    "df = dados_agg['Sigla Partido'].value_counts(normalize=True).reset_index()\n",
    "\n",
    "df['proportion'] = df['proportion']*100\n",
    "\n",
    "\n",
    "create_bar_chart(df, 'Sigla Partido', 'proportion', \n",
    "                 'Candidatos: Por Partido', \n",
    "                 'Estado de Nascimento', 'Quantidade de Candidatos')"
   ]
  },
  {
   "cell_type": "code",
   "execution_count": null,
   "metadata": {},
   "outputs": [],
   "source": [
    "df = dados_agg[dados_agg['Despesa de Campanha']<dados_agg['Valor Bens']]['Estado Civil'].value_counts(normalize=True).reset_index()\n",
    "\n",
    "df['proportion'] = df['proportion']*100\n",
    "\n",
    "\n",
    "create_bar_chart(df, 'Estado Civil', 'proportion', \n",
    "                 'Candidatos: Valor de Bens > Valor Máximo Despesa', \n",
    "                 'Estado de Nascimento', 'Quantidade de Candidatos')"
   ]
  },
  {
   "cell_type": "code",
   "execution_count": null,
   "metadata": {},
   "outputs": [],
   "source": [
    "df = dados_agg['Estado Civil'].value_counts(normalize=True).reset_index()\n",
    "\n",
    "df['proportion'] = df['proportion']*100\n",
    "\n",
    "\n",
    "create_bar_chart(df, 'Estado Civil', 'proportion', \n",
    "                 'Candidatos: Valor de Bens > Valor Máximo Despesa', \n",
    "                 'Estado de Nascimento', 'Quantidade de Candidatos')"
   ]
  },
  {
   "cell_type": "code",
   "execution_count": null,
   "metadata": {},
   "outputs": [],
   "source": [
    "df = data['Cor / Raça'].value_counts(normalize=True).reset_index()\n",
    "\n",
    "df['proportion'] = df['proportion']*100\n",
    "\n",
    "\n",
    "create_bar_chart(df, 'Cor / Raça', 'proportion', \n",
    "                 'Candidatos: Valor de Bens > Valor Máximo Despesa', \n",
    "                 'Estado de Nascimento', 'Quantidade de Candidatos')"
   ]
  },
  {
   "cell_type": "code",
   "execution_count": null,
   "metadata": {},
   "outputs": [],
   "source": [
    "df = dados_agg['Cor / Raça'].value_counts(normalize=True).reset_index()\n",
    "\n",
    "df['proportion'] = df['proportion']*100\n",
    "\n",
    "\n",
    "create_bar_chart(df, 'Cor / Raça', 'proportion', \n",
    "                 'Candidatos: Valor de Bens > Valor Máximo Despesa', \n",
    "                 'Estado de Nascimento', 'Quantidade de Candidatos')"
   ]
  },
  {
   "cell_type": "code",
   "execution_count": null,
   "metadata": {},
   "outputs": [],
   "source": [
    "df = data['Ocupação'].value_counts(normalize=True).reset_index().head(10)\n",
    "\n",
    "df['proportion'] = df['proportion']*100\n",
    "\n",
    "\n",
    "create_bar_chart(df, 'Ocupação', 'proportion', \n",
    "                 'Candidatos: Valor de Bens > Valor Máximo Despesa', \n",
    "                 'Estado de Nascimento', 'Quantidade de Candidatos')"
   ]
  },
  {
   "cell_type": "code",
   "execution_count": null,
   "metadata": {},
   "outputs": [],
   "source": [
    "df = data['Ocupação'].value_counts(normalize=True).reset_index().head(10)\n",
    "\n",
    "df['proportion'] = df['proportion']*100\n",
    "\n",
    "\n",
    "create_bar_chart(df, 'Ocupação', 'proportion', \n",
    "                 'Candidatos: Valor de Bens > Valor Máximo Despesa', \n",
    "                 'Estado de Nascimento', 'Quantidade de Candidatos')"
   ]
  },
  {
   "cell_type": "code",
   "execution_count": null,
   "metadata": {},
   "outputs": [],
   "source": [
    "df = data['UF'].value_counts(normalize=True).reset_index()\n",
    "\n",
    "df['proportion'] = df['proportion']*100\n",
    "\n",
    "\n",
    "create_bar_chart(df, 'UF', 'proportion', \n",
    "                 'Candidatos: Valor de Bens > Valor Máximo Despesa', \n",
    "                 'Estado de Nascimento', 'Quantidade de Candidatos')\n"
   ]
  },
  {
   "cell_type": "code",
   "execution_count": null,
   "metadata": {},
   "outputs": [],
   "source": [
    "df = data['UF'].value_counts(normalize=True).reset_index()\n",
    "\n",
    "df['proportion'] = df['proportion']*100\n",
    "\n",
    "df = df[df['UF'].isin(estados)]\n",
    "\n",
    "create_bar_chart(df, 'UF', 'proportion', \n",
    "                 'Candidatos: Valor de Bens > Valor Máximo Despesa', \n",
    "                 'Estado de Nascimento', 'Quantidade de Candidatos')\n"
   ]
  },
  {
   "cell_type": "code",
   "execution_count": null,
   "metadata": {},
   "outputs": [],
   "source": [
    "df = data[data['Etnia Indigina'] != '#NULO#']\n",
    "\n",
    "df = df[df['Etnia Indigina'] != 'NÃO INFORMADO']\n",
    "\n",
    "df = df['Etnia Indigina'].value_counts(normalize=True).reset_index()\n",
    "\n",
    "df['proportion'] = df['proportion']*100\n",
    "\n",
    "create_bar_chart(df.head(15),\n",
    "                 'Etnia Indigina',\n",
    "                 'proportion',\n",
    "                 'Candidatos: Valor de Bens > Valor Máximo Despesa',\n",
    "                 \"Etnia Indígena\",\n",
    "                 \"Quantidade de Candidatos\")\n"
   ]
  },
  {
   "cell_type": "code",
   "execution_count": null,
   "metadata": {},
   "outputs": [],
   "source": [
    "df = dados_agg[dados_agg['Etnia Indigina'] != '#NULO#']\n",
    "\n",
    "df = df[df['Etnia Indigina'] != 'NÃO INFORMADO']\n",
    "\n",
    "df = df['Etnia Indigina'].value_counts(normalize=True).reset_index()\n",
    "\n",
    "df['proportion'] = df['proportion']*100\n",
    "\n",
    "\n",
    "create_bar_chart(df.head(15),\n",
    "                 'Etnia Indigina',\n",
    "                 'proportion',\n",
    "                 'Candidatos: Valor de Bens > Valor Máximo Despesa',\n",
    "                 \"Etnia Indígena\",\n",
    "                 \"Quantidade de Candidatos\")\n"
   ]
  },
  {
   "cell_type": "markdown",
   "metadata": {},
   "source": [
    "#### Candidatos com Valor de Bens menor que a Despesa Máxima para Campanha"
   ]
  },
  {
   "cell_type": "code",
   "execution_count": null,
   "metadata": {},
   "outputs": [],
   "source": [
    "data = dados_agg[dados_agg['Despesa de Campanha']>=dados_agg['Valor Bens']]\n",
    "\n",
    "data.head()\n"
   ]
  },
  {
   "cell_type": "code",
   "execution_count": null,
   "metadata": {},
   "outputs": [],
   "source": [
    "data.shape"
   ]
  },
  {
   "cell_type": "code",
   "execution_count": null,
   "metadata": {},
   "outputs": [],
   "source": [
    "estados = pd.DataFrame(data['UF'].value_counts()).head(10).index.tolist()\n",
    "estados"
   ]
  },
  {
   "cell_type": "markdown",
   "metadata": {},
   "source": [
    "##### UF Nascimento"
   ]
  },
  {
   "cell_type": "code",
   "execution_count": null,
   "metadata": {},
   "outputs": [],
   "source": [
    "df = data['UF Nascimento'].value_counts(normalize=True).reset_index()\n",
    "\n",
    "df['proportion'] = df['proportion']*100\n",
    "\n",
    "df = df[df['UF Nascimento'].isin(estados)]\n",
    "\n",
    "create_bar_chart(df, 'UF Nascimento', 'proportion', \n",
    "                 'Candidatos por Origem (UF): Valor de Bens > Valor Máximo Despesa (em %)', \n",
    "                 'Estado de Nascimento', 'Quantidade de Candidatos')\n",
    "\n",
    "\n",
    "df_geral = dados_agg[dados_agg['UF Nascimento'].isin(estados)]['UF Nascimento'].value_counts(normalize=True).reset_index()\n",
    "\n",
    "df_geral['proportion'] = df_geral['proportion']*100\n",
    "\n",
    "create_bar_chart(df_geral, 'UF Nascimento', 'proportion', \n",
    "                 'Candidatos por Origem (UF): Todos os Candidatos (em %)', \n",
    "                 'Estado de Nascimento', 'Quantidade de Candidatos')\n",
    "\n",
    "\n"
   ]
  },
  {
   "cell_type": "code",
   "execution_count": null,
   "metadata": {},
   "outputs": [],
   "source": [
    "df = data[['Valor Bens','UF Nascimento']]\n",
    "\n",
    "df = df[df['UF Nascimento'].isin(estados)]\n",
    "\n",
    "#df = df.groupby('UF Nascimento')['Valor Bens'].sum().reset_index()\n",
    "\n",
    "df = df.sort_values('Valor Bens',ascending=False)\n",
    "\n",
    "df.head()\n",
    "\n",
    "create_bar_chart(df.groupby('UF Nascimento')['Valor Bens'].sum().reset_index().reset_index().sort_values('Valor Bens',ascending=False), 'UF Nascimento', 'Valor Bens', \n",
    "                'Candidatos: Valor de Bens > Valor Máximo Despesa (em R$)', \n",
    "                'Estado de Nascimento', 'Quantidade de Candidatos')\n"
   ]
  },
  {
   "cell_type": "code",
   "execution_count": null,
   "metadata": {},
   "outputs": [],
   "source": [
    "\n",
    "df_geral = dados_agg[['Valor Bens','UF Nascimento']]\n",
    "\n",
    "df_geral = df_geral[df_geral['UF Nascimento'].isin(estados)]\n",
    "\n",
    "#df = df.groupby('UF Nascimento')['Valor Bens'].sum().reset_index()\n",
    "\n",
    "df_geral = df_geral.sort_values('Valor Bens',ascending=False)\n",
    "\n",
    "create_bar_chart(df_geral.groupby('UF Nascimento')['Valor Bens'].sum().reset_index().reset_index().sort_values('Valor Bens',ascending=False), 'UF Nascimento', 'Valor Bens', \n",
    "                 'Candidatos por Origem (UF): Todos os Candidatos (em R$)', \n",
    "                 'Estado de Nascimento', 'Quantidade de Candidatos')\n"
   ]
  },
  {
   "cell_type": "code",
   "execution_count": null,
   "metadata": {},
   "outputs": [],
   "source": [
    "for estado in estados:\n",
    "    create_boxplot_plotly(df[df['UF Nascimento']==estado], 'UF Nascimento', 'Valor Bens', \n",
    "                 'Candidatos: Valor de Bens > Valor Máximo Despesa', \n",
    "                 'Estado de Nascimento', 'Quantidade de Candidatos')\n",
    "    \n"
   ]
  },
  {
   "cell_type": "code",
   "execution_count": null,
   "metadata": {},
   "outputs": [],
   "source": [
    "df = data['UF Nascimento'].value_counts(normalize=True).reset_index()\n",
    "\n",
    "\n",
    "df = df[df['UF Nascimento'].isin(estados)]\n",
    "\n",
    "df['proportion'] = df['proportion']*100\n",
    "\n",
    "create_bar_chart(df, 'UF Nascimento', 'proportion', \n",
    "                 'Candidatos: Valor de Bens > Valor Máximo Despesa (em %)', \n",
    "                 'Estado de Nascimento', 'Quantidade de Candidatos')\n"
   ]
  },
  {
   "cell_type": "code",
   "execution_count": null,
   "metadata": {},
   "outputs": [],
   "source": [
    "df = dados_agg[dados_agg['Despesa de Campanha']<dados_agg['Valor Bens']]['Genêro'].value_counts(normalize=True).reset_index()\n",
    "\n",
    "df['proportion'] = df['proportion']*100\n",
    "\n",
    "create_bar_chart(df, 'Genêro', 'proportion', \n",
    "                 'Candidatos: Valor de Bens > Valor Máximo Despesa', \n",
    "                 'Estado de Nascimento', 'Quantidade de Candidatos')\n"
   ]
  },
  {
   "cell_type": "code",
   "execution_count": null,
   "metadata": {},
   "outputs": [],
   "source": [
    "df = dados_agg[['Valor Bens','Genêro']]\n",
    "\n",
    "create_boxplot_plotly(df, 'Genêro', 'Valor Bens', \n",
    "                 'Candidatos: Valor de Bens > Valor Máximo Despesa', \n",
    "                 'Estado de Nascimento', 'Quantidade de Candidatos')\n",
    "\n"
   ]
  },
  {
   "cell_type": "code",
   "execution_count": null,
   "metadata": {},
   "outputs": [],
   "source": [
    "df = dados_agg['Genêro'].value_counts(normalize=True).reset_index()\n",
    "\n",
    "df['proportion'] = df['proportion']*100\n",
    "\n",
    "create_bar_chart(df, 'Genêro', 'proportion', \n",
    "                 'Candidatos: Valor de Bens > Valor Máximo Despesa', \n",
    "                 'Estado de Nascimento', 'Quantidade de Candidatos')"
   ]
  },
  {
   "cell_type": "code",
   "execution_count": null,
   "metadata": {},
   "outputs": [],
   "source": [
    "df = dados_agg[dados_agg['Despesa de Campanha']<dados_agg['Valor Bens']]['Grau Instrução'].value_counts(normalize=True).reset_index()\n",
    "\n",
    "df['proportion'] = df['proportion']*100\n",
    "\n",
    "create_bar_chart(df, 'Grau Instrução', 'proportion', \n",
    "                 'Candidatos: Por Grau Instrução', \n",
    "                 'Estado de Nascimento', 'Quantidade de Candidatos')\n"
   ]
  },
  {
   "cell_type": "code",
   "execution_count": null,
   "metadata": {},
   "outputs": [],
   "source": [
    "df = dados_agg['Grau Instrução'].value_counts(normalize=True).reset_index()\n",
    "\n",
    "df['proportion'] = df['proportion']*100\n",
    "\n",
    "\n",
    "create_bar_chart(df, 'Grau Instrução', 'proportion', \n",
    "                 'Candidatos: Valor de Bens > Valor Máximo Despesa', \n",
    "                 'Estado de Nascimento', 'Quantidade de Candidatos')"
   ]
  },
  {
   "cell_type": "code",
   "execution_count": null,
   "metadata": {},
   "outputs": [],
   "source": [
    "df = dados_agg[['Sigla Partido']].value_counts(normalize=True).reset_index()\n",
    "\n",
    "df['proportion'] = df['proportion']*100\n",
    "\n",
    "df.head()\n",
    "\n",
    "create_bar_chart(df, 'Sigla Partido', 'proportion', \n",
    "                 'Candidatos: Valor de Bens > Valor Máximo Despesa', \n",
    "                 'Estado de Nascimento', 'Quantidade de Candidatos')\n"
   ]
  },
  {
   "cell_type": "code",
   "execution_count": null,
   "metadata": {},
   "outputs": [],
   "source": [
    "df = dados_agg['Sigla Partido'].value_counts(normalize=True).reset_index()\n",
    "\n",
    "df['proportion'] = df['proportion']*100\n",
    "\n",
    "\n",
    "create_bar_chart(df, 'Sigla Partido', 'proportion', \n",
    "                 'Candidatos: Por Partido', \n",
    "                 'Estado de Nascimento', 'Quantidade de Candidatos')"
   ]
  },
  {
   "cell_type": "code",
   "execution_count": null,
   "metadata": {},
   "outputs": [],
   "source": [
    "df = dados_agg[dados_agg['Despesa de Campanha']<dados_agg['Valor Bens']]['Estado Civil'].value_counts(normalize=True).reset_index()\n",
    "\n",
    "df['proportion'] = df['proportion']*100\n",
    "\n",
    "\n",
    "create_bar_chart(df, 'Estado Civil', 'proportion', \n",
    "                 'Candidatos: Valor de Bens > Valor Máximo Despesa', \n",
    "                 'Estado de Nascimento', 'Quantidade de Candidatos')"
   ]
  },
  {
   "cell_type": "code",
   "execution_count": null,
   "metadata": {},
   "outputs": [],
   "source": [
    "df = dados_agg['Estado Civil'].value_counts(normalize=True).reset_index()\n",
    "\n",
    "df['proportion'] = df['proportion']*100\n",
    "\n",
    "\n",
    "create_bar_chart(df, 'Estado Civil', 'proportion', \n",
    "                 'Candidatos: Valor de Bens > Valor Máximo Despesa', \n",
    "                 'Estado de Nascimento', 'Quantidade de Candidatos')"
   ]
  },
  {
   "cell_type": "code",
   "execution_count": null,
   "metadata": {},
   "outputs": [],
   "source": [
    "df = data['Cor / Raça'].value_counts(normalize=True).reset_index()\n",
    "\n",
    "df['proportion'] = df['proportion']*100\n",
    "\n",
    "\n",
    "create_bar_chart(df, 'Cor / Raça', 'proportion', \n",
    "                 'Candidatos: Valor de Bens > Valor Máximo Despesa', \n",
    "                 'Estado de Nascimento', 'Quantidade de Candidatos')"
   ]
  },
  {
   "cell_type": "code",
   "execution_count": null,
   "metadata": {},
   "outputs": [],
   "source": [
    "df = dados_agg['Cor / Raça'].value_counts(normalize=True).reset_index()\n",
    "\n",
    "df['proportion'] = df['proportion']*100\n",
    "\n",
    "\n",
    "create_bar_chart(df, 'Cor / Raça', 'proportion', \n",
    "                 'Candidatos: Valor de Bens > Valor Máximo Despesa', \n",
    "                 'Estado de Nascimento', 'Quantidade de Candidatos')"
   ]
  },
  {
   "cell_type": "code",
   "execution_count": null,
   "metadata": {},
   "outputs": [],
   "source": [
    "df = data['Ocupação'].value_counts(normalize=True).reset_index().head(10)\n",
    "\n",
    "df['proportion'] = df['proportion']*100\n",
    "\n",
    "\n",
    "create_bar_chart(df, 'Ocupação', 'proportion', \n",
    "                 'Candidatos: Valor de Bens > Valor Máximo Despesa', \n",
    "                 'Estado de Nascimento', 'Quantidade de Candidatos')"
   ]
  },
  {
   "cell_type": "code",
   "execution_count": null,
   "metadata": {},
   "outputs": [],
   "source": [
    "df = data['Ocupação'].value_counts(normalize=True).reset_index().head(10)\n",
    "\n",
    "df['proportion'] = df['proportion']*100\n",
    "\n",
    "\n",
    "create_bar_chart(df, 'Ocupação', 'proportion', \n",
    "                 'Candidatos: Valor de Bens > Valor Máximo Despesa', \n",
    "                 'Estado de Nascimento', 'Quantidade de Candidatos')"
   ]
  },
  {
   "cell_type": "code",
   "execution_count": null,
   "metadata": {},
   "outputs": [],
   "source": [
    "df = data['UF'].value_counts(normalize=True).reset_index()\n",
    "\n",
    "df['proportion'] = df['proportion']*100\n",
    "\n",
    "\n",
    "create_bar_chart(df, 'UF', 'proportion', \n",
    "                 'Candidatos: Valor de Bens > Valor Máximo Despesa', \n",
    "                 'Estado de Nascimento', 'Quantidade de Candidatos')\n"
   ]
  },
  {
   "cell_type": "code",
   "execution_count": null,
   "metadata": {},
   "outputs": [],
   "source": [
    "df = data['UF'].value_counts(normalize=True).reset_index()\n",
    "\n",
    "df['proportion'] = df['proportion']*100\n",
    "\n",
    "df = df[df['UF'].isin(estados)]\n",
    "\n",
    "create_bar_chart(df, 'UF', 'proportion', \n",
    "                 'Candidatos: Valor de Bens > Valor Máximo Despesa', \n",
    "                 'Estado de Nascimento', 'Quantidade de Candidatos')\n"
   ]
  },
  {
   "cell_type": "code",
   "execution_count": null,
   "metadata": {},
   "outputs": [],
   "source": [
    "df = data[data['Etnia Indigina'] != '#NULO#']\n",
    "\n",
    "df = df[df['Etnia Indigina'] != 'NÃO INFORMADO']\n",
    "\n",
    "df = df['Etnia Indigina'].value_counts(normalize=True).reset_index()\n",
    "\n",
    "df['proportion'] = df['proportion']*100\n",
    "\n",
    "create_bar_chart(df.head(15),\n",
    "                 'Etnia Indigina',\n",
    "                 'proportion',\n",
    "                 'Candidatos: Valor de Bens > Valor Máximo Despesa',\n",
    "                 \"Etnia Indígena\",\n",
    "                 \"Quantidade de Candidatos\")\n"
   ]
  },
  {
   "cell_type": "code",
   "execution_count": null,
   "metadata": {},
   "outputs": [],
   "source": [
    "df = dados_agg[dados_agg['Etnia Indigina'] != '#NULO#']\n",
    "\n",
    "df = df[df['Etnia Indigina'] != 'NÃO INFORMADO']\n",
    "\n",
    "df = df['Etnia Indigina'].value_counts(normalize=True).reset_index()\n",
    "\n",
    "df['proportion'] = df['proportion']*100\n",
    "\n",
    "\n",
    "create_bar_chart(df.head(10),\n",
    "                 'Etnia Indigina',\n",
    "                 'proportion',\n",
    "                 'Candidatos: Valor de Bens > Valor Máximo Despesa',\n",
    "                 \"Etnia Indígena\",\n",
    "                 \"Quantidade de Candidatos\")\n"
   ]
  }
 ],
 "metadata": {
  "kernelspec": {
   "display_name": ".venv",
   "language": "python",
   "name": "python3"
  },
  "language_info": {
   "codemirror_mode": {
    "name": "ipython",
    "version": 3
   },
   "file_extension": ".py",
   "mimetype": "text/x-python",
   "name": "python",
   "nbconvert_exporter": "python",
   "pygments_lexer": "ipython3",
   "version": "3.12.3"
  }
 },
 "nbformat": 4,
 "nbformat_minor": 2
}
