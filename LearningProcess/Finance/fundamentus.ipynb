{
 "cells": [
  {
   "cell_type": "code",
   "execution_count": null,
   "metadata": {},
   "outputs": [],
   "source": [
    "#!pip install requests -U\n",
    "#!pip install html5lib -U\n",
    "#!pip install bs4 -U"
   ]
  },
  {
   "cell_type": "code",
   "execution_count": null,
   "metadata": {},
   "outputs": [],
   "source": [
    "import pandas as pd\n",
    "import yfinance as yf\n",
    "import pandas as pd\n",
    "\n",
    "import numpy as np \n",
    "import math\n",
    "import matplotlib. pyplot as plt \n",
    "import seaborn as sns \n",
    "from scipy import stats\n"
   ]
  },
  {
   "cell_type": "code",
   "execution_count": null,
   "metadata": {},
   "outputs": [],
   "source": [
    "import os\n",
    "import glob\n",
    "\n",
    "def delete_files_in_directory(directory_path):\n",
    "   try:\n",
    "     files = glob.glob(os.path.join(directory_path, '*.csv'))\n",
    "     for file in files:\n",
    "       if os.path.isfile(file):\n",
    "         os.remove(file)\n",
    "     print(\"All files deleted successfully.\")\n",
    "   except OSError:\n",
    "     print(\"Error occurred while deleting files.\")\n",
    "\n",
    "# Usage\n",
    "directory_path = '/Users/marcellofelipelli/Documents/DataAnalyticsPortfolio/Finance/Data'\n",
    "delete_files_in_directory(directory_path)"
   ]
  },
  {
   "cell_type": "code",
   "execution_count": null,
   "metadata": {},
   "outputs": [],
   "source": [
    "tickers = ['WEGE3.SA','AURE3.SA','LEVE3.sa','CSMG3.SA'\n",
    "           ,'PETR4.SA','PETR3.SA','MTRE3.SA','BRAP4.SA','BRAP3.SA'\n",
    "           ,'GOAU4.SA','AGRO3.SA','SLCE3.SA'\n",
    "           ,'VALE3.SA','CPFE3.SA','SBSP3.SA'\n",
    "           ,'ITUB3.SA','ITUB4.SA','BMGB4.SA']"
   ]
  },
  {
   "cell_type": "code",
   "execution_count": null,
   "metadata": {},
   "outputs": [],
   "source": [
    "import requests \n",
    "from bs4 import BeautifulSoup\n",
    "from urllib.request import Request, urlopen\n",
    "\n",
    "for ticket in tickers:\n",
    "    URL = 'https://www.fundamentus.com.br/detalhes.php?papel={}'.format(ticket.split('.')[0]) \n",
    "    # r = requests.get(URL)\n",
    "    print(URL) \n",
    "\n",
    "    site= URL\n",
    "    hdr = {'User-Agent': 'Mozilla/5.0'}\n",
    "    req = Request(site,headers=hdr)\n",
    "    page = urlopen(req)\n",
    "    soup = BeautifulSoup(page, 'html.parser')\n",
    "\n",
    "    tables = soup.find_all('table')  \n",
    "    tbl_dados = []\n",
    "    tbl_label = []\n",
    "\n",
    "    data_dict = {}\n",
    "    #print(tables)\n",
    "    for table in tables:\n",
    "        rows = table.find_all('tr')\n",
    "        for row in rows:\n",
    "            label = row.find_all('td',{'class':'label'})\n",
    "            dado = row.find_all('td',{'class':'data'})\n",
    "\n",
    "            label_txt = ''\n",
    "            dado_txt = ''\n",
    "\n",
    "            for i in range(len(label)):\n",
    "                try:\n",
    "                    label_txt = label[i].find('span',{'class':'txt'}).text.replace('\\n', ' ').replace('\\r', '')\n",
    "                except:\n",
    "                    label_txt = ''\n",
    "\n",
    "                try:    \n",
    "                    dado_txt = dado[i].find('span',{'class':'txt'}).text.replace('\\n', ' ').replace('\\r', '')        \n",
    "                except:\n",
    "                    try:    \n",
    "                        dado_txt = dado[i].find('span',{'class':'oscil'}).text.replace('\\n', ' ').replace('\\r', '')        \n",
    "                    except:\n",
    "                        dado_txt = ''\n",
    "\n",
    "                data_dict.update({label_txt : dado_txt})\n",
    "\n",
    "    \n",
    "    df = pd.DataFrame(data_dict.items())    \n",
    "\n",
    "    df['Ticker'] = ticket\n",
    "\n",
    "    df.to_csv('Data/dados_ticket_{}.csv'.format(ticket.split('.')[0]), index=True)\n",
    "    try:\n",
    "        stock = yf.Ticker(ticket)\n",
    "        df = stock.history(period=\"5y\")\n",
    "        df.to_csv('Data/historico_dados_ticket_{}.csv'.format(ticket.split('.')[0]), index=True)\n",
    "        # df['Close'].plot(title=\"{}'s stock price\".format(ticket))\n",
    "        stock.recommendations.to_csv('Data/recomentations_dados_ticket_{}.csv'.format(ticket.split('.')[0]), index=True)\n",
    "        stock.actions.to_csv('Data/actions_dados_ticket_{}.csv'.format(ticket.split('.')[0]), index=True)\n",
    "        stock.dividends.to_csv('Data/dividendos_dados_ticket_{}.csv'.format(ticket.split('.')[0]), index=True)\n",
    "        pd.DataFrame(stock.info).to_csv('Data/info_dados_ticket_{}.csv'.format(ticket.split('.')[0]), index=True)\n",
    "        stock.cashflow.to_csv('Data/cashflow_dados_ticket_{}.csv'.format(ticket.split('.')[0]), index=True)\n",
    "        stock.financials.to_csv('Data/financial_dados_ticket_{}.csv'.format(ticket.split('.')[0]), index=True)\n",
    "        pd.DataFrame(stock.calendar).to_csv('Data/calendario_dados_ticket_{}.csv'.format(ticket.split('.')[0]), index=True)\n",
    "    except:\n",
    "        print(ticket)    \n",
    "\n",
    "\n"
   ]
  },
  {
   "cell_type": "code",
   "execution_count": null,
   "metadata": {},
   "outputs": [],
   "source": []
  },
  {
   "cell_type": "code",
   "execution_count": null,
   "metadata": {},
   "outputs": [],
   "source": []
  }
 ],
 "metadata": {
  "kernelspec": {
   "display_name": "Python 3",
   "language": "python",
   "name": "python3"
  },
  "language_info": {
   "codemirror_mode": {
    "name": "ipython",
    "version": 3
   },
   "file_extension": ".py",
   "mimetype": "text/x-python",
   "name": "python",
   "nbconvert_exporter": "python",
   "pygments_lexer": "ipython3",
   "version": "3.11.4"
  }
 },
 "nbformat": 4,
 "nbformat_minor": 2
}
