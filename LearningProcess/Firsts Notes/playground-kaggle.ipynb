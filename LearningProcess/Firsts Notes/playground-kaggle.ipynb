{
 "cells": [
  {
   "cell_type": "code",
   "execution_count": null,
   "metadata": {},
   "outputs": [],
   "source": [
    "import pandas as pd\n",
    "from sklearn.model_selection import train_test_split\n",
    "from sklearn.preprocessing import StandardScaler\n",
    "from sklearn.impute import SimpleImputer\n",
    "from sklearn.preprocessing import OneHotEncoder\n",
    "from sklearn.compose import ColumnTransformer\n",
    "from sklearn.pipeline import Pipeline\n",
    "from sklearn.linear_model import LogisticRegression\n",
    "from sklearn.metrics import accuracy_score, confusion_matrix, classification_report\n",
    "\n",
    "\n",
    "from sklearn.linear_model import LogisticRegression\n",
    "from sklearn.preprocessing import StandardScaler, PolynomialFeatures\n",
    "\n",
    "from sklearn.model_selection import GridSearchCV\n",
    "from imblearn.over_sampling import SMOTE\n",
    "\n",
    "import numpy as np\n",
    "import matplotlib.pyplot as plt\n",
    "import seaborn as sns"
   ]
  },
  {
   "cell_type": "code",
   "execution_count": null,
   "metadata": {},
   "outputs": [],
   "source": [
    "# Exibir todas as linhas\n",
    "pd.set_option('display.max_rows', None)\n",
    "\n",
    "# Exibir todas as colunas\n",
    "pd.set_option('display.max_columns', None)"
   ]
  },
  {
   "cell_type": "code",
   "execution_count": null,
   "metadata": {},
   "outputs": [],
   "source": [
    "X = pd.DataFrame(pd.read_csv('files/playground-series-s4e6/train.csv'))\n",
    "X.columns\n",
    "\n"
   ]
  },
  {
   "cell_type": "code",
   "execution_count": null,
   "metadata": {},
   "outputs": [],
   "source": [
    "X.head()"
   ]
  },
  {
   "cell_type": "code",
   "execution_count": null,
   "metadata": {},
   "outputs": [],
   "source": [
    "X['Target'].unique()"
   ]
  },
  {
   "cell_type": "code",
   "execution_count": null,
   "metadata": {},
   "outputs": [],
   "source": [
    "# Criar um dicionário de mapeamento\n",
    "target_map = {\n",
    "    'Graduate': 1,\n",
    "    'Dropout': 2,\n",
    "    'Enrolled': 3\n",
    "}\n",
    "\n",
    "X['Ind_Target'] = X['Target'].map(target_map)\n",
    "\n",
    "X.head()"
   ]
  },
  {
   "cell_type": "code",
   "execution_count": null,
   "metadata": {},
   "outputs": [],
   "source": [
    "y = X[['Ind_Target']]"
   ]
  },
  {
   "cell_type": "code",
   "execution_count": null,
   "metadata": {},
   "outputs": [],
   "source": [
    "y.head()"
   ]
  },
  {
   "cell_type": "code",
   "execution_count": null,
   "metadata": {},
   "outputs": [],
   "source": [
    "X.drop('Target',axis=1,inplace=True)\n",
    "X.head()\n"
   ]
  },
  {
   "cell_type": "markdown",
   "metadata": {},
   "source": [
    "numerical_features = ['Previous qualification (grade)',\"Admission grade\",\"Displaced\",\"Educational special needs\",\"Debtor\"\n",
    " ,\"Gender\",\"Tuition fees up to date\",\"Scholarship holder\",\"International\"\n",
    " ,\"Curricular units 1st sem (credited)\", \"Curricular units 1st sem (enrolled)\"\n",
    " ,\"Curricular units 1st sem (evaluations)\", \"Curricular units 1st sem (approved)\"\n",
    " ,\"Curricular units 1st sem (grade)\", \"Curricular units 1st sem (without evaluations)\"\n",
    " ,\"Curricular units 2nd sem (credited)\", \"Curricular units 2nd sem (enrolled)\"\n",
    " ,\"Curricular units 2nd sem (evaluations)\", \"Curricular units 2nd sem (approved)\"\n",
    " ,\"Curricular units 2nd sem (grade)\", \"Curricular units 2nd sem (without evaluations)\"\n",
    " ,\"Unemployment rate\", \"Inflation rate\",\"GDP\"]\n",
    "\n",
    "categorical_features = ['Marital status'\n",
    " ,'Application mode'\n",
    " ,'Application order'\n",
    " ,'Course'\n",
    " ,'Previous qualification'\n",
    " ,'Nacionality'\n",
    " ,\"Mother's qualification\"\n",
    " ,\"Father's qualification\"\n",
    " ,\"Mother's occupation\"\n",
    " ,\"Father's occupation\"\n",
    " ,\"Age at enrollment\"\n",
    " ]\n",
    "\n",
    "print(numerical_features)\n",
    "print(categorical_features)\n"
   ]
  },
  {
   "cell_type": "code",
   "execution_count": null,
   "metadata": {},
   "outputs": [],
   "source": [
    "\n",
    "# Normalização\n",
    "scaler = StandardScaler()\n",
    "X = scaler.fit_transform(X)\n",
    "\n",
    "# Amostragem\n",
    "smote = SMOTE()\n",
    "X, y = smote.fit_resample(X, y)\n",
    "\n",
    "# Adicionar características polinomiais\n",
    "poly = PolynomialFeatures(degree=2)\n",
    "X = poly.fit_transform(X)\n",
    "\n",
    "# Ajuste de hiperparâmetros\n",
    "param_grid = {\n",
    "    'C': [0.1, 1, 10, 100],\n",
    "    'penalty': ['l1', 'l2'],\n",
    "    'solver': ['liblinear']\n",
    "}\n"
   ]
  },
  {
   "cell_type": "code",
   "execution_count": null,
   "metadata": {},
   "outputs": [],
   "source": [
    "pd.DataFrame(X).head()"
   ]
  },
  {
   "cell_type": "code",
   "execution_count": null,
   "metadata": {},
   "outputs": [],
   "source": [
    "# Dividir os dados em conjuntos de treinamento e teste\n",
    "X_train, X_test, y_train, y_test = train_test_split(X, y, test_size=0.3, random_state=42)\n"
   ]
  },
  {
   "cell_type": "code",
   "execution_count": null,
   "metadata": {},
   "outputs": [],
   "source": [
    "\n",
    "grid = GridSearchCV(LogisticRegression(), param_grid, cv=5, scoring='accuracy')\n",
    "grid.fit(X_train, y_train)\n"
   ]
  },
  {
   "cell_type": "code",
   "execution_count": null,
   "metadata": {},
   "outputs": [],
   "source": [
    "grid.best_estimator_"
   ]
  },
  {
   "cell_type": "code",
   "execution_count": null,
   "metadata": {},
   "outputs": [],
   "source": [
    "# Treinar o modelo com os melhores parâmetros\n",
    "model = grid.best_estimator_\n",
    "model.fit(X_train, y_train)\n",
    "\n",
    "\n",
    "# Avaliação\n",
    "y_pred = model.predict(X_test)\n",
    "print(confusion_matrix(y_test, y_pred))\n",
    "print(classification_report(y_test, y_pred))\n",
    "\n",
    "print(f\"Melhor acurácia: {grid.best_score_}\")\n"
   ]
  },
  {
   "cell_type": "code",
   "execution_count": null,
   "metadata": {},
   "outputs": [],
   "source": [
    "import joblib\n",
    "\n",
    "joblib.dump(model, 'model_logistic.joblib')"
   ]
  },
  {
   "cell_type": "code",
   "execution_count": null,
   "metadata": {},
   "outputs": [],
   "source": [
    "# Carregar o modelo salvo\n",
    "model = joblib.load('model_logistic.joblib')\n",
    "\n",
    "# Exemplo de novos dados para previsão\n",
    "df_test = pd.read_csv('files/playground-series-s4e6/test.csv')\n",
    "\n",
    "df_test.head()"
   ]
  },
  {
   "cell_type": "code",
   "execution_count": null,
   "metadata": {},
   "outputs": [],
   "source": [
    "\n",
    "# Fazer previsões com o modelo carregado\n",
    "predict = model.predict(df_test)\n",
    "\n",
    "predict"
   ]
  },
  {
   "cell_type": "code",
   "execution_count": null,
   "metadata": {},
   "outputs": [],
   "source": []
  }
 ],
 "metadata": {
  "kernelspec": {
   "display_name": "Python 3",
   "language": "python",
   "name": "python3"
  },
  "language_info": {
   "codemirror_mode": {
    "name": "ipython",
    "version": 3
   },
   "file_extension": ".py",
   "mimetype": "text/x-python",
   "name": "python",
   "nbconvert_exporter": "python",
   "pygments_lexer": "ipython3",
   "version": "3.11.4"
  }
 },
 "nbformat": 4,
 "nbformat_minor": 2
}
