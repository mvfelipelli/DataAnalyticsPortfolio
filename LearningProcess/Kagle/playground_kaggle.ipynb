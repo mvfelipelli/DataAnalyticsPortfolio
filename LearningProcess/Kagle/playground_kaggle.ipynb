{
  "cells": [
    {
      "cell_type": "code",
      "execution_count": 23,
      "metadata": {
        "id": "F1fQbD56H3Zn"
      },
      "outputs": [],
      "source": [
        "import pandas as pd\n",
        "from sklearn.model_selection import train_test_split\n",
        "from sklearn.preprocessing import StandardScaler\n",
        "from sklearn.impute import SimpleImputer\n",
        "from sklearn.preprocessing import OneHotEncoder\n",
        "from sklearn.compose import ColumnTransformer\n",
        "from sklearn.pipeline import Pipeline\n",
        "from sklearn.linear_model import LogisticRegression\n",
        "from sklearn.metrics import accuracy_score, confusion_matrix, classification_report\n",
        "from imblearn.over_sampling import SMOTE\n",
        "\n",
        "from sklearn.linear_model import LogisticRegression\n",
        "from sklearn.preprocessing import StandardScaler, PolynomialFeatures\n",
        "\n",
        "from sklearn.model_selection import GridSearchCV\n",
        "from imblearn.over_sampling import SMOTE\n",
        "\n",
        "import numpy as np\n",
        "import matplotlib.pyplot as plt\n",
        "import seaborn as sns"
      ]
    },
    {
      "cell_type": "code",
      "execution_count": 24,
      "metadata": {},
      "outputs": [],
      "source": [
        "#!pip install imblearn"
      ]
    },
    {
      "cell_type": "code",
      "execution_count": 25,
      "metadata": {
        "id": "xiy0uhlYH3Zo"
      },
      "outputs": [],
      "source": [
        "pd.set_option('display.max_rows', None)\n",
        "pd.set_option('display.float_format', lambda x: '%.5f' % x)\n",
        "pd.set_option('display.max_columns', None)"
      ]
    },
    {
      "cell_type": "code",
      "execution_count": 26,
      "metadata": {
        "colab": {
          "base_uri": "https://localhost:8080/",
          "height": 278
        },
        "id": "zvQA4mGiH3Zo",
        "outputId": "3674d7eb-2cda-4d06-e4da-a1b2946b6f2a"
      },
      "outputs": [
        {
          "data": {
            "text/html": [
              "<div>\n",
              "<style scoped>\n",
              "    .dataframe tbody tr th:only-of-type {\n",
              "        vertical-align: middle;\n",
              "    }\n",
              "\n",
              "    .dataframe tbody tr th {\n",
              "        vertical-align: top;\n",
              "    }\n",
              "\n",
              "    .dataframe thead th {\n",
              "        text-align: right;\n",
              "    }\n",
              "</style>\n",
              "<table border=\"1\" class=\"dataframe\">\n",
              "  <thead>\n",
              "    <tr style=\"text-align: right;\">\n",
              "      <th></th>\n",
              "      <th>id</th>\n",
              "      <th>Marital status</th>\n",
              "      <th>Application mode</th>\n",
              "      <th>Application order</th>\n",
              "      <th>Course</th>\n",
              "      <th>Daytime/evening attendance</th>\n",
              "      <th>Previous qualification</th>\n",
              "      <th>Previous qualification (grade)</th>\n",
              "      <th>Nacionality</th>\n",
              "      <th>Mother's qualification</th>\n",
              "      <th>Father's qualification</th>\n",
              "      <th>Mother's occupation</th>\n",
              "      <th>Father's occupation</th>\n",
              "      <th>Admission grade</th>\n",
              "      <th>Displaced</th>\n",
              "      <th>Educational special needs</th>\n",
              "      <th>Debtor</th>\n",
              "      <th>Tuition fees up to date</th>\n",
              "      <th>Gender</th>\n",
              "      <th>Scholarship holder</th>\n",
              "      <th>Age at enrollment</th>\n",
              "      <th>International</th>\n",
              "      <th>Curricular units 1st sem (credited)</th>\n",
              "      <th>Curricular units 1st sem (enrolled)</th>\n",
              "      <th>Curricular units 1st sem (evaluations)</th>\n",
              "      <th>Curricular units 1st sem (approved)</th>\n",
              "      <th>Curricular units 1st sem (grade)</th>\n",
              "      <th>Curricular units 1st sem (without evaluations)</th>\n",
              "      <th>Curricular units 2nd sem (credited)</th>\n",
              "      <th>Curricular units 2nd sem (enrolled)</th>\n",
              "      <th>Curricular units 2nd sem (evaluations)</th>\n",
              "      <th>Curricular units 2nd sem (approved)</th>\n",
              "      <th>Curricular units 2nd sem (grade)</th>\n",
              "      <th>Curricular units 2nd sem (without evaluations)</th>\n",
              "      <th>Unemployment rate</th>\n",
              "      <th>Inflation rate</th>\n",
              "      <th>GDP</th>\n",
              "      <th>Target</th>\n",
              "    </tr>\n",
              "  </thead>\n",
              "  <tbody>\n",
              "    <tr>\n",
              "      <th>0</th>\n",
              "      <td>0</td>\n",
              "      <td>1</td>\n",
              "      <td>1</td>\n",
              "      <td>1</td>\n",
              "      <td>9238</td>\n",
              "      <td>1</td>\n",
              "      <td>1</td>\n",
              "      <td>126.00000</td>\n",
              "      <td>1</td>\n",
              "      <td>1</td>\n",
              "      <td>19</td>\n",
              "      <td>5</td>\n",
              "      <td>5</td>\n",
              "      <td>122.60000</td>\n",
              "      <td>0</td>\n",
              "      <td>0</td>\n",
              "      <td>0</td>\n",
              "      <td>1</td>\n",
              "      <td>0</td>\n",
              "      <td>1</td>\n",
              "      <td>18</td>\n",
              "      <td>0</td>\n",
              "      <td>0</td>\n",
              "      <td>6</td>\n",
              "      <td>6</td>\n",
              "      <td>6</td>\n",
              "      <td>14.50000</td>\n",
              "      <td>0</td>\n",
              "      <td>0</td>\n",
              "      <td>6</td>\n",
              "      <td>7</td>\n",
              "      <td>6</td>\n",
              "      <td>12.42857</td>\n",
              "      <td>0</td>\n",
              "      <td>11.10000</td>\n",
              "      <td>0.60000</td>\n",
              "      <td>2.02000</td>\n",
              "      <td>Graduate</td>\n",
              "    </tr>\n",
              "    <tr>\n",
              "      <th>1</th>\n",
              "      <td>1</td>\n",
              "      <td>1</td>\n",
              "      <td>17</td>\n",
              "      <td>1</td>\n",
              "      <td>9238</td>\n",
              "      <td>1</td>\n",
              "      <td>1</td>\n",
              "      <td>125.00000</td>\n",
              "      <td>1</td>\n",
              "      <td>19</td>\n",
              "      <td>19</td>\n",
              "      <td>9</td>\n",
              "      <td>9</td>\n",
              "      <td>119.80000</td>\n",
              "      <td>1</td>\n",
              "      <td>0</td>\n",
              "      <td>0</td>\n",
              "      <td>1</td>\n",
              "      <td>0</td>\n",
              "      <td>0</td>\n",
              "      <td>18</td>\n",
              "      <td>0</td>\n",
              "      <td>0</td>\n",
              "      <td>6</td>\n",
              "      <td>8</td>\n",
              "      <td>4</td>\n",
              "      <td>11.60000</td>\n",
              "      <td>0</td>\n",
              "      <td>0</td>\n",
              "      <td>6</td>\n",
              "      <td>9</td>\n",
              "      <td>0</td>\n",
              "      <td>0.00000</td>\n",
              "      <td>0</td>\n",
              "      <td>11.10000</td>\n",
              "      <td>0.60000</td>\n",
              "      <td>2.02000</td>\n",
              "      <td>Dropout</td>\n",
              "    </tr>\n",
              "    <tr>\n",
              "      <th>2</th>\n",
              "      <td>2</td>\n",
              "      <td>1</td>\n",
              "      <td>17</td>\n",
              "      <td>2</td>\n",
              "      <td>9254</td>\n",
              "      <td>1</td>\n",
              "      <td>1</td>\n",
              "      <td>137.00000</td>\n",
              "      <td>1</td>\n",
              "      <td>3</td>\n",
              "      <td>19</td>\n",
              "      <td>2</td>\n",
              "      <td>3</td>\n",
              "      <td>144.70000</td>\n",
              "      <td>0</td>\n",
              "      <td>0</td>\n",
              "      <td>0</td>\n",
              "      <td>1</td>\n",
              "      <td>1</td>\n",
              "      <td>0</td>\n",
              "      <td>18</td>\n",
              "      <td>0</td>\n",
              "      <td>0</td>\n",
              "      <td>6</td>\n",
              "      <td>0</td>\n",
              "      <td>0</td>\n",
              "      <td>0.00000</td>\n",
              "      <td>0</td>\n",
              "      <td>0</td>\n",
              "      <td>6</td>\n",
              "      <td>0</td>\n",
              "      <td>0</td>\n",
              "      <td>0.00000</td>\n",
              "      <td>0</td>\n",
              "      <td>16.20000</td>\n",
              "      <td>0.30000</td>\n",
              "      <td>-0.92000</td>\n",
              "      <td>Dropout</td>\n",
              "    </tr>\n",
              "    <tr>\n",
              "      <th>3</th>\n",
              "      <td>3</td>\n",
              "      <td>1</td>\n",
              "      <td>1</td>\n",
              "      <td>3</td>\n",
              "      <td>9500</td>\n",
              "      <td>1</td>\n",
              "      <td>1</td>\n",
              "      <td>131.00000</td>\n",
              "      <td>1</td>\n",
              "      <td>19</td>\n",
              "      <td>3</td>\n",
              "      <td>3</td>\n",
              "      <td>2</td>\n",
              "      <td>126.10000</td>\n",
              "      <td>1</td>\n",
              "      <td>0</td>\n",
              "      <td>0</td>\n",
              "      <td>1</td>\n",
              "      <td>0</td>\n",
              "      <td>1</td>\n",
              "      <td>18</td>\n",
              "      <td>0</td>\n",
              "      <td>0</td>\n",
              "      <td>7</td>\n",
              "      <td>9</td>\n",
              "      <td>7</td>\n",
              "      <td>12.59125</td>\n",
              "      <td>0</td>\n",
              "      <td>0</td>\n",
              "      <td>8</td>\n",
              "      <td>11</td>\n",
              "      <td>7</td>\n",
              "      <td>12.82000</td>\n",
              "      <td>0</td>\n",
              "      <td>11.10000</td>\n",
              "      <td>0.60000</td>\n",
              "      <td>2.02000</td>\n",
              "      <td>Enrolled</td>\n",
              "    </tr>\n",
              "    <tr>\n",
              "      <th>4</th>\n",
              "      <td>4</td>\n",
              "      <td>1</td>\n",
              "      <td>1</td>\n",
              "      <td>2</td>\n",
              "      <td>9500</td>\n",
              "      <td>1</td>\n",
              "      <td>1</td>\n",
              "      <td>132.00000</td>\n",
              "      <td>1</td>\n",
              "      <td>19</td>\n",
              "      <td>37</td>\n",
              "      <td>4</td>\n",
              "      <td>9</td>\n",
              "      <td>120.10000</td>\n",
              "      <td>1</td>\n",
              "      <td>0</td>\n",
              "      <td>0</td>\n",
              "      <td>1</td>\n",
              "      <td>0</td>\n",
              "      <td>0</td>\n",
              "      <td>18</td>\n",
              "      <td>0</td>\n",
              "      <td>0</td>\n",
              "      <td>7</td>\n",
              "      <td>12</td>\n",
              "      <td>6</td>\n",
              "      <td>12.93333</td>\n",
              "      <td>0</td>\n",
              "      <td>0</td>\n",
              "      <td>7</td>\n",
              "      <td>12</td>\n",
              "      <td>6</td>\n",
              "      <td>12.93333</td>\n",
              "      <td>0</td>\n",
              "      <td>7.60000</td>\n",
              "      <td>2.60000</td>\n",
              "      <td>0.32000</td>\n",
              "      <td>Graduate</td>\n",
              "    </tr>\n",
              "  </tbody>\n",
              "</table>\n",
              "</div>"
            ],
            "text/plain": [
              "   id  Marital status  Application mode  Application order  Course  \\\n",
              "0   0               1                 1                  1    9238   \n",
              "1   1               1                17                  1    9238   \n",
              "2   2               1                17                  2    9254   \n",
              "3   3               1                 1                  3    9500   \n",
              "4   4               1                 1                  2    9500   \n",
              "\n",
              "   Daytime/evening attendance  Previous qualification  \\\n",
              "0                           1                       1   \n",
              "1                           1                       1   \n",
              "2                           1                       1   \n",
              "3                           1                       1   \n",
              "4                           1                       1   \n",
              "\n",
              "   Previous qualification (grade)  Nacionality  Mother's qualification  \\\n",
              "0                       126.00000            1                       1   \n",
              "1                       125.00000            1                      19   \n",
              "2                       137.00000            1                       3   \n",
              "3                       131.00000            1                      19   \n",
              "4                       132.00000            1                      19   \n",
              "\n",
              "   Father's qualification  Mother's occupation  Father's occupation  \\\n",
              "0                      19                    5                    5   \n",
              "1                      19                    9                    9   \n",
              "2                      19                    2                    3   \n",
              "3                       3                    3                    2   \n",
              "4                      37                    4                    9   \n",
              "\n",
              "   Admission grade  Displaced  Educational special needs  Debtor  \\\n",
              "0        122.60000          0                          0       0   \n",
              "1        119.80000          1                          0       0   \n",
              "2        144.70000          0                          0       0   \n",
              "3        126.10000          1                          0       0   \n",
              "4        120.10000          1                          0       0   \n",
              "\n",
              "   Tuition fees up to date  Gender  Scholarship holder  Age at enrollment  \\\n",
              "0                        1       0                   1                 18   \n",
              "1                        1       0                   0                 18   \n",
              "2                        1       1                   0                 18   \n",
              "3                        1       0                   1                 18   \n",
              "4                        1       0                   0                 18   \n",
              "\n",
              "   International  Curricular units 1st sem (credited)  \\\n",
              "0              0                                    0   \n",
              "1              0                                    0   \n",
              "2              0                                    0   \n",
              "3              0                                    0   \n",
              "4              0                                    0   \n",
              "\n",
              "   Curricular units 1st sem (enrolled)  \\\n",
              "0                                    6   \n",
              "1                                    6   \n",
              "2                                    6   \n",
              "3                                    7   \n",
              "4                                    7   \n",
              "\n",
              "   Curricular units 1st sem (evaluations)  \\\n",
              "0                                       6   \n",
              "1                                       8   \n",
              "2                                       0   \n",
              "3                                       9   \n",
              "4                                      12   \n",
              "\n",
              "   Curricular units 1st sem (approved)  Curricular units 1st sem (grade)  \\\n",
              "0                                    6                          14.50000   \n",
              "1                                    4                          11.60000   \n",
              "2                                    0                           0.00000   \n",
              "3                                    7                          12.59125   \n",
              "4                                    6                          12.93333   \n",
              "\n",
              "   Curricular units 1st sem (without evaluations)  \\\n",
              "0                                               0   \n",
              "1                                               0   \n",
              "2                                               0   \n",
              "3                                               0   \n",
              "4                                               0   \n",
              "\n",
              "   Curricular units 2nd sem (credited)  Curricular units 2nd sem (enrolled)  \\\n",
              "0                                    0                                    6   \n",
              "1                                    0                                    6   \n",
              "2                                    0                                    6   \n",
              "3                                    0                                    8   \n",
              "4                                    0                                    7   \n",
              "\n",
              "   Curricular units 2nd sem (evaluations)  \\\n",
              "0                                       7   \n",
              "1                                       9   \n",
              "2                                       0   \n",
              "3                                      11   \n",
              "4                                      12   \n",
              "\n",
              "   Curricular units 2nd sem (approved)  Curricular units 2nd sem (grade)  \\\n",
              "0                                    6                          12.42857   \n",
              "1                                    0                           0.00000   \n",
              "2                                    0                           0.00000   \n",
              "3                                    7                          12.82000   \n",
              "4                                    6                          12.93333   \n",
              "\n",
              "   Curricular units 2nd sem (without evaluations)  Unemployment rate  \\\n",
              "0                                               0           11.10000   \n",
              "1                                               0           11.10000   \n",
              "2                                               0           16.20000   \n",
              "3                                               0           11.10000   \n",
              "4                                               0            7.60000   \n",
              "\n",
              "   Inflation rate      GDP    Target  \n",
              "0         0.60000  2.02000  Graduate  \n",
              "1         0.60000  2.02000   Dropout  \n",
              "2         0.30000 -0.92000   Dropout  \n",
              "3         0.60000  2.02000  Enrolled  \n",
              "4         2.60000  0.32000  Graduate  "
            ]
          },
          "execution_count": 26,
          "metadata": {},
          "output_type": "execute_result"
        }
      ],
      "source": [
        "df = pd.read_csv('../files/playground-series-s4e6/train.csv')\n",
        "df.head()"
      ]
    },
    {
      "cell_type": "code",
      "execution_count": 27,
      "metadata": {
        "colab": {
          "base_uri": "https://localhost:8080/",
          "height": 226
        },
        "id": "HYH53HcanMbX",
        "outputId": "030e7106-6375-4a7a-d8fb-0fea027c27cf"
      },
      "outputs": [
        {
          "data": {
            "text/html": [
              "<div>\n",
              "<style scoped>\n",
              "    .dataframe tbody tr th:only-of-type {\n",
              "        vertical-align: middle;\n",
              "    }\n",
              "\n",
              "    .dataframe tbody tr th {\n",
              "        vertical-align: top;\n",
              "    }\n",
              "\n",
              "    .dataframe thead th {\n",
              "        text-align: right;\n",
              "    }\n",
              "</style>\n",
              "<table border=\"1\" class=\"dataframe\">\n",
              "  <thead>\n",
              "    <tr style=\"text-align: right;\">\n",
              "      <th></th>\n",
              "      <th>Marital_status</th>\n",
              "      <th>Application_mode</th>\n",
              "      <th>Application_order</th>\n",
              "      <th>Course</th>\n",
              "      <th>Daytime_evening_attendance</th>\n",
              "      <th>Previous_qualification</th>\n",
              "      <th>Previous_qualification_grade</th>\n",
              "      <th>Nacionality</th>\n",
              "      <th>Mother_s_qualification</th>\n",
              "      <th>Father_s_qualification</th>\n",
              "      <th>Mother_s_occupation</th>\n",
              "      <th>Father_s_occupation</th>\n",
              "      <th>Admission_grade</th>\n",
              "      <th>Displaced</th>\n",
              "      <th>Educational_special_needs</th>\n",
              "      <th>Debtor</th>\n",
              "      <th>Tuition_fees_up_to_date</th>\n",
              "      <th>Gender</th>\n",
              "      <th>Scholarship_holder</th>\n",
              "      <th>Age_at_enrollment</th>\n",
              "      <th>International</th>\n",
              "      <th>Curricular_units_1st_sem_credited</th>\n",
              "      <th>Curricular_units_1st_sem_enrolled</th>\n",
              "      <th>Curricular_units_1st_sem_evaluations</th>\n",
              "      <th>Curricular_units_1st_sem_approved</th>\n",
              "      <th>Curricular_units_1st_sem_grade</th>\n",
              "      <th>Curricular_units_1st_sem_without_evaluations</th>\n",
              "      <th>Curricular_units_2nd_sem_credited</th>\n",
              "      <th>Curricular_units_2nd_sem_enrolled</th>\n",
              "      <th>Curricular_units_2nd_sem_evaluations</th>\n",
              "      <th>Curricular_units_2nd_sem_approved</th>\n",
              "      <th>Curricular_units_2nd_sem_grade</th>\n",
              "      <th>Curricular_units_2nd_sem_without_evaluations</th>\n",
              "      <th>Unemployment_rate</th>\n",
              "      <th>Inflation_rate</th>\n",
              "      <th>GDP</th>\n",
              "      <th>Target</th>\n",
              "    </tr>\n",
              "  </thead>\n",
              "  <tbody>\n",
              "    <tr>\n",
              "      <th>0</th>\n",
              "      <td>1</td>\n",
              "      <td>1</td>\n",
              "      <td>1</td>\n",
              "      <td>9238</td>\n",
              "      <td>1</td>\n",
              "      <td>1</td>\n",
              "      <td>126.00000</td>\n",
              "      <td>1</td>\n",
              "      <td>1</td>\n",
              "      <td>19</td>\n",
              "      <td>5</td>\n",
              "      <td>5</td>\n",
              "      <td>122.60000</td>\n",
              "      <td>0</td>\n",
              "      <td>0</td>\n",
              "      <td>0</td>\n",
              "      <td>1</td>\n",
              "      <td>0</td>\n",
              "      <td>1</td>\n",
              "      <td>18</td>\n",
              "      <td>0</td>\n",
              "      <td>0</td>\n",
              "      <td>6</td>\n",
              "      <td>6</td>\n",
              "      <td>6</td>\n",
              "      <td>14.50000</td>\n",
              "      <td>0</td>\n",
              "      <td>0</td>\n",
              "      <td>6</td>\n",
              "      <td>7</td>\n",
              "      <td>6</td>\n",
              "      <td>12.42857</td>\n",
              "      <td>0</td>\n",
              "      <td>11.10000</td>\n",
              "      <td>0.60000</td>\n",
              "      <td>2.02000</td>\n",
              "      <td>Graduate</td>\n",
              "    </tr>\n",
              "    <tr>\n",
              "      <th>1</th>\n",
              "      <td>1</td>\n",
              "      <td>17</td>\n",
              "      <td>1</td>\n",
              "      <td>9238</td>\n",
              "      <td>1</td>\n",
              "      <td>1</td>\n",
              "      <td>125.00000</td>\n",
              "      <td>1</td>\n",
              "      <td>19</td>\n",
              "      <td>19</td>\n",
              "      <td>9</td>\n",
              "      <td>9</td>\n",
              "      <td>119.80000</td>\n",
              "      <td>1</td>\n",
              "      <td>0</td>\n",
              "      <td>0</td>\n",
              "      <td>1</td>\n",
              "      <td>0</td>\n",
              "      <td>0</td>\n",
              "      <td>18</td>\n",
              "      <td>0</td>\n",
              "      <td>0</td>\n",
              "      <td>6</td>\n",
              "      <td>8</td>\n",
              "      <td>4</td>\n",
              "      <td>11.60000</td>\n",
              "      <td>0</td>\n",
              "      <td>0</td>\n",
              "      <td>6</td>\n",
              "      <td>9</td>\n",
              "      <td>0</td>\n",
              "      <td>0.00000</td>\n",
              "      <td>0</td>\n",
              "      <td>11.10000</td>\n",
              "      <td>0.60000</td>\n",
              "      <td>2.02000</td>\n",
              "      <td>Dropout</td>\n",
              "    </tr>\n",
              "    <tr>\n",
              "      <th>2</th>\n",
              "      <td>1</td>\n",
              "      <td>17</td>\n",
              "      <td>2</td>\n",
              "      <td>9254</td>\n",
              "      <td>1</td>\n",
              "      <td>1</td>\n",
              "      <td>137.00000</td>\n",
              "      <td>1</td>\n",
              "      <td>3</td>\n",
              "      <td>19</td>\n",
              "      <td>2</td>\n",
              "      <td>3</td>\n",
              "      <td>144.70000</td>\n",
              "      <td>0</td>\n",
              "      <td>0</td>\n",
              "      <td>0</td>\n",
              "      <td>1</td>\n",
              "      <td>1</td>\n",
              "      <td>0</td>\n",
              "      <td>18</td>\n",
              "      <td>0</td>\n",
              "      <td>0</td>\n",
              "      <td>6</td>\n",
              "      <td>0</td>\n",
              "      <td>0</td>\n",
              "      <td>0.00000</td>\n",
              "      <td>0</td>\n",
              "      <td>0</td>\n",
              "      <td>6</td>\n",
              "      <td>0</td>\n",
              "      <td>0</td>\n",
              "      <td>0.00000</td>\n",
              "      <td>0</td>\n",
              "      <td>16.20000</td>\n",
              "      <td>0.30000</td>\n",
              "      <td>-0.92000</td>\n",
              "      <td>Dropout</td>\n",
              "    </tr>\n",
              "    <tr>\n",
              "      <th>3</th>\n",
              "      <td>1</td>\n",
              "      <td>1</td>\n",
              "      <td>3</td>\n",
              "      <td>9500</td>\n",
              "      <td>1</td>\n",
              "      <td>1</td>\n",
              "      <td>131.00000</td>\n",
              "      <td>1</td>\n",
              "      <td>19</td>\n",
              "      <td>3</td>\n",
              "      <td>3</td>\n",
              "      <td>2</td>\n",
              "      <td>126.10000</td>\n",
              "      <td>1</td>\n",
              "      <td>0</td>\n",
              "      <td>0</td>\n",
              "      <td>1</td>\n",
              "      <td>0</td>\n",
              "      <td>1</td>\n",
              "      <td>18</td>\n",
              "      <td>0</td>\n",
              "      <td>0</td>\n",
              "      <td>7</td>\n",
              "      <td>9</td>\n",
              "      <td>7</td>\n",
              "      <td>12.59125</td>\n",
              "      <td>0</td>\n",
              "      <td>0</td>\n",
              "      <td>8</td>\n",
              "      <td>11</td>\n",
              "      <td>7</td>\n",
              "      <td>12.82000</td>\n",
              "      <td>0</td>\n",
              "      <td>11.10000</td>\n",
              "      <td>0.60000</td>\n",
              "      <td>2.02000</td>\n",
              "      <td>Enrolled</td>\n",
              "    </tr>\n",
              "    <tr>\n",
              "      <th>4</th>\n",
              "      <td>1</td>\n",
              "      <td>1</td>\n",
              "      <td>2</td>\n",
              "      <td>9500</td>\n",
              "      <td>1</td>\n",
              "      <td>1</td>\n",
              "      <td>132.00000</td>\n",
              "      <td>1</td>\n",
              "      <td>19</td>\n",
              "      <td>37</td>\n",
              "      <td>4</td>\n",
              "      <td>9</td>\n",
              "      <td>120.10000</td>\n",
              "      <td>1</td>\n",
              "      <td>0</td>\n",
              "      <td>0</td>\n",
              "      <td>1</td>\n",
              "      <td>0</td>\n",
              "      <td>0</td>\n",
              "      <td>18</td>\n",
              "      <td>0</td>\n",
              "      <td>0</td>\n",
              "      <td>7</td>\n",
              "      <td>12</td>\n",
              "      <td>6</td>\n",
              "      <td>12.93333</td>\n",
              "      <td>0</td>\n",
              "      <td>0</td>\n",
              "      <td>7</td>\n",
              "      <td>12</td>\n",
              "      <td>6</td>\n",
              "      <td>12.93333</td>\n",
              "      <td>0</td>\n",
              "      <td>7.60000</td>\n",
              "      <td>2.60000</td>\n",
              "      <td>0.32000</td>\n",
              "      <td>Graduate</td>\n",
              "    </tr>\n",
              "  </tbody>\n",
              "</table>\n",
              "</div>"
            ],
            "text/plain": [
              "   Marital_status  Application_mode  Application_order  Course  \\\n",
              "0               1                 1                  1    9238   \n",
              "1               1                17                  1    9238   \n",
              "2               1                17                  2    9254   \n",
              "3               1                 1                  3    9500   \n",
              "4               1                 1                  2    9500   \n",
              "\n",
              "   Daytime_evening_attendance  Previous_qualification  \\\n",
              "0                           1                       1   \n",
              "1                           1                       1   \n",
              "2                           1                       1   \n",
              "3                           1                       1   \n",
              "4                           1                       1   \n",
              "\n",
              "   Previous_qualification_grade  Nacionality  Mother_s_qualification  \\\n",
              "0                     126.00000            1                       1   \n",
              "1                     125.00000            1                      19   \n",
              "2                     137.00000            1                       3   \n",
              "3                     131.00000            1                      19   \n",
              "4                     132.00000            1                      19   \n",
              "\n",
              "   Father_s_qualification  Mother_s_occupation  Father_s_occupation  \\\n",
              "0                      19                    5                    5   \n",
              "1                      19                    9                    9   \n",
              "2                      19                    2                    3   \n",
              "3                       3                    3                    2   \n",
              "4                      37                    4                    9   \n",
              "\n",
              "   Admission_grade  Displaced  Educational_special_needs  Debtor  \\\n",
              "0        122.60000          0                          0       0   \n",
              "1        119.80000          1                          0       0   \n",
              "2        144.70000          0                          0       0   \n",
              "3        126.10000          1                          0       0   \n",
              "4        120.10000          1                          0       0   \n",
              "\n",
              "   Tuition_fees_up_to_date  Gender  Scholarship_holder  Age_at_enrollment  \\\n",
              "0                        1       0                   1                 18   \n",
              "1                        1       0                   0                 18   \n",
              "2                        1       1                   0                 18   \n",
              "3                        1       0                   1                 18   \n",
              "4                        1       0                   0                 18   \n",
              "\n",
              "   International  Curricular_units_1st_sem_credited  \\\n",
              "0              0                                  0   \n",
              "1              0                                  0   \n",
              "2              0                                  0   \n",
              "3              0                                  0   \n",
              "4              0                                  0   \n",
              "\n",
              "   Curricular_units_1st_sem_enrolled  Curricular_units_1st_sem_evaluations  \\\n",
              "0                                  6                                     6   \n",
              "1                                  6                                     8   \n",
              "2                                  6                                     0   \n",
              "3                                  7                                     9   \n",
              "4                                  7                                    12   \n",
              "\n",
              "   Curricular_units_1st_sem_approved  Curricular_units_1st_sem_grade  \\\n",
              "0                                  6                        14.50000   \n",
              "1                                  4                        11.60000   \n",
              "2                                  0                         0.00000   \n",
              "3                                  7                        12.59125   \n",
              "4                                  6                        12.93333   \n",
              "\n",
              "   Curricular_units_1st_sem_without_evaluations  \\\n",
              "0                                             0   \n",
              "1                                             0   \n",
              "2                                             0   \n",
              "3                                             0   \n",
              "4                                             0   \n",
              "\n",
              "   Curricular_units_2nd_sem_credited  Curricular_units_2nd_sem_enrolled  \\\n",
              "0                                  0                                  6   \n",
              "1                                  0                                  6   \n",
              "2                                  0                                  6   \n",
              "3                                  0                                  8   \n",
              "4                                  0                                  7   \n",
              "\n",
              "   Curricular_units_2nd_sem_evaluations  Curricular_units_2nd_sem_approved  \\\n",
              "0                                     7                                  6   \n",
              "1                                     9                                  0   \n",
              "2                                     0                                  0   \n",
              "3                                    11                                  7   \n",
              "4                                    12                                  6   \n",
              "\n",
              "   Curricular_units_2nd_sem_grade  \\\n",
              "0                        12.42857   \n",
              "1                         0.00000   \n",
              "2                         0.00000   \n",
              "3                        12.82000   \n",
              "4                        12.93333   \n",
              "\n",
              "   Curricular_units_2nd_sem_without_evaluations  Unemployment_rate  \\\n",
              "0                                             0           11.10000   \n",
              "1                                             0           11.10000   \n",
              "2                                             0           16.20000   \n",
              "3                                             0           11.10000   \n",
              "4                                             0            7.60000   \n",
              "\n",
              "   Inflation_rate      GDP    Target  \n",
              "0         0.60000  2.02000  Graduate  \n",
              "1         0.60000  2.02000   Dropout  \n",
              "2         0.30000 -0.92000   Dropout  \n",
              "3         0.60000  2.02000  Enrolled  \n",
              "4         2.60000  0.32000  Graduate  "
            ]
          },
          "execution_count": 27,
          "metadata": {},
          "output_type": "execute_result"
        }
      ],
      "source": [
        "df.drop('id',axis=1, inplace=True)\n",
        "\n",
        "df.columns = df.columns.str.replace(' ', '_')\n",
        "df.columns = df.columns.str.replace('(', '')\n",
        "df.columns = df.columns.str.replace(')', '')\n",
        "\n",
        "df.columns = df.columns.str.replace('/', '_')\n",
        "df.columns = df.columns.str.replace('-', '_')\n",
        "df.columns = df.columns.str.replace(\"'\", '_')\n",
        "\n",
        "df.head()"
      ]
    },
    {
      "cell_type": "code",
      "execution_count": 28,
      "metadata": {
        "colab": {
          "base_uri": "https://localhost:8080/"
        },
        "id": "OFUVvWJOVvd0",
        "outputId": "89a00c19-e48a-4653-9cf2-6dfe43858b7a"
      },
      "outputs": [
        {
          "name": "stdout",
          "output_type": "stream",
          "text": [
            "<class 'pandas.core.frame.DataFrame'>\n",
            "RangeIndex: 76518 entries, 0 to 76517\n",
            "Data columns (total 37 columns):\n",
            " #   Column                                        Non-Null Count  Dtype  \n",
            "---  ------                                        --------------  -----  \n",
            " 0   Marital_status                                76518 non-null  int64  \n",
            " 1   Application_mode                              76518 non-null  int64  \n",
            " 2   Application_order                             76518 non-null  int64  \n",
            " 3   Course                                        76518 non-null  int64  \n",
            " 4   Daytime_evening_attendance                    76518 non-null  int64  \n",
            " 5   Previous_qualification                        76518 non-null  int64  \n",
            " 6   Previous_qualification_grade                  76518 non-null  float64\n",
            " 7   Nacionality                                   76518 non-null  int64  \n",
            " 8   Mother_s_qualification                        76518 non-null  int64  \n",
            " 9   Father_s_qualification                        76518 non-null  int64  \n",
            " 10  Mother_s_occupation                           76518 non-null  int64  \n",
            " 11  Father_s_occupation                           76518 non-null  int64  \n",
            " 12  Admission_grade                               76518 non-null  float64\n",
            " 13  Displaced                                     76518 non-null  int64  \n",
            " 14  Educational_special_needs                     76518 non-null  int64  \n",
            " 15  Debtor                                        76518 non-null  int64  \n",
            " 16  Tuition_fees_up_to_date                       76518 non-null  int64  \n",
            " 17  Gender                                        76518 non-null  int64  \n",
            " 18  Scholarship_holder                            76518 non-null  int64  \n",
            " 19  Age_at_enrollment                             76518 non-null  int64  \n",
            " 20  International                                 76518 non-null  int64  \n",
            " 21  Curricular_units_1st_sem_credited             76518 non-null  int64  \n",
            " 22  Curricular_units_1st_sem_enrolled             76518 non-null  int64  \n",
            " 23  Curricular_units_1st_sem_evaluations          76518 non-null  int64  \n",
            " 24  Curricular_units_1st_sem_approved             76518 non-null  int64  \n",
            " 25  Curricular_units_1st_sem_grade                76518 non-null  float64\n",
            " 26  Curricular_units_1st_sem_without_evaluations  76518 non-null  int64  \n",
            " 27  Curricular_units_2nd_sem_credited             76518 non-null  int64  \n",
            " 28  Curricular_units_2nd_sem_enrolled             76518 non-null  int64  \n",
            " 29  Curricular_units_2nd_sem_evaluations          76518 non-null  int64  \n",
            " 30  Curricular_units_2nd_sem_approved             76518 non-null  int64  \n",
            " 31  Curricular_units_2nd_sem_grade                76518 non-null  float64\n",
            " 32  Curricular_units_2nd_sem_without_evaluations  76518 non-null  int64  \n",
            " 33  Unemployment_rate                             76518 non-null  float64\n",
            " 34  Inflation_rate                                76518 non-null  float64\n",
            " 35  GDP                                           76518 non-null  float64\n",
            " 36  Target                                        76518 non-null  object \n",
            "dtypes: float64(7), int64(29), object(1)\n",
            "memory usage: 21.6+ MB\n"
          ]
        }
      ],
      "source": [
        "df.info(verbose=True)"
      ]
    },
    {
      "cell_type": "code",
      "execution_count": 29,
      "metadata": {
        "colab": {
          "base_uri": "https://localhost:8080/"
        },
        "id": "MlHNK6iOYeVw",
        "outputId": "65fb7e9d-8c5f-40f0-a311-e6f8395c6eab"
      },
      "outputs": [
        {
          "data": {
            "text/plain": [
              "Index(['Marital_status', 'Application_mode', 'Application_order', 'Course',\n",
              "       'Daytime_evening_attendance', 'Previous_qualification',\n",
              "       'Previous_qualification_grade', 'Nacionality', 'Mother_s_qualification',\n",
              "       'Father_s_qualification', 'Mother_s_occupation', 'Father_s_occupation',\n",
              "       'Admission_grade', 'Displaced', 'Educational_special_needs', 'Debtor',\n",
              "       'Tuition_fees_up_to_date', 'Gender', 'Scholarship_holder',\n",
              "       'Age_at_enrollment', 'International',\n",
              "       'Curricular_units_1st_sem_credited',\n",
              "       'Curricular_units_1st_sem_enrolled',\n",
              "       'Curricular_units_1st_sem_evaluations',\n",
              "       'Curricular_units_1st_sem_approved', 'Curricular_units_1st_sem_grade',\n",
              "       'Curricular_units_1st_sem_without_evaluations',\n",
              "       'Curricular_units_2nd_sem_credited',\n",
              "       'Curricular_units_2nd_sem_enrolled',\n",
              "       'Curricular_units_2nd_sem_evaluations',\n",
              "       'Curricular_units_2nd_sem_approved', 'Curricular_units_2nd_sem_grade',\n",
              "       'Curricular_units_2nd_sem_without_evaluations', 'Unemployment_rate',\n",
              "       'Inflation_rate', 'GDP', 'Target'],\n",
              "      dtype='object')"
            ]
          },
          "execution_count": 29,
          "metadata": {},
          "output_type": "execute_result"
        }
      ],
      "source": [
        "df.columns"
      ]
    },
    {
      "cell_type": "code",
      "execution_count": 30,
      "metadata": {
        "colab": {
          "base_uri": "https://localhost:8080/",
          "height": 53
        },
        "id": "3sQCVrP3WI-T",
        "outputId": "3e4f4469-bb51-45aa-c88d-cb642a60ed6b"
      },
      "outputs": [
        {
          "data": {
            "text/plain": [
              "\"\\nfor col in df.columns:\\n  print(df[col].describe())\\n  print(df[col].value_counts())\\n  X = df[[col,'Target']]\\n  fig1 = px.box(X, x = col, color = 'Target')\\n  fig2 = px.histogram(df, x = col, text_auto = True, color = 'Target', barmode = 'group')\\n  fig1.show()\\n  fig2.show()\\n\""
            ]
          },
          "execution_count": 30,
          "metadata": {},
          "output_type": "execute_result"
        }
      ],
      "source": [
        "# prompt: Gerar codigo usando plottly para gerar um boxplot e um histograma das variaveis do dataframe df, destacando a coluna Target. Colocar em um loop para testar todas as variaveis\n",
        "'''\n",
        "for col in df.columns:\n",
        "  print(df[col].describe())\n",
        "  print(df[col].value_counts())\n",
        "  X = df[[col,'Target']]\n",
        "  fig1 = px.box(X, x = col, color = 'Target')\n",
        "  fig2 = px.histogram(df, x = col, text_auto = True, color = 'Target', barmode = 'group')\n",
        "  fig1.show()\n",
        "  fig2.show()\n",
        "'''"
      ]
    },
    {
      "cell_type": "code",
      "execution_count": 31,
      "metadata": {
        "id": "5BsXkZvTY6ut"
      },
      "outputs": [],
      "source": [
        "x = df.drop('Target', axis = 1)\n",
        "y = df['Target']"
      ]
    },
    {
      "cell_type": "code",
      "execution_count": 32,
      "metadata": {},
      "outputs": [],
      "source": [
        "from sklearn.compose import make_column_transformer\n",
        "\n",
        "\n",
        "one_hot = make_column_transformer((\n",
        "    OneHotEncoder(drop = 'if_binary'),\n",
        "    ['Marital_status', 'Application_mode', 'Application_order', 'Course',\n",
        "       'Daytime_evening_attendance', 'Previous_qualification',\n",
        "       'Previous_qualification_grade', 'Nacionality', 'Mother_s_qualification',\n",
        "       'Father_s_qualification', 'Mother_s_occupation', 'Father_s_occupation',\n",
        "       'Admission_grade', 'Displaced', 'Educational_special_needs', 'Debtor',\n",
        "       'Tuition_fees_up_to_date', 'Gender', 'Scholarship_holder',\n",
        "       'Age_at_enrollment', 'International',\n",
        "       'Curricular_units_1st_sem_credited',\n",
        "       'Curricular_units_1st_sem_enrolled',\n",
        "       'Curricular_units_1st_sem_evaluations',\n",
        "       'Curricular_units_1st_sem_approved', 'Curricular_units_1st_sem_grade',\n",
        "       'Curricular_units_1st_sem_without_evaluations',\n",
        "       'Curricular_units_2nd_sem_credited',\n",
        "       'Curricular_units_2nd_sem_enrolled',\n",
        "       'Curricular_units_2nd_sem_evaluations',\n",
        "       'Curricular_units_2nd_sem_approved', 'Curricular_units_2nd_sem_grade',\n",
        "       'Curricular_units_2nd_sem_without_evaluations', 'Unemployment_rate',\n",
        "       'Inflation_rate', 'GDP']\n",
        "),\n",
        "    remainder = 'passthrough',\n",
        "    sparse_threshold=0)"
      ]
    },
    {
      "cell_type": "code",
      "execution_count": 33,
      "metadata": {},
      "outputs": [],
      "source": [
        "x = one_hot.fit_transform(x)"
      ]
    },
    {
      "cell_type": "code",
      "execution_count": 34,
      "metadata": {},
      "outputs": [
        {
          "data": {
            "text/plain": [
              "array([2, 0, 0, ..., 1, 0, 2])"
            ]
          },
          "execution_count": 34,
          "metadata": {},
          "output_type": "execute_result"
        }
      ],
      "source": [
        "from sklearn.preprocessing import LabelEncoder\n",
        "\n",
        "label_encoder = LabelEncoder()\n",
        "y = label_encoder.fit_transform(y)\n",
        "y"
      ]
    },
    {
      "cell_type": "code",
      "execution_count": 35,
      "metadata": {},
      "outputs": [],
      "source": [
        "from sklearn.ensemble import RandomForestClassifier\n",
        "from imblearn.pipeline import Pipeline as imbpipeline"
      ]
    },
    {
      "cell_type": "code",
      "execution_count": 36,
      "metadata": {},
      "outputs": [
        {
          "data": {
            "text/plain": [
              "array([[1., 0., 0., ..., 0., 1., 0.],\n",
              "       [1., 0., 0., ..., 0., 1., 0.],\n",
              "       [1., 0., 0., ..., 0., 0., 0.],\n",
              "       ...,\n",
              "       [0., 0., 0., ..., 0., 0., 0.],\n",
              "       [1., 0., 0., ..., 0., 0., 0.],\n",
              "       [1., 0., 0., ..., 0., 0., 0.]])"
            ]
          },
          "execution_count": 36,
          "metadata": {},
          "output_type": "execute_result"
        }
      ],
      "source": [
        "x"
      ]
    },
    {
      "cell_type": "code",
      "execution_count": 37,
      "metadata": {},
      "outputs": [],
      "source": [
        "from imblearn.under_sampling import NearMiss\n",
        "\n",
        "modelo = RandomForestClassifier()\n",
        "pipeline = imbpipeline([('undersample', NearMiss(version=3)), ('modelo', modelo)])"
      ]
    },
    {
      "cell_type": "code",
      "execution_count": 38,
      "metadata": {},
      "outputs": [
        {
          "name": "stderr",
          "output_type": "stream",
          "text": [
            "/Users/marcellofelipelli/Documents/DataAnalyticsPortfolio/venv/lib/python3.9/site-packages/imblearn/under_sampling/_prototype_selection/_nearmiss.py:203: UserWarning: The number of the samples to be selected is larger than the number of samples available. The balancing ratio cannot be ensure and all samples will be returned.\n",
            "  warnings.warn(\n",
            "/Users/marcellofelipelli/Documents/DataAnalyticsPortfolio/venv/lib/python3.9/site-packages/sklearn/model_selection/_validation.py:982: UserWarning: Scoring failed. The score on this train-test partition for these parameters will be set to nan. Details: \n",
            "Traceback (most recent call last):\n",
            "  File \"/Users/marcellofelipelli/Documents/DataAnalyticsPortfolio/venv/lib/python3.9/site-packages/sklearn/model_selection/_validation.py\", line 971, in _score\n",
            "    scores = scorer(estimator, X_test, y_test, **score_params)\n",
            "  File \"/Users/marcellofelipelli/Documents/DataAnalyticsPortfolio/venv/lib/python3.9/site-packages/sklearn/metrics/_scorer.py\", line 279, in __call__\n",
            "    return self._score(partial(_cached_call, None), estimator, X, y_true, **_kwargs)\n",
            "  File \"/Users/marcellofelipelli/Documents/DataAnalyticsPortfolio/venv/lib/python3.9/site-packages/sklearn/metrics/_scorer.py\", line 376, in _score\n",
            "    return self._sign * self._score_func(y_true, y_pred, **scoring_kwargs)\n",
            "  File \"/Users/marcellofelipelli/Documents/DataAnalyticsPortfolio/venv/lib/python3.9/site-packages/sklearn/utils/_param_validation.py\", line 213, in wrapper\n",
            "    return func(*args, **kwargs)\n",
            "  File \"/Users/marcellofelipelli/Documents/DataAnalyticsPortfolio/venv/lib/python3.9/site-packages/sklearn/metrics/_classification.py\", line 2385, in recall_score\n",
            "    _, r, _, _ = precision_recall_fscore_support(\n",
            "  File \"/Users/marcellofelipelli/Documents/DataAnalyticsPortfolio/venv/lib/python3.9/site-packages/sklearn/utils/_param_validation.py\", line 186, in wrapper\n",
            "    return func(*args, **kwargs)\n",
            "  File \"/Users/marcellofelipelli/Documents/DataAnalyticsPortfolio/venv/lib/python3.9/site-packages/sklearn/metrics/_classification.py\", line 1789, in precision_recall_fscore_support\n",
            "    labels = _check_set_wise_labels(y_true, y_pred, average, labels, pos_label)\n",
            "  File \"/Users/marcellofelipelli/Documents/DataAnalyticsPortfolio/venv/lib/python3.9/site-packages/sklearn/metrics/_classification.py\", line 1578, in _check_set_wise_labels\n",
            "    raise ValueError(\n",
            "ValueError: Target is multiclass but average='binary'. Please choose another average setting, one of [None, 'micro', 'macro', 'weighted'].\n",
            "\n",
            "  warnings.warn(\n",
            "/Users/marcellofelipelli/Documents/DataAnalyticsPortfolio/venv/lib/python3.9/site-packages/imblearn/under_sampling/_prototype_selection/_nearmiss.py:203: UserWarning: The number of the samples to be selected is larger than the number of samples available. The balancing ratio cannot be ensure and all samples will be returned.\n",
            "  warnings.warn(\n",
            "/Users/marcellofelipelli/Documents/DataAnalyticsPortfolio/venv/lib/python3.9/site-packages/sklearn/model_selection/_validation.py:982: UserWarning: Scoring failed. The score on this train-test partition for these parameters will be set to nan. Details: \n",
            "Traceback (most recent call last):\n",
            "  File \"/Users/marcellofelipelli/Documents/DataAnalyticsPortfolio/venv/lib/python3.9/site-packages/sklearn/model_selection/_validation.py\", line 971, in _score\n",
            "    scores = scorer(estimator, X_test, y_test, **score_params)\n",
            "  File \"/Users/marcellofelipelli/Documents/DataAnalyticsPortfolio/venv/lib/python3.9/site-packages/sklearn/metrics/_scorer.py\", line 279, in __call__\n",
            "    return self._score(partial(_cached_call, None), estimator, X, y_true, **_kwargs)\n",
            "  File \"/Users/marcellofelipelli/Documents/DataAnalyticsPortfolio/venv/lib/python3.9/site-packages/sklearn/metrics/_scorer.py\", line 376, in _score\n",
            "    return self._sign * self._score_func(y_true, y_pred, **scoring_kwargs)\n",
            "  File \"/Users/marcellofelipelli/Documents/DataAnalyticsPortfolio/venv/lib/python3.9/site-packages/sklearn/utils/_param_validation.py\", line 213, in wrapper\n",
            "    return func(*args, **kwargs)\n",
            "  File \"/Users/marcellofelipelli/Documents/DataAnalyticsPortfolio/venv/lib/python3.9/site-packages/sklearn/metrics/_classification.py\", line 2385, in recall_score\n",
            "    _, r, _, _ = precision_recall_fscore_support(\n",
            "  File \"/Users/marcellofelipelli/Documents/DataAnalyticsPortfolio/venv/lib/python3.9/site-packages/sklearn/utils/_param_validation.py\", line 186, in wrapper\n",
            "    return func(*args, **kwargs)\n",
            "  File \"/Users/marcellofelipelli/Documents/DataAnalyticsPortfolio/venv/lib/python3.9/site-packages/sklearn/metrics/_classification.py\", line 1789, in precision_recall_fscore_support\n",
            "    labels = _check_set_wise_labels(y_true, y_pred, average, labels, pos_label)\n",
            "  File \"/Users/marcellofelipelli/Documents/DataAnalyticsPortfolio/venv/lib/python3.9/site-packages/sklearn/metrics/_classification.py\", line 1578, in _check_set_wise_labels\n",
            "    raise ValueError(\n",
            "ValueError: Target is multiclass but average='binary'. Please choose another average setting, one of [None, 'micro', 'macro', 'weighted'].\n",
            "\n",
            "  warnings.warn(\n",
            "/Users/marcellofelipelli/Documents/DataAnalyticsPortfolio/venv/lib/python3.9/site-packages/imblearn/under_sampling/_prototype_selection/_nearmiss.py:203: UserWarning: The number of the samples to be selected is larger than the number of samples available. The balancing ratio cannot be ensure and all samples will be returned.\n",
            "  warnings.warn(\n",
            "/Users/marcellofelipelli/Documents/DataAnalyticsPortfolio/venv/lib/python3.9/site-packages/sklearn/model_selection/_validation.py:982: UserWarning: Scoring failed. The score on this train-test partition for these parameters will be set to nan. Details: \n",
            "Traceback (most recent call last):\n",
            "  File \"/Users/marcellofelipelli/Documents/DataAnalyticsPortfolio/venv/lib/python3.9/site-packages/sklearn/model_selection/_validation.py\", line 971, in _score\n",
            "    scores = scorer(estimator, X_test, y_test, **score_params)\n",
            "  File \"/Users/marcellofelipelli/Documents/DataAnalyticsPortfolio/venv/lib/python3.9/site-packages/sklearn/metrics/_scorer.py\", line 279, in __call__\n",
            "    return self._score(partial(_cached_call, None), estimator, X, y_true, **_kwargs)\n",
            "  File \"/Users/marcellofelipelli/Documents/DataAnalyticsPortfolio/venv/lib/python3.9/site-packages/sklearn/metrics/_scorer.py\", line 376, in _score\n",
            "    return self._sign * self._score_func(y_true, y_pred, **scoring_kwargs)\n",
            "  File \"/Users/marcellofelipelli/Documents/DataAnalyticsPortfolio/venv/lib/python3.9/site-packages/sklearn/utils/_param_validation.py\", line 213, in wrapper\n",
            "    return func(*args, **kwargs)\n",
            "  File \"/Users/marcellofelipelli/Documents/DataAnalyticsPortfolio/venv/lib/python3.9/site-packages/sklearn/metrics/_classification.py\", line 2385, in recall_score\n",
            "    _, r, _, _ = precision_recall_fscore_support(\n",
            "  File \"/Users/marcellofelipelli/Documents/DataAnalyticsPortfolio/venv/lib/python3.9/site-packages/sklearn/utils/_param_validation.py\", line 186, in wrapper\n",
            "    return func(*args, **kwargs)\n",
            "  File \"/Users/marcellofelipelli/Documents/DataAnalyticsPortfolio/venv/lib/python3.9/site-packages/sklearn/metrics/_classification.py\", line 1789, in precision_recall_fscore_support\n",
            "    labels = _check_set_wise_labels(y_true, y_pred, average, labels, pos_label)\n",
            "  File \"/Users/marcellofelipelli/Documents/DataAnalyticsPortfolio/venv/lib/python3.9/site-packages/sklearn/metrics/_classification.py\", line 1578, in _check_set_wise_labels\n",
            "    raise ValueError(\n",
            "ValueError: Target is multiclass but average='binary'. Please choose another average setting, one of [None, 'micro', 'macro', 'weighted'].\n",
            "\n",
            "  warnings.warn(\n",
            "/Users/marcellofelipelli/Documents/DataAnalyticsPortfolio/venv/lib/python3.9/site-packages/imblearn/under_sampling/_prototype_selection/_nearmiss.py:203: UserWarning: The number of the samples to be selected is larger than the number of samples available. The balancing ratio cannot be ensure and all samples will be returned.\n",
            "  warnings.warn(\n",
            "/Users/marcellofelipelli/Documents/DataAnalyticsPortfolio/venv/lib/python3.9/site-packages/sklearn/model_selection/_validation.py:982: UserWarning: Scoring failed. The score on this train-test partition for these parameters will be set to nan. Details: \n",
            "Traceback (most recent call last):\n",
            "  File \"/Users/marcellofelipelli/Documents/DataAnalyticsPortfolio/venv/lib/python3.9/site-packages/sklearn/model_selection/_validation.py\", line 971, in _score\n",
            "    scores = scorer(estimator, X_test, y_test, **score_params)\n",
            "  File \"/Users/marcellofelipelli/Documents/DataAnalyticsPortfolio/venv/lib/python3.9/site-packages/sklearn/metrics/_scorer.py\", line 279, in __call__\n",
            "    return self._score(partial(_cached_call, None), estimator, X, y_true, **_kwargs)\n",
            "  File \"/Users/marcellofelipelli/Documents/DataAnalyticsPortfolio/venv/lib/python3.9/site-packages/sklearn/metrics/_scorer.py\", line 376, in _score\n",
            "    return self._sign * self._score_func(y_true, y_pred, **scoring_kwargs)\n",
            "  File \"/Users/marcellofelipelli/Documents/DataAnalyticsPortfolio/venv/lib/python3.9/site-packages/sklearn/utils/_param_validation.py\", line 213, in wrapper\n",
            "    return func(*args, **kwargs)\n",
            "  File \"/Users/marcellofelipelli/Documents/DataAnalyticsPortfolio/venv/lib/python3.9/site-packages/sklearn/metrics/_classification.py\", line 2385, in recall_score\n",
            "    _, r, _, _ = precision_recall_fscore_support(\n",
            "  File \"/Users/marcellofelipelli/Documents/DataAnalyticsPortfolio/venv/lib/python3.9/site-packages/sklearn/utils/_param_validation.py\", line 186, in wrapper\n",
            "    return func(*args, **kwargs)\n",
            "  File \"/Users/marcellofelipelli/Documents/DataAnalyticsPortfolio/venv/lib/python3.9/site-packages/sklearn/metrics/_classification.py\", line 1789, in precision_recall_fscore_support\n",
            "    labels = _check_set_wise_labels(y_true, y_pred, average, labels, pos_label)\n",
            "  File \"/Users/marcellofelipelli/Documents/DataAnalyticsPortfolio/venv/lib/python3.9/site-packages/sklearn/metrics/_classification.py\", line 1578, in _check_set_wise_labels\n",
            "    raise ValueError(\n",
            "ValueError: Target is multiclass but average='binary'. Please choose another average setting, one of [None, 'micro', 'macro', 'weighted'].\n",
            "\n",
            "  warnings.warn(\n",
            "/Users/marcellofelipelli/Documents/DataAnalyticsPortfolio/venv/lib/python3.9/site-packages/imblearn/under_sampling/_prototype_selection/_nearmiss.py:203: UserWarning: The number of the samples to be selected is larger than the number of samples available. The balancing ratio cannot be ensure and all samples will be returned.\n",
            "  warnings.warn(\n",
            "/Users/marcellofelipelli/Documents/DataAnalyticsPortfolio/venv/lib/python3.9/site-packages/sklearn/model_selection/_validation.py:982: UserWarning: Scoring failed. The score on this train-test partition for these parameters will be set to nan. Details: \n",
            "Traceback (most recent call last):\n",
            "  File \"/Users/marcellofelipelli/Documents/DataAnalyticsPortfolio/venv/lib/python3.9/site-packages/sklearn/model_selection/_validation.py\", line 971, in _score\n",
            "    scores = scorer(estimator, X_test, y_test, **score_params)\n",
            "  File \"/Users/marcellofelipelli/Documents/DataAnalyticsPortfolio/venv/lib/python3.9/site-packages/sklearn/metrics/_scorer.py\", line 279, in __call__\n",
            "    return self._score(partial(_cached_call, None), estimator, X, y_true, **_kwargs)\n",
            "  File \"/Users/marcellofelipelli/Documents/DataAnalyticsPortfolio/venv/lib/python3.9/site-packages/sklearn/metrics/_scorer.py\", line 376, in _score\n",
            "    return self._sign * self._score_func(y_true, y_pred, **scoring_kwargs)\n",
            "  File \"/Users/marcellofelipelli/Documents/DataAnalyticsPortfolio/venv/lib/python3.9/site-packages/sklearn/utils/_param_validation.py\", line 213, in wrapper\n",
            "    return func(*args, **kwargs)\n",
            "  File \"/Users/marcellofelipelli/Documents/DataAnalyticsPortfolio/venv/lib/python3.9/site-packages/sklearn/metrics/_classification.py\", line 2385, in recall_score\n",
            "    _, r, _, _ = precision_recall_fscore_support(\n",
            "  File \"/Users/marcellofelipelli/Documents/DataAnalyticsPortfolio/venv/lib/python3.9/site-packages/sklearn/utils/_param_validation.py\", line 186, in wrapper\n",
            "    return func(*args, **kwargs)\n",
            "  File \"/Users/marcellofelipelli/Documents/DataAnalyticsPortfolio/venv/lib/python3.9/site-packages/sklearn/metrics/_classification.py\", line 1789, in precision_recall_fscore_support\n",
            "    labels = _check_set_wise_labels(y_true, y_pred, average, labels, pos_label)\n",
            "  File \"/Users/marcellofelipelli/Documents/DataAnalyticsPortfolio/venv/lib/python3.9/site-packages/sklearn/metrics/_classification.py\", line 1578, in _check_set_wise_labels\n",
            "    raise ValueError(\n",
            "ValueError: Target is multiclass but average='binary'. Please choose another average setting, one of [None, 'micro', 'macro', 'weighted'].\n",
            "\n",
            "  warnings.warn(\n"
          ]
        }
      ],
      "source": [
        "from sklearn.model_selection import StratifiedKFold, cross_validate\n",
        "\n",
        "\n",
        "skf = StratifiedKFold(n_splits=5, shuffle = True, random_state = 5)\n",
        "cv_resultados = cross_validate(pipeline, x, y, cv=skf, scoring = 'recall')"
      ]
    },
    {
      "cell_type": "code",
      "execution_count": 39,
      "metadata": {},
      "outputs": [],
      "source": [
        "def intervalo_conf(resultados):\n",
        "    media = resultados['test_score'].mean()\n",
        "    desvio_padrao = resultados['test_score'].std()\n",
        "    print(f'Intervalo de confiança: [{media - 2*desvio_padrao}, {min(media + 2*desvio_padrao, 1)}]')"
      ]
    },
    {
      "cell_type": "code",
      "execution_count": 40,
      "metadata": {},
      "outputs": [
        {
          "name": "stdout",
          "output_type": "stream",
          "text": [
            "Intervalo de confiança: [nan, nan]\n"
          ]
        }
      ],
      "source": [
        "intervalo_conf(cv_resultados)"
      ]
    },
    {
      "cell_type": "code",
      "execution_count": 41,
      "metadata": {},
      "outputs": [],
      "source": [
        "# Dividir os dados em conjuntos de treinamento e teste\n",
        "X_train, X_Val, y_train, y_Val = train_test_split(x, y, test_size=0.2, random_state=42)"
      ]
    },
    {
      "cell_type": "code",
      "execution_count": 42,
      "metadata": {},
      "outputs": [
        {
          "data": {
            "text/plain": [
              "array([[1., 0., 0., ..., 0., 0., 0.],\n",
              "       [1., 0., 0., ..., 0., 0., 0.],\n",
              "       [1., 0., 0., ..., 0., 0., 0.],\n",
              "       ...,\n",
              "       [1., 0., 0., ..., 0., 0., 0.],\n",
              "       [1., 0., 0., ..., 0., 0., 0.],\n",
              "       [1., 0., 0., ..., 0., 0., 0.]])"
            ]
          },
          "execution_count": 42,
          "metadata": {},
          "output_type": "execute_result"
        }
      ],
      "source": [
        "X_train"
      ]
    },
    {
      "cell_type": "code",
      "execution_count": 43,
      "metadata": {},
      "outputs": [
        {
          "data": {
            "text/plain": [
              "array([2, 0, 2, ..., 2, 2, 2])"
            ]
          },
          "execution_count": 43,
          "metadata": {},
          "output_type": "execute_result"
        }
      ],
      "source": [
        "y_train"
      ]
    },
    {
      "cell_type": "code",
      "execution_count": 44,
      "metadata": {
        "id": "XSA-dwhezoX2"
      },
      "outputs": [],
      "source": [
        "#X_train_One = one_hot.fit_transform(X_train)"
      ]
    },
    {
      "cell_type": "code",
      "execution_count": 45,
      "metadata": {
        "colab": {
          "base_uri": "https://localhost:8080/"
        },
        "id": "Bpb3ZOD4Yxz_",
        "outputId": "8780f7f5-b6ae-4dbe-95d8-ddf6cdbd0d4d"
      },
      "outputs": [],
      "source": [
        "#one_hot.get_feature_names_out(colunas)"
      ]
    },
    {
      "cell_type": "code",
      "execution_count": 46,
      "metadata": {},
      "outputs": [],
      "source": [
        "#X_train_One"
      ]
    },
    {
      "cell_type": "markdown",
      "metadata": {
        "id": "MYausJTRXLSY"
      },
      "source": [
        "colums = [ 'Marital status' ,'Application mode' ,'Application order' ,'Course'\n",
        "        ,'Previous qualification' , 'Debtor',\n",
        "        'Tuition fees up to date', 'Gender', 'Scholarship holder',\n",
        "        'Age at enrollment', 'International','Inflation rate', 'GDP',\n",
        "        \"Mother's qualification\", \"Father's qualification\",'Displaced',\n",
        "        'Educational special needs', 'Debtor']"
      ]
    },
    {
      "cell_type": "code",
      "execution_count": 48,
      "metadata": {
        "id": "RZcpAACGWFt8"
      },
      "outputs": [
        {
          "name": "stderr",
          "output_type": "stream",
          "text": [
            "/Users/marcellofelipelli/Documents/DataAnalyticsPortfolio/venv/lib/python3.9/site-packages/sklearn/linear_model/_logistic.py:469: ConvergenceWarning: lbfgs failed to converge (status=1):\n",
            "STOP: TOTAL NO. of ITERATIONS REACHED LIMIT.\n",
            "\n",
            "Increase the number of iterations (max_iter) or scale the data as shown in:\n",
            "    https://scikit-learn.org/stable/modules/preprocessing.html\n",
            "Please also refer to the documentation for alternative solver options:\n",
            "    https://scikit-learn.org/stable/modules/linear_model.html#logistic-regression\n",
            "  n_iter_i = _check_optimize_result(\n",
            "/Users/marcellofelipelli/Documents/DataAnalyticsPortfolio/venv/lib/python3.9/site-packages/sklearn/linear_model/_logistic.py:469: ConvergenceWarning: lbfgs failed to converge (status=1):\n",
            "STOP: TOTAL NO. of ITERATIONS REACHED LIMIT.\n",
            "\n",
            "Increase the number of iterations (max_iter) or scale the data as shown in:\n",
            "    https://scikit-learn.org/stable/modules/preprocessing.html\n",
            "Please also refer to the documentation for alternative solver options:\n",
            "    https://scikit-learn.org/stable/modules/linear_model.html#logistic-regression\n",
            "  n_iter_i = _check_optimize_result(\n",
            "/Users/marcellofelipelli/Documents/DataAnalyticsPortfolio/venv/lib/python3.9/site-packages/sklearn/linear_model/_logistic.py:469: ConvergenceWarning: lbfgs failed to converge (status=1):\n",
            "STOP: TOTAL NO. of ITERATIONS REACHED LIMIT.\n",
            "\n",
            "Increase the number of iterations (max_iter) or scale the data as shown in:\n",
            "    https://scikit-learn.org/stable/modules/preprocessing.html\n",
            "Please also refer to the documentation for alternative solver options:\n",
            "    https://scikit-learn.org/stable/modules/linear_model.html#logistic-regression\n",
            "  n_iter_i = _check_optimize_result(\n",
            "/Users/marcellofelipelli/Documents/DataAnalyticsPortfolio/venv/lib/python3.9/site-packages/sklearn/linear_model/_logistic.py:469: ConvergenceWarning: lbfgs failed to converge (status=1):\n",
            "STOP: TOTAL NO. of ITERATIONS REACHED LIMIT.\n",
            "\n",
            "Increase the number of iterations (max_iter) or scale the data as shown in:\n",
            "    https://scikit-learn.org/stable/modules/preprocessing.html\n",
            "Please also refer to the documentation for alternative solver options:\n",
            "    https://scikit-learn.org/stable/modules/linear_model.html#logistic-regression\n",
            "  n_iter_i = _check_optimize_result(\n",
            "/Users/marcellofelipelli/Documents/DataAnalyticsPortfolio/venv/lib/python3.9/site-packages/sklearn/linear_model/_logistic.py:469: ConvergenceWarning: lbfgs failed to converge (status=1):\n",
            "STOP: TOTAL NO. of ITERATIONS REACHED LIMIT.\n",
            "\n",
            "Increase the number of iterations (max_iter) or scale the data as shown in:\n",
            "    https://scikit-learn.org/stable/modules/preprocessing.html\n",
            "Please also refer to the documentation for alternative solver options:\n",
            "    https://scikit-learn.org/stable/modules/linear_model.html#logistic-regression\n",
            "  n_iter_i = _check_optimize_result(\n"
          ]
        },
        {
          "name": "stdout",
          "output_type": "stream",
          "text": [
            "Best score: <bound method LogisticRegressionCV.score of LogisticRegressionCV(cv=5, random_state=42)>\n"
          ]
        }
      ],
      "source": [
        "\n",
        "from sklearn.model_selection import GridSearchCV\n",
        "from sklearn.linear_model import LogisticRegressionCV\n",
        "\n",
        "# Define the LogisticRegressionCV model\n",
        "model = LogisticRegressionCV(cv=5, random_state=42)\n",
        "\n",
        "model.fit(X_train, y_train)\n",
        "\n",
        "# Print the best parameters and best score\n",
        "print(\"Best score:\", model.score)\n",
        "\n",
        "\n"
      ]
    },
    {
      "cell_type": "code",
      "execution_count": 49,
      "metadata": {},
      "outputs": [
        {
          "ename": "NameError",
          "evalue": "name 'X_trainn' is not defined",
          "output_type": "error",
          "traceback": [
            "\u001b[0;31m---------------------------------------------------------------------------\u001b[0m",
            "\u001b[0;31mNameError\u001b[0m                                 Traceback (most recent call last)",
            "Cell \u001b[0;32mIn[49], line 4\u001b[0m\n\u001b[1;32m      1\u001b[0m \u001b[38;5;28;01mfrom\u001b[39;00m \u001b[38;5;21;01msklearn\u001b[39;00m\u001b[38;5;21;01m.\u001b[39;00m\u001b[38;5;21;01mmetrics\u001b[39;00m \u001b[38;5;28;01mimport\u001b[39;00m confusion_matrix\n\u001b[1;32m      2\u001b[0m \u001b[38;5;28;01mfrom\u001b[39;00m \u001b[38;5;21;01msklearn\u001b[39;00m\u001b[38;5;21;01m.\u001b[39;00m\u001b[38;5;21;01mmetrics\u001b[39;00m \u001b[38;5;28;01mimport\u001b[39;00m ConfusionMatrixDisplay\n\u001b[0;32m----> 4\u001b[0m y_previsto \u001b[38;5;241m=\u001b[39m model\u001b[38;5;241m.\u001b[39mpredict(\u001b[43mX_trainn\u001b[49m)\n\u001b[1;32m      5\u001b[0m matriz_confusao \u001b[38;5;241m=\u001b[39m confusion_matrix(y_train, y_previsto)\n\u001b[1;32m      6\u001b[0m \u001b[38;5;28mprint\u001b[39m(matriz_confusao)\n",
            "\u001b[0;31mNameError\u001b[0m: name 'X_trainn' is not defined"
          ]
        }
      ],
      "source": [
        "from sklearn.metrics import confusion_matrix\n",
        "from sklearn.metrics import ConfusionMatrixDisplay\n",
        "\n",
        "y_previsto = model.predict(X_trainn)\n",
        "matriz_confusao = confusion_matrix(y_train, y_previsto)\n",
        "print(matriz_confusao)"
      ]
    },
    {
      "cell_type": "code",
      "execution_count": null,
      "metadata": {},
      "outputs": [],
      "source": [
        "visualizacao = ConfusionMatrixDisplay(confusion_matrix = matriz_confusao)\n",
        "visualizacao.plot();"
      ]
    },
    {
      "cell_type": "markdown",
      "metadata": {
        "id": "zeQk5tjWH3Zp"
      },
      "source": [
        "numerical_features = ['Previous qualification (grade)',\"Admission grade\",\"Displaced\",\"Educational special needs\",\"Debtor\"\n",
        " ,\"Gender\",\"Tuition fees up to date\",\"Scholarship holder\",\"International\"\n",
        " ,\"Curricular units 1st sem (credited)\", \"Curricular units 1st sem (enrolled)\"\n",
        " ,\"Curricular units 1st sem (evaluations)\", \"Curricular units 1st sem (approved)\"\n",
        " ,\"Curricular units 1st sem (grade)\", \"Curricular units 1st sem (without evaluations)\"\n",
        " ,\"Curricular units 2nd sem (credited)\", \"Curricular units 2nd sem (enrolled)\"\n",
        " ,\"Curricular units 2nd sem (evaluations)\", \"Curricular units 2nd sem (approved)\"\n",
        " ,\"Curricular units 2nd sem (grade)\", \"Curricular units 2nd sem (without evaluations)\"\n",
        " ,\"Unemployment rate\", \"Inflation rate\",\"GDP\"]\n",
        "\n",
        "categorical_features = ['Marital status'\n",
        " ,'Application mode'\n",
        " ,'Application order'\n",
        " ,'Course'\n",
        " ,'Previous qualification'\n",
        " ,'Nacionality'\n",
        " ,\"Mother's qualification\"\n",
        " ,\"Father's qualification\"\n",
        " ,\"Mother's occupation\"\n",
        " ,\"Father's occupation\"\n",
        " ,\"Age at enrollment\"\n",
        " ]\n",
        "\n",
        "print(numerical_features)\n",
        "print(categorical_features)\n"
      ]
    },
    {
      "cell_type": "code",
      "execution_count": null,
      "metadata": {
        "id": "C8aAricK1wpR"
      },
      "outputs": [],
      "source": [
        "# prompt: Gerar codigo para treinamento utilizando o gridsearch baseado em LogisticRegressionCV, buscando melhor acurácia\n",
        "\n",
        "from sklearn.model_selection import GridSearchCV\n",
        "from sklearn.linear_model import LogisticRegressionCV\n",
        "\n",
        "# Define the LogisticRegressionCV model\n",
        "clf = LogisticRegressionCV(cv=5, random_state=42)\n",
        "\n",
        "# Define the parameter grid\n",
        "param_grid = {\n",
        "    'penalty': ['l1', 'l2', 'elasticnet', 'none'],\n",
        "    'Cs': [0.001, 0.01, 0.1, 1, 10, 100],\n",
        "    'solver': ['newton-cg', 'lbfgs', 'liblinear', 'sag', 'saga'],\n",
        "    'max_iter': [1, 3, 5, 10]\n",
        "}\n",
        "\n",
        "# Perform GridSearchCV\n",
        "grid_search = GridSearchCV(clf, param_grid, scoring='accuracy', cv=5)\n",
        "grid_search.fit(X_train_One, y_train_lbl)\n",
        "\n",
        "# Print the best parameters and best score\n",
        "print(\"Best parameters:\", grid_search.best_params_)\n",
        "print(\"Best score:\", grid_search.best_score_)\n",
        "\n",
        "\n"
      ]
    },
    {
      "cell_type": "code",
      "execution_count": null,
      "metadata": {},
      "outputs": [],
      "source": [
        "# Train the model with the best parameters\n",
        "clf = LogisticRegressionCV(cv=5, **grid_search.best_params_)\n",
        "clf.fit(X_train_One, y_train_lbl)\n",
        "\n",
        "# Evaluate the model on the test set\n",
        "y_pred = clf.predict(X_test)\n",
        "accuracy = accuracy_score(y_train_lbl, y_pred)\n",
        "print(\"Test accuracy:\", accuracy)"
      ]
    },
    {
      "cell_type": "code",
      "execution_count": null,
      "metadata": {
        "colab": {
          "background_save": true
        },
        "id": "4yhtUzGyH3Zr",
        "outputId": "a10fcfbe-011a-42dd-fa84-4255d232a68e"
      },
      "outputs": [],
      "source": [
        "import joblib\n",
        "\n",
        "joblib.dump(model, 'model_logistic.joblib')"
      ]
    },
    {
      "cell_type": "code",
      "execution_count": null,
      "metadata": {
        "colab": {
          "background_save": true
        },
        "id": "ReSa2RtFPwzZ",
        "outputId": "ab92f27b-7f29-45a4-cc33-f6816b04be3e"
      },
      "outputs": [],
      "source": [
        "# Exemplo de novos dados para previsão\n",
        "df_test = pd.read_csv('/content/test.csv')\n",
        "\n",
        "df_test.head()"
      ]
    },
    {
      "cell_type": "code",
      "execution_count": null,
      "metadata": {
        "colab": {
          "background_save": true
        },
        "id": "SBF3bhMkQB3t",
        "outputId": "6ed6086f-4d01-4c12-9d14-4915930f9e67"
      },
      "outputs": [],
      "source": [
        "df_test.isnull().sum()"
      ]
    },
    {
      "cell_type": "code",
      "execution_count": null,
      "metadata": {
        "colab": {
          "background_save": true
        },
        "id": "XRxzw-9CQ0H9"
      },
      "outputs": [],
      "source": [
        "df_test.fillna(df_test.median(), inplace=True)"
      ]
    },
    {
      "cell_type": "code",
      "execution_count": null,
      "metadata": {
        "colab": {
          "background_save": true
        },
        "id": "yfSaQgWDQ5dz"
      },
      "outputs": [],
      "source": [
        "X = df_test.copy()"
      ]
    },
    {
      "cell_type": "code",
      "execution_count": null,
      "metadata": {
        "colab": {
          "background_save": true
        },
        "id": "Q1Fiby3GTq2n"
      },
      "outputs": [],
      "source": []
    },
    {
      "cell_type": "code",
      "execution_count": null,
      "metadata": {
        "colab": {
          "background_save": true
        },
        "id": "liQJXoUBH3Zr"
      },
      "outputs": [],
      "source": [
        "# Carregar o modelo salvo\n",
        "model = joblib.load('model_logistic.joblib')\n",
        "\n"
      ]
    },
    {
      "cell_type": "code",
      "execution_count": null,
      "metadata": {
        "colab": {
          "background_save": true
        },
        "id": "beAEt1l_T6lr"
      },
      "outputs": [],
      "source": [
        "X['Ind_Target'] = None"
      ]
    },
    {
      "cell_type": "code",
      "execution_count": null,
      "metadata": {
        "colab": {
          "background_save": true
        },
        "id": "aElNO245H3Zr",
        "outputId": "17ecd41f-e3b9-4e1c-fcce-81d0d37ca0ef"
      },
      "outputs": [],
      "source": [
        "\n",
        "# Fazer previsões com o modelo carregado\n",
        "X['Ind_Target'] = model.predict(X)\n",
        "\n"
      ]
    },
    {
      "cell_type": "code",
      "execution_count": null,
      "metadata": {
        "colab": {
          "background_save": true
        },
        "id": "PV1606SgH3Zr"
      },
      "outputs": [],
      "source": []
    }
  ],
  "metadata": {
    "colab": {
      "machine_shape": "hm",
      "provenance": []
    },
    "kernelspec": {
      "display_name": "Python 3",
      "name": "python3"
    },
    "language_info": {
      "codemirror_mode": {
        "name": "ipython",
        "version": 3
      },
      "file_extension": ".py",
      "mimetype": "text/x-python",
      "name": "python",
      "nbconvert_exporter": "python",
      "pygments_lexer": "ipython3",
      "version": "3.9.6"
    }
  },
  "nbformat": 4,
  "nbformat_minor": 0
}
